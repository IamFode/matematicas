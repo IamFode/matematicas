{
 "cells": [
  {
   "cell_type": "markdown",
   "id": "e3dcc614-5ff1-4840-a6e7-c66f790437d2",
   "metadata": {},
   "source": [
    "# Análisis de Sentimientos Periodico Página Siete "
   ]
  },
  {
   "cell_type": "code",
   "execution_count": 31,
   "id": "e82d0a0c-824c-46df-a43f-7e3f31d83900",
   "metadata": {},
   "outputs": [],
   "source": [
    "# Librerias\n",
    "import pandas as pd\n",
    "import json\n",
    "from datetime import datetime"
   ]
  },
  {
   "cell_type": "code",
   "execution_count": null,
   "id": "f116c07e-de78-45fd-8c0e-021cca49227c",
   "metadata": {},
   "outputs": [],
   "source": [
    "f = open('data/paginaSiete.json')\n",
    "data = json.load(f)\n",
    "title, date, hour = [],[],[]\n",
    "for i in data:\n",
    "    for r in i[\"titulo\"]:\n",
    "        title.append(r)\n",
    "    for s in i[\"fecha\"]:\n",
    "        date.append(s)\n",
    "    for t in i[\"hora\"]:\n",
    "        hour.append(t)"
   ]
  },
  {
   "cell_type": "code",
   "execution_count": 45,
   "id": "a7995812-34e5-418a-95af-84956c41a889",
   "metadata": {},
   "outputs": [],
   "source": [
    "for i in range(len(hour)):\n",
    "    datetime.strptime(hour[i],'%H:%M').time()"
   ]
  },
  {
   "cell_type": "code",
   "execution_count": null,
   "id": "c3fcb9ba-ff13-477e-8f50-56be27eaa1a2",
   "metadata": {},
   "outputs": [],
   "source": [
    "data[1][\"titulo\"]"
   ]
  },
  {
   "cell_type": "code",
   "execution_count": null,
   "id": "f6fa0ca1-f440-41a5-b040-b7bbd93074c1",
   "metadata": {},
   "outputs": [],
   "source": []
  }
 ],
 "metadata": {
  "kernelspec": {
   "display_name": "Python 3",
   "language": "python",
   "name": "python3"
  },
  "language_info": {
   "codemirror_mode": {
    "name": "ipython",
    "version": 3
   },
   "file_extension": ".py",
   "mimetype": "text/x-python",
   "name": "python",
   "nbconvert_exporter": "python",
   "pygments_lexer": "ipython3",
   "version": "3.10.6"
  }
 },
 "nbformat": 4,
 "nbformat_minor": 5
}
