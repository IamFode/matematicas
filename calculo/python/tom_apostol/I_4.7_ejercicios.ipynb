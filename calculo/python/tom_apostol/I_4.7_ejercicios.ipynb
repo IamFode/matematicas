{
 "cells": [
  {
   "cell_type": "markdown",
   "metadata": {},
   "source": []
  },
  {
   "cell_type": "markdown",
   "metadata": {},
   "source": [
    "<h1>I 4.7 Ejercicios</h1>"
   ]
  },
  {
   "cell_type": "markdown",
   "metadata": {},
   "source": [
    "<h2>1.</h2>"
   ]
  },
  {
   "cell_type": "markdown",
   "metadata": {},
   "source": [
    "<h4>(a)</h4>\n",
    "$$\\sum\\limits_{k=1}^4 k$$"
   ]
  },
  {
   "cell_type": "code",
   "execution_count": 2,
   "metadata": {},
   "outputs": [
    {
     "name": "stdout",
     "output_type": "stream",
     "text": [
      "10\n"
     ]
    }
   ],
   "source": [
    "def serie1a():\n",
    "    control = 0\n",
    "    for k in range(1,5):\n",
    "        control += k\n",
    "    print(control)\n",
    "\n",
    "#ejemplos\n",
    "serie1a()"
   ]
  },
  {
   "cell_type": "markdown",
   "metadata": {},
   "source": [
    "<h4>(b)</h4>\n",
    "$$\\sum\\limits_{n=2}^5 2^{n-2}$$"
   ]
  },
  {
   "cell_type": "code",
   "execution_count": 116,
   "metadata": {},
   "outputs": [],
   "source": [
    "def serie1b():\n",
    "    control = 0\n",
    "    for n in range(2,6):\n",
    "        control += 2**(n-2)\n",
    "    print(control)"
   ]
  },
  {
   "cell_type": "markdown",
   "metadata": {},
   "source": [
    "<h4>(c)</h4>\n",
    "$$\\sum\\limits_{r=0}^3 2^{2r+1}$$"
   ]
  },
  {
   "cell_type": "code",
   "execution_count": 121,
   "metadata": {},
   "outputs": [],
   "source": [
    "def serie1c():\n",
    "    control = 0\n",
    "    for r in range(3+1):\n",
    "        control += 2**(2*r+1)\n",
    "    print(control)"
   ]
  },
  {
   "cell_type": "markdown",
   "metadata": {},
   "source": [
    "<h4>(d)</h4>\n",
    "$$\\sum\\limits_{n=1}^4 n^n$$"
   ]
  },
  {
   "cell_type": "code",
   "execution_count": 123,
   "metadata": {},
   "outputs": [],
   "source": [
    "def serie1d():\n",
    "    control = 0\n",
    "    for n in range(1,4+1):\n",
    "        control += n**n\n",
    "    print(control)"
   ]
  },
  {
   "cell_type": "markdown",
   "metadata": {},
   "source": [
    "<h4>(e)</h4>\n",
    "$$\\sum\\limits_{i=0}^5 (2i + 1)$$"
   ]
  },
  {
   "cell_type": "code",
   "execution_count": null,
   "metadata": {},
   "outputs": [],
   "source": [
    "def serie1e():\n",
    "    control = 0\n",
    "    for i in range(5+1):\n",
    "        control += 2*i+1\n",
    "    print(control)"
   ]
  },
  {
   "cell_type": "markdown",
   "metadata": {},
   "source": [
    "<h4>(f)</h4>\n",
    "$$\\sum\\limits_{k=1}^5 \\dfrac{1}{k(k+1)}$$"
   ]
  },
  {
   "cell_type": "code",
   "execution_count": 125,
   "metadata": {},
   "outputs": [],
   "source": [
    "def serie1e():\n",
    "    control = 0\n",
    "    for k in range(1,5+1):\n",
    "        control += 1/(k*(k+1))\n",
    "    print(control)"
   ]
  },
  {
   "cell_type": "markdown",
   "metadata": {},
   "source": [
    "<h2>3.</h2>\n",
    "$$\\sum\\limits_{k=1}^n 1 = n $$"
   ]
  },
  {
   "cell_type": "code",
   "execution_count": 9,
   "metadata": {},
   "outputs": [],
   "source": [
    "def serie3(final):\n",
    "    control = 0\n",
    "    for k in range(1,final+1):\n",
    "        control += 1\n",
    "    res = final\n",
    "    print(res , ' = ',control)"
   ]
  },
  {
   "cell_type": "markdown",
   "metadata": {},
   "source": [
    "<h2>4.</h2>\n",
    "$$\\sum\\limits_{k=1}^{n} (2k-1) =n^2$$"
   ]
  },
  {
   "cell_type": "code",
   "execution_count": 76,
   "metadata": {},
   "outputs": [],
   "source": [
    "def serie4(n):\n",
    "    control = 0\n",
    "    for k in range(1, n + 1):\n",
    "        control += 2*k - 1\n",
    "    res = final**2    \n",
    "    print(control, ' = ', res)"
   ]
  },
  {
   "cell_type": "markdown",
   "metadata": {},
   "source": [
    "<h2>5.</h2>\n",
    "$$\\sum\\limits_{k=1}^n k = \\dfrac{n^2}{2} + \\dfrac{n}{2}$$"
   ]
  },
  {
   "cell_type": "code",
   "execution_count": 94,
   "metadata": {},
   "outputs": [],
   "source": [
    "def serie5(n):\n",
    "    control = 0\n",
    "    for k in range(1,n+1):\n",
    "        control += k \n",
    "    res = int(((n**2)/2) + (n/2))\n",
    "    print(control,' = ',res)"
   ]
  },
  {
   "cell_type": "markdown",
   "metadata": {},
   "source": [
    "<h2>6.</h2>\n",
    "$$\\sum\\limits_{k=1}^n k^2 = \\dfrac{n^3}{3} + \\dfrac{n^2}{2} + \\dfrac{n}{6}$$"
   ]
  },
  {
   "cell_type": "code",
   "execution_count": 110,
   "metadata": {},
   "outputs": [],
   "source": [
    "def serie6(n):\n",
    "    control = 0\n",
    "    for k in range(1, n+1):\n",
    "        control += k**2\n",
    "    res = ((n**3)/3)+((n**2)/2)+(n/6)\n",
    "    print(control, ' = ',round(res))"
   ]
  },
  {
   "cell_type": "markdown",
   "metadata": {},
   "source": [
    "<h2>7.</h2>\n",
    "$$\\sum\\limits_{k=1}^n k^3 = \\dfrac{n^4}{4} + \\dfrac{n^3}{2} + \\dfrac{n^2}{4} $$"
   ]
  },
  {
   "cell_type": "code",
   "execution_count": null,
   "metadata": {},
   "outputs": [],
   "source": []
  },
  {
   "cell_type": "markdown",
   "metadata": {},
   "source": [
    "<h2>8.</h2> "
   ]
  },
  {
   "cell_type": "markdown",
   "metadata": {},
   "source": [
    "<h4>a)</h4>\n",
    "$$\\sum\\limits_{k=0}^n x^k = \\dfrac{1-x^{n+1}}{1-x}$$"
   ]
  },
  {
   "cell_type": "code",
   "execution_count": 17,
   "metadata": {},
   "outputs": [],
   "source": [
    "def serie8a(x,final):\n",
    "    if x != 1:\n",
    "        control = 0\n",
    "        for k in range(final + 1):\n",
    "            control += x**k\n",
    "        res = int((1-x**(final+1))/(1-x))\n",
    "        print(control, ' = ', res)\n",
    "    else:\n",
    "        print(\"x no puede ser 1\")"
   ]
  },
  {
   "cell_type": "markdown",
   "metadata": {},
   "source": [
    "<h4>b)<h4>\n",
    "$$\\sum\\limits_{k=0}^n x^k = n+1$$"
   ]
  },
  {
   "cell_type": "code",
   "execution_count": 27,
   "metadata": {},
   "outputs": [],
   "source": [
    "def serie8b(inicio):\n",
    "    control = 0\n",
    "    for n in range(inicio + 1):\n",
    "        control += 1**n\n",
    "    res = inicio + 1 \n",
    "    print(control, ' = ',res)"
   ]
  },
  {
   "cell_type": "markdown",
   "metadata": {},
   "source": [
    "<h2>9.</h2>\n",
    "$$\\sum\\limits_{k=1}^{2n} (-1)^k (2k+1)$$"
   ]
  },
  {
   "cell_type": "code",
   "execution_count": 111,
   "metadata": {},
   "outputs": [],
   "source": [
    "def serie9(final):\n",
    "    control = 0\n",
    "    for k in range(1,2*final + 1):\n",
    "        control += (-1)**k * (2*k + 1)\n",
    "    return control"
   ]
  },
  {
   "cell_type": "markdown",
   "metadata": {},
   "source": [
    "<h2>10.</h2>\n",
    "<h4>a)</h4>\n",
    "$$\\sum\\limits_{k=m}^{m+n} a_k$$"
   ]
  },
  {
   "cell_type": "code",
   "execution_count": 13,
   "metadata": {},
   "outputs": [],
   "source": [
    "def serie10a(m,final):\n",
    "    control = []\n",
    "    for n in range(m,m + (final +1)):\n",
    "        control.append(n)\n",
    "    return control"
   ]
  },
  {
   "cell_type": "markdown",
   "metadata": {},
   "source": [
    "<h4>b)</h4>\n",
    "$$\\sum\\limits_{k=n+1}^{2n} \\dfrac{1}{k}= \\sum\\limits_{m=1}^{2n} \\dfrac{(-1)^{m+1}}{m}$$"
   ]
  },
  {
   "cell_type": "code",
   "execution_count": 115,
   "metadata": {},
   "outputs": [
    {
     "name": "stdout",
     "output_type": "stream",
     "text": [
      "0.5833333333333333  =  0.5833333333333333\n"
     ]
    }
   ],
   "source": [
    "def serie10b(n,m):\n",
    "    control, control1 = 0,0\n",
    "    for k in range(n+1,(2*n)+1):\n",
    "        control += 1/k\n",
    "    for m in range(1,(2*n)+1):\n",
    "        control1 += ((-1)**(m+1))/m\n",
    "    print(control,' = ', control1)\n",
    "serie10b(2,3)"
   ]
  },
  {
   "cell_type": "markdown",
   "metadata": {},
   "source": [
    "<h2>11</h2>\n",
    "<h4>(a)</h4>\n",
    "$$\\sum\\limits_{n=0}^{100} n^4 = \\sum\\limits_{n=1}^{100} n^4$$"
   ]
  },
  {
   "cell_type": "code",
   "execution_count": 110,
   "metadata": {},
   "outputs": [
    {
     "name": "stdout",
     "output_type": "stream",
     "text": [
      "2050333330  =  2050333330\n"
     ]
    }
   ],
   "source": [
    "def serie11a(final=100):\n",
    "    control, cont = 0,0\n",
    "    for n in range(final + 1):\n",
    "        control += n**4\n",
    "        cont  += n**4\n",
    "    print(control, ' = ', cont)\n",
    "serie11a()"
   ]
  },
  {
   "cell_type": "markdown",
   "metadata": {},
   "source": [
    "<h4>(b)</h4>\n",
    "$$\\sum\\limits_{j=0}^{100} 2= 200$$"
   ]
  },
  {
   "cell_type": "code",
   "execution_count": 22,
   "metadata": {},
   "outputs": [
    {
     "name": "stdout",
     "output_type": "stream",
     "text": [
      "202  =  200\n"
     ]
    }
   ],
   "source": [
    "def serie11b(final=100):\n",
    "    control = 0\n",
    "    for k in range(final+1):\n",
    "        control += 2\n",
    "    print(control , ' = ',200)\n",
    "    \n",
    "serie11b()    "
   ]
  },
  {
   "cell_type": "markdown",
   "metadata": {},
   "source": [
    "<h4>(c)</h4>\n",
    "$$\\sum\\limits_{k=0}^{100} (2+k) = 2 + \\sum\\limits_{k=0}^{100} k$$"
   ]
  },
  {
   "cell_type": "code",
   "execution_count": 116,
   "metadata": {},
   "outputs": [
    {
     "name": "stdout",
     "output_type": "stream",
     "text": [
      "5252  =  5052\n"
     ]
    }
   ],
   "source": [
    "def serie11c(final = 100):\n",
    "    control, con = 0,0\n",
    "    for k in range(final + 1):\n",
    "        control += 2 + k\n",
    "        con += k\n",
    "    print(control, ' = ', con + 2)\n",
    "serie11c()"
   ]
  },
  {
   "cell_type": "markdown",
   "metadata": {},
   "source": [
    "<h4>(d)</h4>\n",
    "$$\\sum\\limits_{i=1}^{100} (i+1)^2 = \\sum\\limits_{i=0}^{99} i^2$$"
   ]
  },
  {
   "cell_type": "code",
   "execution_count": 77,
   "metadata": {},
   "outputs": [
    {
     "name": "stdout",
     "output_type": "stream",
     "text": [
      "348550  =  328350\n"
     ]
    }
   ],
   "source": [
    "def serie11d(final=100):\n",
    "    control, con = 0,0\n",
    "    for i in range(1,final+1):\n",
    "        control += (i+1)**2\n",
    "    for s in range(final):\n",
    "        con += s**2\n",
    "    print(control, ' = ', con)\n",
    "serie11d()"
   ]
  },
  {
   "cell_type": "markdown",
   "metadata": {},
   "source": [
    "<h4>(e)</h4>\n",
    "$$\\sum_{k=1}^{100} k^3 = \\left( \\sum_{k=1}^{100} k \\right)\\cdot \\left(  \\sum_{k=1}^{100} k^2 \\right)$$"
   ]
  },
  {
   "cell_type": "code",
   "execution_count": 117,
   "metadata": {},
   "outputs": [
    {
     "name": "stdout",
     "output_type": "stream",
     "text": [
      "25502500  =  1708667500\n"
     ]
    }
   ],
   "source": [
    "def serie11e(final = 100):\n",
    "    control, con, cont = 0,0,0\n",
    "    for k in range(1,final + 1):\n",
    "        control += k**3\n",
    "        con += k\n",
    "        cont += k**2  \n",
    "    print(control, ' = ', con * cont)\n",
    "serie11e()"
   ]
  },
  {
   "cell_type": "markdown",
   "metadata": {},
   "source": [
    "<h4>(f)</h4>\n",
    "$$\\sum_{k=0}^{100} k^3 = \\left( \\sum_{k=0}^{100} k \\right) ^3$$"
   ]
  },
  {
   "cell_type": "code",
   "execution_count": 1,
   "metadata": {},
   "outputs": [
    {
     "name": "stdout",
     "output_type": "stream",
     "text": [
      "25502500  =  128787625000\n"
     ]
    }
   ],
   "source": [
    "def serie11f(final =100):\n",
    "    control,con = 0,0\n",
    "    for k in range(final+1):\n",
    "        control += k**3\n",
    "        con += k\n",
    "    print(control, ' = ', con**3)\n",
    "serie11f()"
   ]
  },
  {
   "cell_type": "markdown",
   "metadata": {},
   "source": [
    "<h2>12</h2>\n",
    "$$\\sum_{k=1}^n \\dfrac{1}{k(k+1)} = \\dfrac{k}{k+1}$$"
   ]
  },
  {
   "cell_type": "code",
   "execution_count": 22,
   "metadata": {},
   "outputs": [
    {
     "name": "stdout",
     "output_type": "stream",
     "text": [
      "0.9523809523809522  =  0.9523809523809523\n"
     ]
    }
   ],
   "source": [
    "def serie12(final):\n",
    "    control = 0\n",
    "    for k in range(1,final+1):\n",
    "        control += 1 / (k*(k+1))\n",
    "    res = final/(final+1)\n",
    "    print(control, ' = ', res)\n",
    "serie12(20)"
   ]
  },
  {
   "cell_type": "markdown",
   "metadata": {},
   "source": [
    "<h2>13</h2>\n",
    "$$2\\sqrt{m} - 2 < \\sum_{n=1}^m \\dfrac{1}{\\sqrt(n)} < 2 \\sqrt{m} - 1$$\n",
    "para $m\\geq 2$"
   ]
  },
  {
   "cell_type": "code",
   "execution_count": 31,
   "metadata": {},
   "outputs": [
    {
     "name": "stdout",
     "output_type": "stream",
     "text": [
      "4.324555320336759  <  5.0209978992926665  <  5.324555320336759\n"
     ]
    }
   ],
   "source": [
    "def serie13(final):\n",
    "    control=0\n",
    "    for n in range(1,final+1):\n",
    "        control += 1 / (n**(1/2))\n",
    "    izq = 2*(final**(1/2)) - 2\n",
    "    der = 2*(final**(1/2)) - 1\n",
    "    print(izq, \" < \", control, \" < \", der)\n",
    "serie13(10)"
   ]
  }
 ],
 "metadata": {
  "kernelspec": {
   "display_name": "Python 3",
   "language": "python",
   "name": "python3"
  },
  "language_info": {
   "codemirror_mode": {
    "name": "ipython",
    "version": 3
   },
   "file_extension": ".py",
   "mimetype": "text/x-python",
   "name": "python",
   "nbconvert_exporter": "python",
   "pygments_lexer": "ipython3",
   "version": "3.6.8"
  }
 },
 "nbformat": 4,
 "nbformat_minor": 4
}
