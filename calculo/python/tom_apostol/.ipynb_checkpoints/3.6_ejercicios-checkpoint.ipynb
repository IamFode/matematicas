{
 "cells": [
  {
   "cell_type": "markdown",
   "id": "0d173ccf-d1d3-4357-9187-2de9eaf5b12c",
   "metadata": {},
   "source": [
    "# 3.6 Ejercicios"
   ]
  },
  {
   "cell_type": "code",
   "execution_count": 4,
   "id": "9e7ff45b-51ee-4409-9b1f-7a20f372b838",
   "metadata": {},
   "outputs": [],
   "source": [
    "# library\n",
    "from sympy import limit, Symbol, tan, sin, cos"
   ]
  },
  {
   "cell_type": "markdown",
   "id": "02aec884-cbf0-4c18-a884-246835910d8b",
   "metadata": {},
   "source": [
    "## 1."
   ]
  },
  {
   "cell_type": "code",
   "execution_count": 6,
   "id": "65b4b767-4628-439b-b5c3-5f5ca4ba4ec1",
   "metadata": {},
   "outputs": [
    {
     "data": {
      "text/latex": [
       "$\\displaystyle \\frac{1}{4}$"
      ],
      "text/plain": [
       "1/4"
      ]
     },
     "execution_count": 6,
     "metadata": {},
     "output_type": "execute_result"
    }
   ],
   "source": [
    "x = Symbol('x')\n",
    "y = 1/(x**2)\n",
    "limit(y,x,2)"
   ]
  },
  {
   "cell_type": "markdown",
   "id": "f0c87499-f75a-43d2-9a9e-af94fdfe1e15",
   "metadata": {},
   "source": [
    "## 2."
   ]
  },
  {
   "cell_type": "code",
   "execution_count": 10,
   "id": "e3408323-069c-4477-91f5-8d94947da0c1",
   "metadata": {},
   "outputs": [
    {
     "data": {
      "text/latex": [
       "$\\displaystyle -1$"
      ],
      "text/plain": [
       "-1"
      ]
     },
     "execution_count": 10,
     "metadata": {},
     "output_type": "execute_result"
    }
   ],
   "source": [
    "x = Symbol('x')\n",
    "y = (25*x**3 + 2)/(75*x**7 - 2)\n",
    "limit(y,x,0)"
   ]
  },
  {
   "cell_type": "markdown",
   "id": "120477c9-3406-43f2-9eb6-dbf1f697760a",
   "metadata": {},
   "source": [
    "# 3."
   ]
  },
  {
   "cell_type": "code",
   "execution_count": 3,
   "id": "d5c538ba-381d-48af-bbc0-92f9bb09b90d",
   "metadata": {},
   "outputs": [
    {
     "data": {
      "text/latex": [
       "$\\displaystyle 4$"
      ],
      "text/plain": [
       "4"
      ]
     },
     "execution_count": 3,
     "metadata": {},
     "output_type": "execute_result"
    }
   ],
   "source": [
    "x = Symbol('x')\n",
    "y = (x**2 - 4) / (x-2)\n",
    "limit(y,x,2)"
   ]
  },
  {
   "cell_type": "markdown",
   "id": "0ae6f63c-91a9-4ff0-ac89-c2ba52b0edff",
   "metadata": {},
   "source": [
    "# 4."
   ]
  },
  {
   "cell_type": "code",
   "execution_count": 4,
   "id": "e7b7af04-86ad-4e67-ab8b-98df1bae27ae",
   "metadata": {},
   "outputs": [
    {
     "data": {
      "text/latex": [
       "$\\displaystyle 1$"
      ],
      "text/plain": [
       "1"
      ]
     },
     "execution_count": 4,
     "metadata": {},
     "output_type": "execute_result"
    }
   ],
   "source": [
    "x = Symbol('x')\n",
    "y = (2*x**2 - 3*x + 1) / (x-1)\n",
    "limit(y,x,1)"
   ]
  },
  {
   "cell_type": "markdown",
   "id": "93c6a7fe-14db-4022-9505-0402a33efdc3",
   "metadata": {},
   "source": [
    "# 9."
   ]
  },
  {
   "cell_type": "code",
   "execution_count": 16,
   "id": "d555dfe0-ed82-4ea8-bf10-065ae871aeec",
   "metadata": {},
   "outputs": [
    {
     "data": {
      "text/latex": [
       "$\\displaystyle 0$"
      ],
      "text/plain": [
       "0"
      ]
     },
     "execution_count": 16,
     "metadata": {},
     "output_type": "execute_result"
    }
   ],
   "source": [
    "x = Symbol('x')\n",
    "y = tan(x)\n",
    "limit(y,x,0)"
   ]
  },
  {
   "cell_type": "markdown",
   "id": "534c3816-0b4a-41b5-b305-0bd54cc74a6b",
   "metadata": {},
   "source": [
    "# 10.\n"
   ]
  },
  {
   "cell_type": "code",
   "execution_count": 7,
   "id": "49a0af56-69fd-450f-85ec-bd4cc56b7fe2",
   "metadata": {},
   "outputs": [
    {
     "data": {
      "text/latex": [
       "$\\displaystyle 0$"
      ],
      "text/plain": [
       "0"
      ]
     },
     "execution_count": 7,
     "metadata": {},
     "output_type": "execute_result"
    }
   ],
   "source": [
    "x = Symbol('x')\n",
    "y = sin(2*x) + x**2 * cos(5*x)\n",
    "limit(y,x,0)"
   ]
  },
  {
   "cell_type": "markdown",
   "id": "80b6df39-2ca6-417f-a2cb-d5083b9ce627",
   "metadata": {},
   "source": [
    "# 11."
   ]
  },
  {
   "cell_type": "code",
   "execution_count": 9,
   "id": "f39df760-dcc4-488a-9cb9-d4c17eabb9ef",
   "metadata": {},
   "outputs": [
    {
     "data": {
      "text/latex": [
       "$\\displaystyle 1$"
      ],
      "text/plain": [
       "1"
      ]
     },
     "execution_count": 9,
     "metadata": {},
     "output_type": "execute_result"
    }
   ],
   "source": [
    "x = Symbol('x')\n",
    "y = abs(x) / x\n",
    "limit(y,x,0,'+')"
   ]
  },
  {
   "cell_type": "markdown",
   "id": "1db5b6b8-a51a-4ef4-9edd-29020d29acc2",
   "metadata": {},
   "source": [
    "# 12."
   ]
  },
  {
   "cell_type": "code",
   "execution_count": 11,
   "id": "d666c01b-48a4-4c7e-822e-e3d518105bd6",
   "metadata": {},
   "outputs": [
    {
     "data": {
      "text/latex": [
       "$\\displaystyle -1$"
      ],
      "text/plain": [
       "-1"
      ]
     },
     "execution_count": 11,
     "metadata": {},
     "output_type": "execute_result"
    }
   ],
   "source": [
    "x = Symbol('x')\n",
    "y = abs(x) / x\n",
    "limit(y,x,0,'-')"
   ]
  },
  {
   "cell_type": "markdown",
   "id": "b6f2fa27-220a-44ce-bc0b-0b4a93a1f48e",
   "metadata": {},
   "source": [
    "# 13.\n"
   ]
  },
  {
   "cell_type": "code",
   "execution_count": 14,
   "id": "dab22a54-eba8-43c3-bbdd-fc920ed2d60f",
   "metadata": {},
   "outputs": [
    {
     "data": {
      "text/latex": [
       "$\\displaystyle 1$"
      ],
      "text/plain": [
       "1"
      ]
     },
     "execution_count": 14,
     "metadata": {},
     "output_type": "execute_result"
    }
   ],
   "source": [
    "x = Symbol('x')\n",
    "y = ((x**2)**(1/2)) / x\n",
    "limit(y,x,0,'+')"
   ]
  },
  {
   "cell_type": "markdown",
   "id": "4d22afde-6ba2-4933-82c9-e4dfb17e3955",
   "metadata": {},
   "source": [
    "# 14."
   ]
  },
  {
   "cell_type": "code",
   "execution_count": 15,
   "id": "4dd724e2-8d7a-4fc7-ad39-f758b5fef287",
   "metadata": {},
   "outputs": [
    {
     "data": {
      "text/latex": [
       "$\\displaystyle -1$"
      ],
      "text/plain": [
       "-1"
      ]
     },
     "execution_count": 15,
     "metadata": {},
     "output_type": "execute_result"
    }
   ],
   "source": [
    "x = Symbol('x')\n",
    "y = ((x**2)**(1/2)) / x\n",
    "limit(y,x,0,'-')"
   ]
  }
 ],
 "metadata": {
  "kernelspec": {
   "display_name": "Python 3",
   "language": "python",
   "name": "python3"
  },
  "language_info": {
   "codemirror_mode": {
    "name": "ipython",
    "version": 3
   },
   "file_extension": ".py",
   "mimetype": "text/x-python",
   "name": "python",
   "nbconvert_exporter": "python",
   "pygments_lexer": "ipython3",
   "version": "3.8.10"
  }
 },
 "nbformat": 4,
 "nbformat_minor": 5
}
