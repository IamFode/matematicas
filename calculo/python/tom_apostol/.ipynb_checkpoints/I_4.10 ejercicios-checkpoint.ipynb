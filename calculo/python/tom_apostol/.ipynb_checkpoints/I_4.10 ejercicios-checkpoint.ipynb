{
 "cells": [
  {
   "cell_type": "markdown",
   "metadata": {},
   "source": [
    "<h1>Ejercicios varios referentes al método de inducción</h1>\n",
    "<h2>Coeficiente factorial y binomial</h2>\n",
    "Si $0 \\leq k \\leq n$ en el coeficiente binomial ${n \\choose k}$ se define por \n",
    "$${n \\choose k} = \\dfrac{n!}{k!(n-k)!}$$"
   ]
  },
  {
   "cell_type": "code",
   "execution_count": 2,
   "metadata": {},
   "outputs": [
    {
     "name": "stdout",
     "output_type": "stream",
     "text": [
      "5852925\n",
      "k debe ser igual o mayor a n y mayor o igual a 0\n",
      "1\n"
     ]
    }
   ],
   "source": [
    "def bin(n,k):\n",
    "    ene, ka, n_k = 1,1,1\n",
    "    if k>=0 and k <= n:\n",
    "        for x in range(1,n+1):\n",
    "            ene *= x\n",
    "        for y in range(1,k+1):\n",
    "            ka *= y\n",
    "        for z in range(1,(n-k)+1):\n",
    "            n_k *= z\n",
    "        print(int(ene/(ka*n_k)))\n",
    "    else:\n",
    "        print(\"k debe ser igual o mayor a n y mayor o igual a 0\")\n",
    "\n",
    "#ejemplos\n",
    "bin(30,22)\n",
    "bin(2,8)\n",
    "bin(2,0)"
   ]
  },
  {
   "cell_type": "markdown",
   "metadata": {},
   "source": [
    "<h2>1.</h2>\n",
    "<h3>(a)</h3>\n",
    "$${5 \\choose 3}$$"
   ]
  },
  {
   "cell_type": "code",
   "execution_count": 33,
   "metadata": {},
   "outputs": [
    {
     "name": "stdout",
     "output_type": "stream",
     "text": [
      "10\n"
     ]
    }
   ],
   "source": [
    "bin(5,3)"
   ]
  },
  {
   "cell_type": "markdown",
   "metadata": {},
   "source": [
    "<h3>(b)</h3>\n",
    "$${7 \\choose 0}$$"
   ]
  },
  {
   "cell_type": "code",
   "execution_count": 34,
   "metadata": {},
   "outputs": [
    {
     "name": "stdout",
     "output_type": "stream",
     "text": [
      "1\n"
     ]
    }
   ],
   "source": [
    "bin(7,0)"
   ]
  },
  {
   "cell_type": "markdown",
   "metadata": {},
   "source": [
    "<h3>(c)</h3>\n",
    "$${7 \\choose 1}$$"
   ]
  },
  {
   "cell_type": "code",
   "execution_count": 35,
   "metadata": {},
   "outputs": [
    {
     "name": "stdout",
     "output_type": "stream",
     "text": [
      "7\n"
     ]
    }
   ],
   "source": [
    "bin(7,1)"
   ]
  },
  {
   "cell_type": "markdown",
   "metadata": {},
   "source": [
    "<h3>(d)</h3>\n",
    "$${7 \\choose 2}$$"
   ]
  },
  {
   "cell_type": "code",
   "execution_count": 36,
   "metadata": {},
   "outputs": [
    {
     "name": "stdout",
     "output_type": "stream",
     "text": [
      "21\n"
     ]
    }
   ],
   "source": [
    "bin(7,2)"
   ]
  },
  {
   "cell_type": "markdown",
   "metadata": {},
   "source": [
    "<h3>(e)</h3>\n",
    "$${17 \\choose 14}$$"
   ]
  },
  {
   "cell_type": "code",
   "execution_count": 37,
   "metadata": {},
   "outputs": [
    {
     "name": "stdout",
     "output_type": "stream",
     "text": [
      "680\n"
     ]
    }
   ],
   "source": [
    "bin(17,14)"
   ]
  },
  {
   "cell_type": "markdown",
   "metadata": {},
   "source": [
    "<h2>2.</h2>\n",
    "<h3>(a)</h3>\n",
    "$${n \\choose k} = {n \\choose n-k}$$"
   ]
  },
  {
   "cell_type": "code",
   "execution_count": 68,
   "metadata": {},
   "outputs": [
    {
     "data": {
      "text/plain": [
       "21945"
      ]
     },
     "execution_count": 68,
     "metadata": {},
     "output_type": "execute_result"
    }
   ],
   "source": [
    "def binomial(n, k):\n",
    "    p = 1    \n",
    "    if k>=0 and k <= n:\n",
    "        for i in range(1, min(k, n - k) + 1):\n",
    "           p *= n\n",
    "           p //= i\n",
    "           n -= 1\n",
    "        return p\n",
    "    else:\n",
    "        print(\"n debe ser mayor ó igual a k\")\n",
    "\n",
    "#ejemplos\n",
    "binomial(210,2)"
   ]
  },
  {
   "cell_type": "code",
   "execution_count": 69,
   "metadata": {},
   "outputs": [
    {
     "data": {
      "text/plain": [
       "21945"
      ]
     },
     "execution_count": 69,
     "metadata": {},
     "output_type": "execute_result"
    }
   ],
   "source": [
    "def binomial2(n, k):\n",
    "    p = 1    \n",
    "    if k>=0 and k <= n:\n",
    "        for i in range(1, min((n-k), n - (n-k)) + 1):\n",
    "           p *= n\n",
    "           p //= i\n",
    "           n -= 1\n",
    "        return p\n",
    "    else:\n",
    "        print(\"n debe ser mayor ó igual a k\")\n",
    "        \n",
    "#ejemplos \n",
    "binomial2(210,2)"
   ]
  },
  {
   "cell_type": "markdown",
   "metadata": {},
   "source": [
    "<h2>3.</h2>\n",
    "$${n+1 \\choose k} = {n \\choose k-1} + {n \\choose k}$$"
   ]
  },
  {
   "cell_type": "code",
   "execution_count": 67,
   "metadata": {},
   "outputs": [
    {
     "name": "stdout",
     "output_type": "stream",
     "text": [
      "330  =  210  +  120\n",
      "3003  =  1001  +  2002\n",
      "6545  =  561  +  5984\n"
     ]
    }
   ],
   "source": [
    "def binomial(n, k):\n",
    "    if k < 0 or k > n:\n",
    "        return 0\n",
    "    if k == 0 or k == n:\n",
    "        return 1\n",
    "    n_1,ka_1,ka = 1,1,1\n",
    "    for i in range(min(k, (n+1) - k)):\n",
    "        n_1 = n_1 * ((n+1) - i) // (i + 1)\n",
    "    for i in range(min(k-1, n - (k-1) )):\n",
    "        ka_1 = ka_1 * (n - i) // (i + 1)\n",
    "    for i in range(min(k, n - k )):\n",
    "        ka = ka * (n - i) // (i + 1)\n",
    "    print(n_1, \" = \", ka_1, \" + \", ka)       \n",
    "\n",
    "#ejemplos \n",
    "binomial(10,7)\n",
    "binomial(14,5)\n",
    "binomial(34,3)"
   ]
  },
  {
   "cell_type": "markdown",
   "metadata": {},
   "source": [
    "<h2>4.</h2>\n",
    "<h3>a)</h3>\n",
    "$$(a+b)^n = \\sum_{k=0}^n {n \\choose k} a^k b^{n-k}$$"
   ]
  },
  {
   "cell_type": "code",
   "execution_count": 120,
   "metadata": {},
   "outputs": [
    {
     "name": "stdout",
     "output_type": "stream",
     "text": [
      "16  =  16.0\n",
      "3486784401  =  3486784401.0\n",
      "16803739386732805588924132780810339299166149216244183597056  =  1.6803739386732804e+58\n"
     ]
    }
   ],
   "source": [
    "import math\n",
    "def pb(a,b,n):\n",
    "    control = 0\n",
    "    for k in range(n+1):\n",
    "        control += (math.factorial(n)/(math.factorial(k)*math.factorial(n-k)))*(a**k)*(b**(n-k))\n",
    "    print((a+b)**n,\" = \",control)\n",
    "\n",
    "#ejemplos\n",
    "pb(1,1,4)\n",
    "pb(1,2,20)\n",
    "pb(23,43,32) # observación: el resultado no es igual... "
   ]
  },
  {
   "cell_type": "markdown",
   "metadata": {},
   "source": [
    "<h3>b)</h3>\n",
    "$$\\sum_{k=0}^n {n \\choose k} = 2^n \\; \\;  \\; \\; si \\; \\; n>0$$"
   ]
  },
  {
   "cell_type": "code",
   "execution_count": 114,
   "metadata": {},
   "outputs": [
    {
     "name": "stdout",
     "output_type": "stream",
     "text": [
      "1024  =  1024\n",
      "8  =  8\n"
     ]
    }
   ],
   "source": [
    "import math\n",
    "def pbb(n):\n",
    "    control = 0\n",
    "    for k in range(n+1):\n",
    "        control += (math.factorial(n)/(math.factorial(k)*math.factorial(n-k)))*(1**k)*(1**(n-k))\n",
    "    print((1+1)**n,\" = \",int(control))\n",
    "\n",
    "#ejmplos\n",
    "pbb(10)\n",
    "pbb(3)"
   ]
  },
  {
   "cell_type": "markdown",
   "metadata": {},
   "source": [
    "<h3>c)</h3>\n",
    "$$\\sum_{k=0}^n (-1)^k {n \\choose k} = 0 \\; \\; si \\; \\; n>0$$"
   ]
  },
  {
   "cell_type": "markdown",
   "metadata": {},
   "source": [
    "import math\n",
    "def pbb(n):\n",
    "    control = 0\n",
    "    for k in range(n+1):\n",
    "        control += (math.factorial(n)/(math.factorial(k)*math.factorial(n-k)))*((-1)**k)*(1**(n-k))\n",
    "    print((-1+1)**n,\" = \",int(control))\n",
    "\n",
    "#ejmplos\n",
    "pbb(10)\n",
    "pbb(3)"
   ]
  },
  {
   "cell_type": "markdown",
   "metadata": {},
   "source": [
    "<h2>Definición</h2>\n",
    "$$n!=\\prod_{k=1}^n k$$"
   ]
  },
  {
   "cell_type": "code",
   "execution_count": 10,
   "metadata": {},
   "outputs": [
    {
     "data": {
      "text/plain": [
       "40320"
      ]
     },
     "execution_count": 10,
     "metadata": {},
     "output_type": "execute_result"
    }
   ],
   "source": [
    "def defprod(n):\n",
    "    control = 1\n",
    "    for k in range(1,n+1):\n",
    "        control *= k\n",
    "    return control\n",
    "\n",
    "#ejemplos \n",
    "defprod(8)"
   ]
  },
  {
   "cell_type": "markdown",
   "metadata": {},
   "source": [
    "<h2>5.</h2>\n",
    "$$\\prod_{k=1}^n a_k$$"
   ]
  },
  {
   "cell_type": "code",
   "execution_count": 15,
   "metadata": {},
   "outputs": [
    {
     "data": {
      "text/plain": [
       "1"
      ]
     },
     "execution_count": 15,
     "metadata": {},
     "output_type": "execute_result"
    }
   ],
   "source": [
    "def prod5(n):\n",
    "    control = 1\n",
    "    for k in range(1,n+1):\n",
    "        control *= k\n",
    "    return control\n",
    "\n",
    "#ejemplos \n",
    "prod5(0)"
   ]
  },
  {
   "cell_type": "markdown",
   "metadata": {},
   "source": [
    "<h2>6.</h2>\n",
    "$$\\prod_{k=1}^n (a_k b_k) = \\left( \\prod_{k=1}^n  \\right) \\left( \\prod_{k=1}^n b_k \\right)$$"
   ]
  },
  {
   "cell_type": "code",
   "execution_count": 8,
   "metadata": {},
   "outputs": [
    {
     "data": {
      "text/plain": [
       "216"
      ]
     },
     "execution_count": 8,
     "metadata": {},
     "output_type": "execute_result"
    }
   ],
   "source": [
    "def prod6(n):\n",
    "    control = 1\n",
    "    for k in range(1,n+1):\n",
    "        control *= k * k**2\n",
    "    return control\n",
    "\n",
    "#ejemplos\n",
    "prod6(3)"
   ]
  },
  {
   "cell_type": "markdown",
   "metadata": {},
   "source": [
    "<h2>7.</h2>\n",
    "$$\\prod_{k=1}^n \\dfrac{a_k}{a_{k-1}} = \\dfrac{a_n}{a_0} \\; \\; si \\; cada \\; a_k \\neq 0$$"
   ]
  },
  {
   "cell_type": "code",
   "execution_count": 41,
   "metadata": {},
   "outputs": [
    {
     "name": "stdout",
     "output_type": "stream",
     "text": [
      "8.0  =  8.0\n"
     ]
    }
   ],
   "source": [
    "def prod7(n):\n",
    "    control = 1\n",
    "    for k in range(1,n+1):\n",
    "        control *= 2**k/(2**(k-1))\n",
    "    print(control,\" = \",(2**n)/(2**0))\n",
    "\n",
    "#ejemplos\n",
    "prod7(3)"
   ]
  },
  {
   "cell_type": "markdown",
   "metadata": {},
   "source": [
    "<h2>8.</h2>\n",
    "$$\\prod_{k=1}^n (1 + x^{2^{k-1}}) = \\dfrac{1 - x^{2^n}}{1-x}, \\;  \\; \\; x\\neq 1$$"
   ]
  },
  {
   "cell_type": "code",
   "execution_count": 51,
   "metadata": {},
   "outputs": [
    {
     "name": "stdout",
     "output_type": "stream",
     "text": [
      "21845  =  21845\n"
     ]
    }
   ],
   "source": [
    "def prod8(n,x):\n",
    "    control = 1\n",
    "    for k in range(1,n+1):\n",
    "        control *= 1 + x**(2**(k-1))\n",
    "    print(control, \" = \", int((1-x**(2**n))/(1-x)))\n",
    "    \n",
    "#ejemplos\n",
    "prod8(3,4)"
   ]
  },
  {
   "cell_type": "markdown",
   "metadata": {},
   "source": [
    "<h2>9.</h2>\n",
    "$$si \\; a_k < b_k, \\; \\; \\; \\prod_{k=1}^n a_k < \\prod_{k=1}^n b_k$$"
   ]
  },
  {
   "cell_type": "code",
   "execution_count": 56,
   "metadata": {},
   "outputs": [
    {
     "name": "stdout",
     "output_type": "stream",
     "text": [
      "27  <  64\n"
     ]
    }
   ],
   "source": [
    "def prod9(n,a,b):\n",
    "    control, cont = 1,1\n",
    "    if a < b:\n",
    "        for k in range(1,n+1):\n",
    "            control *= a**k\n",
    "        for k in range(1,n+1):\n",
    "            cont *= b**k\n",
    "        print(control, \" < \", cont)\n",
    "    else:\n",
    "        print(\"No cumple la condición de $a_k < b_k$\")\n",
    "\n",
    "#ejemplos\n",
    "prod9(2,3,4)"
   ]
  },
  {
   "cell_type": "markdown",
   "metadata": {},
   "source": [
    "<h2>10.</h2>\n",
    "$$Si \\; x>1 \\; x^n > x \\; para \\; cada \\; n \\geq 2$$\n",
    "$$Si \\; 0 < x < 1 \\; \\; x^n < x \\; para \\; cada \\; n \\geq 2$$"
   ]
  },
  {
   "cell_type": "code",
   "execution_count": 68,
   "metadata": {},
   "outputs": [
    {
     "name": "stdout",
     "output_type": "stream",
     "text": [
      "0.4096000000000001  <  0.8\n"
     ]
    }
   ],
   "source": [
    "def prod10(x,n):\n",
    "    if x > 1 and n >= 2:\n",
    "        print(x**n, \" > \",x)\n",
    "    elif (x > 0 and x < 1) and n >= 2:\n",
    "        print(x**n, \" < \", x)\n",
    "\n",
    "#ejemplos \n",
    "prod10(0.8,4)"
   ]
  },
  {
   "cell_type": "markdown",
   "metadata": {},
   "source": [
    "<h2>11.</h2>\n",
    "$$2^n < n!, \\; \\; n \\geq 4$$"
   ]
  },
  {
   "cell_type": "code",
   "execution_count": 73,
   "metadata": {},
   "outputs": [
    {
     "name": "stdout",
     "output_type": "stream",
     "text": [
      "32  <  120\n"
     ]
    }
   ],
   "source": [
    "import math\n",
    "def prod11(n):\n",
    "    if n >= 4:\n",
    "        print(2**n, \" < \",math.factorial(n))\n",
    "    else:\n",
    "        print(\"n debe ser mayor o igual a 4\")\n",
    "\n",
    "#ejemplos \n",
    "prod11(5)"
   ]
  },
  {
   "cell_type": "markdown",
   "metadata": {},
   "source": [
    "<h2>12.</h2>\n",
    "<h3>(a)</h3>\n",
    "$$\\left( 1 + \\dfrac{1}{n}  \\right)^n = 1 + \\sum_{k=1}^n \\left[ \\dfrac{1}{k!} \\prod_{r=0}^{k-1} \\left( 1 - \\dfrac{r}{n} \\right) \\right]$$"
   ]
  },
  {
   "cell_type": "code",
   "execution_count": null,
   "metadata": {},
   "outputs": [],
   "source": [
    "import math\n",
    "def prod12(n):\n",
    "    sum, prod = 1,0\n",
    "    for k in range(1,n+1): \n",
    "        for r in range(k):\n",
    "            prod *= 1 - (r/n)\n",
    "        sum += (1/math.factorial(k)) * prod\n",
    "    print((1+(1/n))**n,\" = \",1+sum)\n",
    "\n",
    "#ejemplos\n",
    "prod12(20)"
   ]
  },
  {
   "cell_type": "code",
   "execution_count": 1,
   "metadata": {},
   "outputs": [
    {
     "data": {
      "text/plain": [
       "2.7916666666666665"
      ]
     },
     "execution_count": 1,
     "metadata": {},
     "output_type": "execute_result"
    }
   ],
   "source": [
    "67/24"
   ]
  },
  {
   "cell_type": "markdown",
   "metadata": {},
   "source": [
    "<h3>(b)</h3>\n",
    "$$2<\\left( 1 + \\dfrac{1}{n} \\right)^n < 1 + \\sum_{k=1}^n \\dfrac{1}{k!} < 3$$"
   ]
  },
  {
   "cell_type": "code",
   "execution_count": 8,
   "metadata": {},
   "outputs": [
    {
     "name": "stdout",
     "output_type": "stream",
     "text": [
      "2 < 2.4883199999999994 < 2.716666666666667 < 3\n"
     ]
    }
   ],
   "source": [
    "import math\n",
    "def prod12b(n):\n",
    "    control = 0\n",
    "    if n > 1:\n",
    "        for k in range(1,n+1):\n",
    "            control += 1 / math.factorial(k)\n",
    "        print(2,\"<\",(1 + (1/n))**n,\"<\",1 + control, \"<\",3)\n",
    "    else: \n",
    "        print(\"n tiene que ser mayor que 1\")\n",
    "\n",
    "#ejemplos\n",
    "prod12b(5)"
   ]
  },
  {
   "cell_type": "code",
   "execution_count": 5,
   "metadata": {},
   "outputs": [
    {
     "name": "stdout",
     "output_type": "stream",
     "text": [
      "6\n"
     ]
    }
   ],
   "source": [
    "bin(4,2)"
   ]
  },
  {
   "cell_type": "code",
   "execution_count": 8,
   "metadata": {},
   "outputs": [],
   "source": [
    "def binomial(n, r):\n",
    "       ''' Binomial coefficient, nCr, aka the \"choose\" function \n",
    "           n! / (r! * (n - r)!)\n",
    "       '''\n",
    "       p = 1    \n",
    "       for i in range(1, min(r, n - r) + 1):\n",
    "           p *= n\n",
    "           p //= i\n",
    "           n -= 1\n",
    "       return p"
   ]
  },
  {
   "cell_type": "markdown",
   "metadata": {},
   "source": [
    "<h2>13.</h2>\n",
    "<h3>(b)</h3>\n",
    "$$n^p < \\dfrac{(n+1)^{p+1} - n^{p+1}}{p+1} < (n+1)^p$$"
   ]
  },
  {
   "cell_type": "code",
   "execution_count": 23,
   "metadata": {},
   "outputs": [
    {
     "name": "stdout",
     "output_type": "stream",
     "text": [
      "2401 < 3192.2 < 4096\n"
     ]
    }
   ],
   "source": [
    "def prod13(n,p):\n",
    "    if p >=1 and n >=1:\n",
    "        print(n**p,\"<\",((n+1)**(p+1) - n**(p+1))/(p+1),\"<\",(n+1)**p)\n",
    "    else:\n",
    "        print(\"n, p deben ser enteros positivos\")\n",
    "\n",
    "#ejemplos\n",
    "prod13(7,4)"
   ]
  },
  {
   "cell_type": "markdown",
   "metadata": {},
   "source": [
    "<h3>(c)</h3>\n",
    "$$\\displaystyle\\sum_{k=1}^{n-1} k^p < \\dfrac{n^{p+1}}{p+1} < \\sum_{k=1}^n k^p$$"
   ]
  },
  {
   "cell_type": "code",
   "execution_count": 27,
   "metadata": {},
   "outputs": [
    {
     "name": "stdout",
     "output_type": "stream",
     "text": [
      "9 < 12.333333333333334 < 16\n"
     ]
    }
   ],
   "source": [
    "def prod13c(n,p):\n",
    "    control = 0  \n",
    "    if p >= 1 and n>=1:\n",
    "        for k in range(1,n+1):\n",
    "            control += k**p\n",
    "        print(control - n**p,\"<\",(n**(p+1))/(p+1),\"<\",control)\n",
    "    else:\n",
    "        print(\"p,n debe ser un entero poitivo\")\n",
    "\n",
    "#ejemplos\n",
    "prod13(3,2)"
   ]
  },
  {
   "cell_type": "markdown",
   "metadata": {},
   "source": [
    "<h2>14.</h2>\n",
    "$$(1+a_1)(1+a_2)\\cdot \\cdot \\cdot (1+ a_n) \\geq 1 + a_1 + a_2 + ... + a_n$$"
   ]
  },
  {
   "cell_type": "code",
   "execution_count": 3,
   "metadata": {},
   "outputs": [
    {
     "name": "stdout",
     "output_type": "stream",
     "text": [
      "6 >= 4\n"
     ]
    }
   ],
   "source": [
    "def prod14(n):\n",
    "    control, cont = 1,1\n",
    "    if n >= 0:\n",
    "        for a in range(1,n+1):\n",
    "            control *= 1 + a\n",
    "            cont += a\n",
    "        print(control,\">=\",cont)   \n",
    "    else:\n",
    "        print(\"n debe ser mayor a -1\")\n",
    "        \n",
    "#ejemplos\n",
    "prod14(2)"
   ]
  },
  {
   "cell_type": "markdown",
   "metadata": {},
   "source": [
    "$$(1+x)^n \\geq 1 + nx, \\; \\; \\; n>1 \\; y \\; x>-1$$"
   ]
  },
  {
   "cell_type": "code",
   "execution_count": 8,
   "metadata": {},
   "outputs": [
    {
     "name": "stdout",
     "output_type": "stream",
     "text": [
      "16 >= 7\n"
     ]
    }
   ],
   "source": [
    "def prod14a(x,n):\n",
    "    if n>1 and x>-1:\n",
    "        print((1+x)**n, \">=\",1 + n*x)\n",
    "    else:\n",
    "        print(\"n debe ser mayor a 1 y x mayor a -1\")\n",
    "\n",
    "#ejemplos\n",
    "prod14a(3,2)"
   ]
  },
  {
   "cell_type": "code",
   "execution_count": null,
   "metadata": {},
   "outputs": [],
   "source": []
  }
 ],
 "metadata": {
  "kernelspec": {
   "display_name": "Python 3",
   "language": "python",
   "name": "python3"
  },
  "language_info": {
   "codemirror_mode": {
    "name": "ipython",
    "version": 3
   },
   "file_extension": ".py",
   "mimetype": "text/x-python",
   "name": "python",
   "nbconvert_exporter": "python",
   "pygments_lexer": "ipython3",
   "version": "3.6.8"
  }
 },
 "nbformat": 4,
 "nbformat_minor": 4
}
