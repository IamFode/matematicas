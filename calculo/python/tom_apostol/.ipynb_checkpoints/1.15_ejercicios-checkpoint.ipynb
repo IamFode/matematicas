{
 "cells": [
  {
   "cell_type": "markdown",
   "id": "unable-patrol",
   "metadata": {},
   "source": [
    "# 1.15 Ejercicios"
   ]
  },
  {
   "cell_type": "markdown",
   "id": "developing-collins",
   "metadata": {},
   "source": [
    "## 10."
   ]
  },
  {
   "cell_type": "markdown",
   "id": "electoral-split",
   "metadata": {},
   "source": [
    "### (a)"
   ]
  },
  {
   "cell_type": "code",
   "execution_count": 27,
   "id": "operational-hawaii",
   "metadata": {},
   "outputs": [],
   "source": [
    "def s(p):\n",
    "    sp=0\n",
    "    for i in range(0,p):\n",
    "        sp += ((-1)**i) * i\n",
    "    return sp"
   ]
  },
  {
   "cell_type": "code",
   "execution_count": 28,
   "id": "running-filling",
   "metadata": {},
   "outputs": [
    {
     "name": "stdout",
     "output_type": "stream",
     "text": [
      "1\n",
      "-2\n",
      "0\n"
     ]
    }
   ],
   "source": [
    "print(s(3))\n",
    "print(s(4))\n",
    "print(s(s(3)))"
   ]
  },
  {
   "cell_type": "code",
   "execution_count": 21,
   "id": "specific-iraqi",
   "metadata": {},
   "outputs": [
    {
     "data": {
      "text/plain": [
       "-7"
      ]
     },
     "execution_count": 21,
     "metadata": {},
     "output_type": "execute_result"
    }
   ],
   "source": [
    "s(14)"
   ]
  },
  {
   "cell_type": "code",
   "execution_count": null,
   "id": "suburban-pleasure",
   "metadata": {},
   "outputs": [],
   "source": [
    "def s(p):\n",
    "    sp=0\n",
    "    for i in range(0,p):\n",
    "        sp += ((-1)**i) * i\n",
    "        if sp == 7 or sp == -7:\n",
    "            print(i)"
   ]
  },
  {
   "cell_type": "code",
   "execution_count": null,
   "id": "patient-python",
   "metadata": {},
   "outputs": [],
   "source": [
    "s(15)"
   ]
  },
  {
   "cell_type": "code",
   "execution_count": null,
   "id": "stainless-assistant",
   "metadata": {},
   "outputs": [],
   "source": []
  }
 ],
 "metadata": {
  "kernelspec": {
   "display_name": "Python 3",
   "language": "python",
   "name": "python3"
  },
  "language_info": {
   "codemirror_mode": {
    "name": "ipython",
    "version": 3
   },
   "file_extension": ".py",
   "mimetype": "text/x-python",
   "name": "python",
   "nbconvert_exporter": "python",
   "pygments_lexer": "ipython3",
   "version": "3.8.8"
  }
 },
 "nbformat": 4,
 "nbformat_minor": 5
}
