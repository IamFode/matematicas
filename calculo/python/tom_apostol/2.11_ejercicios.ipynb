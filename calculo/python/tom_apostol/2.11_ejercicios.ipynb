{
 "cells": [
  {
   "cell_type": "code",
   "execution_count": null,
   "id": "528ebc85-e689-416a-b27f-18a3a5ab0ed2",
   "metadata": {},
   "outputs": [],
   "source": [
    "# library\n",
    "import scipy.integrate as integrate\n",
    "import numpy as np"
   ]
  },
  {
   "cell_type": "markdown",
   "id": "7c0e59ee-6800-450f-bcf4-c077b13731d3",
   "metadata": {},
   "source": [
    "# 2.11 Ejercicios "
   ]
  },
  {
   "cell_type": "markdown",
   "id": "dba66f2a-7ddb-49e3-943a-a084d4a3e426",
   "metadata": {},
   "source": [
    "## 5."
   ]
  },
  {
   "cell_type": "code",
   "execution_count": null,
   "id": "afec114b-cc47-4362-ae5d-fb9e4367f5c8",
   "metadata": {},
   "outputs": [],
   "source": []
  }
 ],
 "metadata": {
  "kernelspec": {
   "display_name": "Python 3",
   "language": "python",
   "name": "python3"
  },
  "language_info": {
   "codemirror_mode": {
    "name": "ipython",
    "version": 3
   },
   "file_extension": ".py",
   "mimetype": "text/x-python",
   "name": "python",
   "nbconvert_exporter": "python",
   "pygments_lexer": "ipython3",
   "version": "3.8.10"
  }
 },
 "nbformat": 4,
 "nbformat_minor": 5
}
