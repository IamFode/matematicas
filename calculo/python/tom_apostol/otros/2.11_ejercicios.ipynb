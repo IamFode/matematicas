{
 "cells": [
  {
   "cell_type": "code",
   "execution_count": 10,
   "id": "528ebc85-e689-416a-b27f-18a3a5ab0ed2",
   "metadata": {},
   "outputs": [],
   "source": [
    "# library\n",
    "from scipy.integrate import quad\n",
    "import numpy as np"
   ]
  },
  {
   "cell_type": "markdown",
   "id": "7c0e59ee-6800-450f-bcf4-c077b13731d3",
   "metadata": {},
   "source": [
    "# 2.11 Ejercicios "
   ]
  },
  {
   "cell_type": "markdown",
   "id": "dba66f2a-7ddb-49e3-943a-a084d4a3e426",
   "metadata": {},
   "source": [
    "## 5."
   ]
  },
  {
   "cell_type": "code",
   "execution_count": 26,
   "id": "afec114b-cc47-4362-ae5d-fb9e4367f5c8",
   "metadata": {},
   "outputs": [
    {
     "data": {
      "text/plain": [
       "(41.341702240399755, 4.589850970448923e-13)"
      ]
     },
     "execution_count": 26,
     "metadata": {},
     "output_type": "execute_result"
    }
   ],
   "source": [
    "quad(lambda x:1/2*x**2, 0, 2*np.pi)"
   ]
  },
  {
   "cell_type": "markdown",
   "id": "0e7d5ac5-3f37-45b0-b559-fa78e033e4cc",
   "metadata": {},
   "source": [
    "## 6.\n"
   ]
  },
  {
   "cell_type": "code",
   "execution_count": 29,
   "id": "ec78a5c5-62af-4f3d-a1b0-f2d5396bf635",
   "metadata": {},
   "outputs": [
    {
     "data": {
      "text/plain": [
       "(3.141592653589793, 3.487868498008632e-14)"
      ]
     },
     "execution_count": 29,
     "metadata": {},
     "output_type": "execute_result"
    }
   ],
   "source": [
    "quad(lambda x:1/2*(2*np.cos(x))**2, -np.pi/2, np.pi/2)"
   ]
  },
  {
   "cell_type": "markdown",
   "id": "0d75567c-a3f6-43b9-a153-e8a59f68e61a",
   "metadata": {},
   "source": [
    "## 7"
   ]
  },
  {
   "cell_type": "code",
   "execution_count": 33,
   "id": "80045733-5301-44b5-b33f-08268122e1ce",
   "metadata": {},
   "outputs": [
    {
     "data": {
      "text/plain": [
       "(6.283185307179586, 4.611758334327977e-09)"
      ]
     },
     "execution_count": 33,
     "metadata": {},
     "output_type": "execute_result"
    }
   ],
   "source": [
    "quad(lambda x:1/2*(2*abs(np.cos(x)))**2, 0, 2*np.pi)"
   ]
  },
  {
   "cell_type": "markdown",
   "id": "a43b8a6e-1519-47c6-910c-6ed29a57a034",
   "metadata": {},
   "source": [
    "## 8."
   ]
  },
  {
   "cell_type": "code",
   "execution_count": 46,
   "id": "00135f7a-f6ae-48dd-9b87-92dcbb80f53b",
   "metadata": {},
   "outputs": [
    {
     "data": {
      "text/plain": [
       "(12.566370614359172, 1.3951473992034528e-13)"
      ]
     },
     "execution_count": 46,
     "metadata": {},
     "output_type": "execute_result"
    }
   ],
   "source": [
    "quad(lambda x:1/2*(4*np.cos(x))**2, 0, np.pi)"
   ]
  },
  {
   "cell_type": "markdown",
   "id": "6ceaf955-d89d-4f4d-8592-3949644807c3",
   "metadata": {},
   "source": [
    "## 9."
   ]
  },
  {
   "cell_type": "code",
   "execution_count": 48,
   "id": "adc1aff7-2dfe-4ed9-953c-88eb0ab3a167",
   "metadata": {},
   "outputs": [
    {
     "data": {
      "text/plain": [
       "(25.132741228718345, 1.844703333731191e-08)"
      ]
     },
     "execution_count": 48,
     "metadata": {},
     "output_type": "execute_result"
    }
   ],
   "source": [
    "quad(lambda x:1/2*(4*abs(np.cos(x)))**2, 0, 2*np.pi)"
   ]
  },
  {
   "cell_type": "markdown",
   "id": "40e0121b-b4b7-41bb-a9a5-964f401967f0",
   "metadata": {},
   "source": [
    "## 10."
   ]
  },
  {
   "cell_type": "code",
   "execution_count": 56,
   "id": "9f43fba9-6685-4303-b76e-6aec5d4cefa5",
   "metadata": {},
   "outputs": [
    {
     "data": {
      "text/plain": [
       "(0.39269908169872414, 4.35983562251079e-15)"
      ]
     },
     "execution_count": 56,
     "metadata": {},
     "output_type": "execute_result"
    }
   ],
   "source": [
    "quad(lambda x:1/2*(np.sin(2*x))**2, 0, np.pi/2)"
   ]
  },
  {
   "cell_type": "markdown",
   "id": "86a92b5e-35b0-454f-9a01-f91769a64b0d",
   "metadata": {},
   "source": [
    "## 11."
   ]
  },
  {
   "cell_type": "code",
   "execution_count": 58,
   "id": "1f989713-3ac7-431d-917d-42453465d757",
   "metadata": {},
   "outputs": [
    {
     "data": {
      "text/plain": [
       "(1.5707963267948966, 1.1529395771425754e-09)"
      ]
     },
     "execution_count": 58,
     "metadata": {},
     "output_type": "execute_result"
    }
   ],
   "source": [
    "quad(lambda x:1/2*(abs(np.cos(2*x)))**2, 0, 2*np.pi)"
   ]
  },
  {
   "cell_type": "markdown",
   "id": "470c79b6-8837-48a9-b535-79ac18e5736b",
   "metadata": {},
   "source": [
    "## 12."
   ]
  },
  {
   "cell_type": "code",
   "execution_count": 61,
   "id": "aa67055b-78da-46c7-9c5a-0707017e3ada",
   "metadata": {},
   "outputs": [
    {
     "data": {
      "text/plain": [
       "(1.9999999999999998, 2.220446049250313e-14)"
      ]
     },
     "execution_count": 61,
     "metadata": {},
     "output_type": "execute_result"
    }
   ],
   "source": [
    "quad(lambda x:1/2*(np.sqrt(abs(np.cos(x))))**2, 0, 2*np.pi)"
   ]
  },
  {
   "cell_type": "markdown",
   "id": "2a1c9235-fa7e-4c59-b481-59b3d23247bb",
   "metadata": {},
   "source": [
    "## 13."
   ]
  },
  {
   "cell_type": "code",
   "execution_count": 62,
   "id": "d60693b9-59e4-442c-875e-58240b58ed6b",
   "metadata": {},
   "outputs": [
    {
     "data": {
      "text/plain": [
       "(1.9999999999999991, 2.2315482794965646e-14)"
      ]
     },
     "execution_count": 62,
     "metadata": {},
     "output_type": "execute_result"
    }
   ],
   "source": [
    "quad(lambda x:1/2*(np.sqrt(abs(np.cos(2*x))))**2, 0, 2*np.pi)"
   ]
  },
  {
   "cell_type": "markdown",
   "id": "21129447-345d-4761-87c2-aa5418248db3",
   "metadata": {},
   "source": [
    "## 14."
   ]
  },
  {
   "cell_type": "code",
   "execution_count": 66,
   "id": "142371db-0f15-4836-b522-9d13fdd03d04",
   "metadata": {},
   "outputs": [
    {
     "data": {
      "text/plain": [
       "(4.712388980384691, 5.751496677707413e-10)"
      ]
     },
     "execution_count": 66,
     "metadata": {},
     "output_type": "execute_result"
    }
   ],
   "source": [
    "quad(lambda x:1/2*(1+np.cos(x))**2, 0, 2*np.pi)"
   ]
  },
  {
   "cell_type": "markdown",
   "id": "cf6d9db0-58ef-4e16-9912-e80bc37d6e4e",
   "metadata": {},
   "source": [
    "## 15."
   ]
  },
  {
   "cell_type": "code",
   "execution_count": 71,
   "id": "e1bfad3c-0d89-4464-b47d-69ea4e697fa3",
   "metadata": {},
   "outputs": [
    {
     "data": {
      "text/plain": [
       "(14.137166941154069, 4.0941544701934717e-10)"
      ]
     },
     "execution_count": 71,
     "metadata": {},
     "output_type": "execute_result"
    }
   ],
   "source": [
    "quad(lambda x:1/2*(2+np.cos(x))**2, 0, 2*np.pi)"
   ]
  },
  {
   "cell_type": "code",
   "execution_count": null,
   "id": "2588993f-85d5-45cf-9016-91154aa54ce4",
   "metadata": {},
   "outputs": [],
   "source": []
  }
 ],
 "metadata": {
  "kernelspec": {
   "display_name": "Python 3",
   "language": "python",
   "name": "python3"
  },
  "language_info": {
   "codemirror_mode": {
    "name": "ipython",
    "version": 3
   },
   "file_extension": ".py",
   "mimetype": "text/x-python",
   "name": "python",
   "nbconvert_exporter": "python",
   "pygments_lexer": "ipython3",
   "version": "3.8.10"
  }
 },
 "nbformat": 4,
 "nbformat_minor": 5
}
