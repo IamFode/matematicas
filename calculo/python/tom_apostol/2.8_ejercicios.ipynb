{
 "cells": [
  {
   "cell_type": "code",
   "execution_count": 77,
   "id": "4cc56616-08a1-484c-bb9f-8d0524fac0d1",
   "metadata": {},
   "outputs": [],
   "source": [
    "# libreria\n",
    "import numpy as np\n",
    "from scipy.integrate import quad"
   ]
  },
  {
   "cell_type": "markdown",
   "id": "c703607b-09f2-45f1-9c0a-8272aec87750",
   "metadata": {},
   "source": [
    "# 2.8 Ejercicios"
   ]
  },
  {
   "cell_type": "markdown",
   "id": "8ecbd551-c789-48c8-9c18-7ad809f5cc5a",
   "metadata": {},
   "source": [
    "## 18."
   ]
  },
  {
   "cell_type": "code",
   "execution_count": 16,
   "id": "8204c21e-a36b-4e8c-a359-587e6e95c92b",
   "metadata": {},
   "outputs": [
    {
     "name": "stdout",
     "output_type": "stream",
     "text": [
      "(6.934802200544679, 7.699177074265904e-14)\n"
     ]
    }
   ],
   "source": [
    "f = lambda x: x + np.sin(x) \n",
    "area = quad(f,0,np.pi)\n",
    "print(area)"
   ]
  },
  {
   "cell_type": "markdown",
   "id": "489250b8-49f8-4843-b9ea-9050cc66af46",
   "metadata": {},
   "source": [
    "## 19."
   ]
  },
  {
   "cell_type": "code",
   "execution_count": 20,
   "id": "aa0908e1-9fe7-4703-9941-f132ee6b2098",
   "metadata": {},
   "outputs": [
    {
     "name": "stdout",
     "output_type": "stream",
     "text": [
      "(2.2919281950124923, 2.544551452890445e-14)\n"
     ]
    }
   ],
   "source": [
    "f = lambda x: x**2 + np.cos(x) \n",
    "area = quad(f,0,np.pi/2)\n",
    "print(area)"
   ]
  },
  {
   "cell_type": "markdown",
   "id": "3aa7d83c-f8ba-4f7e-b565-9526c7b72f9d",
   "metadata": {},
   "source": [
    "## 20."
   ]
  },
  {
   "cell_type": "code",
   "execution_count": 27,
   "id": "5b83d93f-b021-40ae-bb1a-dca9b71ded70",
   "metadata": {},
   "outputs": [
    {
     "name": "stdout",
     "output_type": "stream",
     "text": [
      "(-4.397928051605617e-18, 9.161273230491273e-15)\n"
     ]
    }
   ],
   "source": [
    "f = lambda x: np.sin(x) - np.cos(x) \n",
    "area = quad(f,0,np.pi/2)\n",
    "print(area)"
   ]
  },
  {
   "cell_type": "markdown",
   "id": "e1543f82-2761-43e2-aec9-7b73c317c360",
   "metadata": {},
   "source": [
    "## 21."
   ]
  },
  {
   "cell_type": "code",
   "execution_count": 30,
   "id": "1293a917-e73d-4706-a690-6380e6554690",
   "metadata": {},
   "outputs": [
    {
     "name": "stdout",
     "output_type": "stream",
     "text": [
      "(0.82842712474619, 9.2148511043888e-15)\n"
     ]
    }
   ],
   "source": [
    "f = lambda x: abs(np.sin(x) - np.cos(x))\n",
    "area = quad(f,0,np.pi/2)\n",
    "print(area)"
   ]
  },
  {
   "cell_type": "markdown",
   "id": "f846e3bc-fe1c-46e2-831d-c8ed48d6c59e",
   "metadata": {},
   "source": [
    "## 22."
   ]
  },
  {
   "cell_type": "code",
   "execution_count": 37,
   "id": "4d0b9e10-c361-4cf8-90e4-50b5910d8398",
   "metadata": {},
   "outputs": [
    {
     "name": "stdout",
     "output_type": "stream",
     "text": [
      "(1.5707963267948966, 2.5056045800152125e-14)\n"
     ]
    }
   ],
   "source": [
    "f = lambda x: 1/2 + np.cos(x)\n",
    "area = quad(f,0,np.pi)\n",
    "print(area)"
   ]
  },
  {
   "cell_type": "markdown",
   "id": "755f643e-a8d0-4957-99e9-80b999d4d39f",
   "metadata": {},
   "source": [
    "## 23."
   ]
  },
  {
   "cell_type": "code",
   "execution_count": 40,
   "id": "91fa00b7-f4b6-4839-a3eb-59bcbb21b4d0",
   "metadata": {},
   "outputs": [
    {
     "name": "stdout",
     "output_type": "stream",
     "text": [
      "(2.255649583167207, 1.1277458966674203e-09)\n"
     ]
    }
   ],
   "source": [
    "f = lambda x: abs(1/2 + np.cos(x))\n",
    "area = quad(f,0,np.pi)\n",
    "print(area)"
   ]
  },
  {
   "cell_type": "markdown",
   "id": "d723c4fb-d0e6-48c2-af77-1862f7dc4a93",
   "metadata": {},
   "source": [
    "## 26."
   ]
  },
  {
   "cell_type": "code",
   "execution_count": 46,
   "id": "7e600581-3913-4fdb-97a8-d3c0ccd55af1",
   "metadata": {},
   "outputs": [
    {
     "name": "stdout",
     "output_type": "stream",
     "text": [
      "(1.0, 1.1102230246251565e-14)\n"
     ]
    }
   ],
   "source": [
    "f = lambda x: np.sin(2*x) \n",
    "area = quad(f,0,np.pi/2)\n",
    "print(area)"
   ]
  },
  {
   "cell_type": "markdown",
   "id": "2f4764db-ea5e-4ea4-a866-8e65180d1761",
   "metadata": {},
   "source": [
    "## 27."
   ]
  },
  {
   "cell_type": "code",
   "execution_count": 48,
   "id": "6addf29d-7bea-4a2b-9b96-ae408e9c0da7",
   "metadata": {},
   "outputs": [
    {
     "name": "stdout",
     "output_type": "stream",
     "text": [
      "(1.0, 1.1102230246251565e-14)\n"
     ]
    }
   ],
   "source": [
    "f = lambda x: np.sin(2*x) \n",
    "area = quad(f,0,np.pi/2)\n",
    "print(area)"
   ]
  },
  {
   "cell_type": "markdown",
   "id": "5e089b00-4b4d-4523-aa07-9674612c1345",
   "metadata": {},
   "source": [
    "## 28."
   ]
  },
  {
   "cell_type": "code",
   "execution_count": 61,
   "id": "05c0895e-9e5a-4ccd-9aac-6629bd71f357",
   "metadata": {},
   "outputs": [
    {
     "name": "stdout",
     "output_type": "stream",
     "text": [
      "0.09131907898407798\n",
      "0.06416003010122838\n"
     ]
    }
   ],
   "source": [
    "integral1 = lambda x,a,b : 1/b * (np.sin(a+b*x)+np.sin(a))\n",
    "integral2 = lambda x,a,b : -1/b * (np.cos(a+b*x)-np.cos(a))\n",
    "print(integral1(2,2,4))\n",
    "print(integral2(1,1,4))"
   ]
  },
  {
   "cell_type": "markdown",
   "id": "133c7451-f070-4c0a-817c-0318702e2fea",
   "metadata": {},
   "source": [
    "## 29.\n",
    "### (a)"
   ]
  },
  {
   "cell_type": "code",
   "execution_count": 63,
   "id": "65d2b512-9c70-40c6-8723-b73d1d2500ca",
   "metadata": {},
   "outputs": [
    {
     "name": "stdout",
     "output_type": "stream",
     "text": [
      "(1.0587909846312207, 1.1754941294031214e-14)\n"
     ]
    }
   ],
   "source": [
    "f = lambda x: np.sin(x)**3 \n",
    "area = quad(f,0,2)\n",
    "print(area)"
   ]
  },
  {
   "cell_type": "markdown",
   "id": "8cc3254b-a662-4d3e-b2ce-b1cb3c48ead9",
   "metadata": {},
   "source": [
    "### (b)"
   ]
  },
  {
   "cell_type": "code",
   "execution_count": 65,
   "id": "25f9e68d-2d17-4167-9211-e95c15408dda",
   "metadata": {},
   "outputs": [
    {
     "name": "stdout",
     "output_type": "stream",
     "text": [
      "(0.6586884452693509, 7.490103021404554e-15)\n"
     ]
    }
   ],
   "source": [
    "f = lambda x: np.cos(x)**3 \n",
    "area = quad(f,0,2)\n",
    "print(area)"
   ]
  },
  {
   "cell_type": "markdown",
   "id": "c4e5ef53-4c40-4cd4-ad1d-764c9dee24a4",
   "metadata": {},
   "source": [
    "## 32."
   ]
  },
  {
   "cell_type": "code",
   "execution_count": 70,
   "id": "8dc2c600-c29e-42c0-9f6f-c7abdf0d388c",
   "metadata": {},
   "outputs": [
    {
     "name": "stdout",
     "output_type": "stream",
     "text": [
      "0.10852314652884394\n"
     ]
    }
   ],
   "source": [
    "integral = lambda x, n : (np.sin(n*x)/2*np.cos((n+1)*x/2)) / (np.sin(x/2))\n",
    "print(integral(2,3))"
   ]
  },
  {
   "cell_type": "markdown",
   "id": "77d0b7b9-0485-40a9-86e2-82c87739f291",
   "metadata": {},
   "source": [
    "## 33."
   ]
  },
  {
   "cell_type": "code",
   "execution_count": 75,
   "id": "d0c5d8cd-ffe7-4ff3-b520-75ada8a985f5",
   "metadata": {},
   "outputs": [
    {
     "name": "stdout",
     "output_type": "stream",
     "text": [
      "0.45464871341284085\n"
     ]
    }
   ],
   "source": [
    "integral = lambda x, n : (np.sin(n*x/2)*np.sin(((n+1)*x)/2))/(2*np.sin(x/2))\n",
    "print(integral(2,1))"
   ]
  },
  {
   "cell_type": "code",
   "execution_count": null,
   "id": "9d83d3e3-0fc2-4148-8a30-c30d372d467a",
   "metadata": {},
   "outputs": [],
   "source": []
  }
 ],
 "metadata": {
  "kernelspec": {
   "display_name": "Python 3",
   "language": "python",
   "name": "python3"
  },
  "language_info": {
   "codemirror_mode": {
    "name": "ipython",
    "version": 3
   },
   "file_extension": ".py",
   "mimetype": "text/x-python",
   "name": "python",
   "nbconvert_exporter": "python",
   "pygments_lexer": "ipython3",
   "version": "3.8.10"
  }
 },
 "nbformat": 4,
 "nbformat_minor": 5
}
