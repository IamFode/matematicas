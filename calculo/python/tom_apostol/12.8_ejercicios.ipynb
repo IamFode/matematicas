{
 "cells": [
  {
   "cell_type": "markdown",
   "id": "8d7e0552-3c10-4646-81f1-c1d246d85c71",
   "metadata": {},
   "source": [
    "# 12.8 Ejercicios "
   ]
  },
  {
   "cell_type": "code",
   "execution_count": 1,
   "id": "083ccf6f-95d5-41e5-bd8f-8cdc1fb333c7",
   "metadata": {},
   "outputs": [],
   "source": [
    "# librarias\n",
    "import numpy as np"
   ]
  },
  {
   "cell_type": "markdown",
   "id": "5b550fdb-3c4c-49b7-8d4d-1d9d294bf301",
   "metadata": {},
   "source": [
    "## 1."
   ]
  },
  {
   "cell_type": "code",
   "execution_count": 8,
   "id": "24f13b46-4aed-442a-9599-cc5ee7f9436f",
   "metadata": {},
   "outputs": [],
   "source": [
    "A = np.array([1,2,3,4])\n",
    "B = np.array([-1,2,-3,0])\n",
    "C = np.array([0,1,0,1])"
   ]
  },
  {
   "cell_type": "markdown",
   "id": "13cd5bed-3682-4a50-b4f0-c7e855caa972",
   "metadata": {},
   "source": [
    "### (a)"
   ]
  },
  {
   "cell_type": "code",
   "execution_count": 9,
   "id": "0171e1a6-e26c-4e75-bce9-14d232624942",
   "metadata": {},
   "outputs": [
    {
     "data": {
      "text/plain": [
       "-6"
      ]
     },
     "execution_count": 9,
     "metadata": {},
     "output_type": "execute_result"
    }
   ],
   "source": [
    "A @ B "
   ]
  },
  {
   "cell_type": "markdown",
   "id": "8e112808-1b32-4612-a408-f44636bf6aba",
   "metadata": {},
   "source": [
    "### (b)"
   ]
  },
  {
   "cell_type": "code",
   "execution_count": 10,
   "id": "db60ea1b-2f93-4da9-bbcd-d91db39227c9",
   "metadata": {},
   "outputs": [
    {
     "data": {
      "text/plain": [
       "2"
      ]
     },
     "execution_count": 10,
     "metadata": {},
     "output_type": "execute_result"
    }
   ],
   "source": [
    "B @ C"
   ]
  },
  {
   "cell_type": "markdown",
   "id": "1e646c77-46ce-492c-91c7-424adfd6bd35",
   "metadata": {},
   "source": [
    "### (c)"
   ]
  },
  {
   "cell_type": "code",
   "execution_count": 18,
   "id": "8d5d341f-4e23-4a28-b3e8-e7e7a05239ba",
   "metadata": {},
   "outputs": [
    {
     "data": {
      "text/plain": [
       "6"
      ]
     },
     "execution_count": 18,
     "metadata": {},
     "output_type": "execute_result"
    }
   ],
   "source": [
    "A @ C"
   ]
  },
  {
   "cell_type": "markdown",
   "id": "5823962a-c3f8-468d-bb74-d9396802a861",
   "metadata": {},
   "source": [
    "### (d)"
   ]
  },
  {
   "cell_type": "code",
   "execution_count": 19,
   "id": "27ac5dde-997d-4fb0-9a08-5aaf5db246ce",
   "metadata": {},
   "outputs": [
    {
     "data": {
      "text/plain": [
       "0"
      ]
     },
     "execution_count": 19,
     "metadata": {},
     "output_type": "execute_result"
    }
   ],
   "source": [
    "A @ (B+C)"
   ]
  },
  {
   "cell_type": "markdown",
   "id": "44bb2525-bce5-4aec-8ebb-4194e9dc8c4d",
   "metadata": {},
   "source": [
    "### (e)"
   ]
  },
  {
   "cell_type": "code",
   "execution_count": 20,
   "id": "d770e06e-2a90-465e-8bbe-2576c55eca7c",
   "metadata": {},
   "outputs": [
    {
     "data": {
      "text/plain": [
       "4"
      ]
     },
     "execution_count": 20,
     "metadata": {},
     "output_type": "execute_result"
    }
   ],
   "source": [
    "(A-B) @ C"
   ]
  },
  {
   "cell_type": "markdown",
   "id": "3efa523a-14d1-403a-be11-6f135a00ad5f",
   "metadata": {},
   "source": [
    "## 2."
   ]
  },
  {
   "cell_type": "code",
   "execution_count": 21,
   "id": "6758e9d1-d69d-41c8-b0cc-ead68db439f1",
   "metadata": {},
   "outputs": [],
   "source": [
    "A = np.array([2,4,-7])\n",
    "B = np.array([2,6,3])\n",
    "C = np.array([3,4,-5])"
   ]
  },
  {
   "cell_type": "markdown",
   "id": "760fc30b-fb9f-4c2a-bdb2-512d422f0ce7",
   "metadata": {},
   "source": [
    "### (a)"
   ]
  },
  {
   "cell_type": "code",
   "execution_count": 23,
   "id": "382c3791-c1f1-4dfc-ab15-206cfe4a26a1",
   "metadata": {},
   "outputs": [
    {
     "data": {
      "text/plain": [
       "array([ 21,  28, -35])"
      ]
     },
     "execution_count": 23,
     "metadata": {},
     "output_type": "execute_result"
    }
   ],
   "source": [
    "(A @ B)*C"
   ]
  },
  {
   "cell_type": "markdown",
   "id": "126519b4-6cb8-4b7f-bad8-78427cc4f3ab",
   "metadata": {},
   "source": [
    "### (b)"
   ]
  },
  {
   "cell_type": "code",
   "execution_count": 25,
   "id": "57a02d44-4620-41fb-a9b9-ac1809527ff3",
   "metadata": {},
   "outputs": [
    {
     "data": {
      "text/plain": [
       "64"
      ]
     },
     "execution_count": 25,
     "metadata": {},
     "output_type": "execute_result"
    }
   ],
   "source": [
    "A @ (B+C)"
   ]
  },
  {
   "cell_type": "markdown",
   "id": "85a345c9-8d83-476f-b89b-f5795529d39d",
   "metadata": {},
   "source": [
    "## (c)"
   ]
  },
  {
   "cell_type": "code",
   "execution_count": 26,
   "id": "38c42719-e410-478e-ab22-28e1dd838bea",
   "metadata": {},
   "outputs": [
    {
     "data": {
      "text/plain": [
       "72"
      ]
     },
     "execution_count": 26,
     "metadata": {},
     "output_type": "execute_result"
    }
   ],
   "source": [
    "(A+B) @ C"
   ]
  },
  {
   "cell_type": "markdown",
   "id": "830ddc3e-5404-4825-b16b-19b6c14838b4",
   "metadata": {},
   "source": [
    "### (d)"
   ]
  },
  {
   "cell_type": "code",
   "execution_count": 27,
   "id": "4db9acd5-4934-433f-9f81-c0e01fbad9d3",
   "metadata": {},
   "outputs": [
    {
     "data": {
      "text/plain": [
       "array([  30,   60, -105])"
      ]
     },
     "execution_count": 27,
     "metadata": {},
     "output_type": "execute_result"
    }
   ],
   "source": [
    "A*(B @ C)"
   ]
  },
  {
   "cell_type": "markdown",
   "id": "141f7195-f72f-4ac7-a1f9-42f1304833fa",
   "metadata": {},
   "source": [
    "### (e)"
   ]
  },
  {
   "cell_type": "code",
   "execution_count": 28,
   "id": "8c3cb83c-fd56-40f3-b9ea-f313c4c9ec12",
   "metadata": {},
   "outputs": [
    {
     "data": {
      "text/plain": [
       "array([ 0.13333333,  0.26666667, -0.46666667])"
      ]
     },
     "execution_count": 28,
     "metadata": {},
     "output_type": "execute_result"
    }
   ],
   "source": [
    "A / (B @ C)"
   ]
  },
  {
   "cell_type": "markdown",
   "id": "94dafb7e-5c2a-4f34-bdb5-a5cee4a77027",
   "metadata": {},
   "source": []
  },
  {
   "cell_type": "code",
   "execution_count": 31,
   "id": "6d6ae89c-6d6e-4eef-8f3d-67d2ccc6b32e",
   "metadata": {},
   "outputs": [],
   "source": [
    "\n"
   ]
  },
  {
   "cell_type": "code",
   "execution_count": null,
   "id": "ac058674-3a59-41a8-88eb-c0568ec3e492",
   "metadata": {},
   "outputs": [],
   "source": []
  }
 ],
 "metadata": {
  "kernelspec": {
   "display_name": "Python 3",
   "language": "python",
   "name": "python3"
  },
  "language_info": {
   "codemirror_mode": {
    "name": "ipython",
    "version": 3
   },
   "file_extension": ".py",
   "mimetype": "text/x-python",
   "name": "python",
   "nbconvert_exporter": "python",
   "pygments_lexer": "ipython3",
   "version": "3.8.10"
  }
 },
 "nbformat": 4,
 "nbformat_minor": 5
}
