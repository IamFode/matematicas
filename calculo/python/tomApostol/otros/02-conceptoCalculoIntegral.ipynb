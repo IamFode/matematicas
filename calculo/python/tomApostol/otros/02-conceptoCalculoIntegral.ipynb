{
 "cells": [
  {
   "cell_type": "markdown",
   "metadata": {},
   "source": [
    "<h1>Conceptos de calculo integral</h1>"
   ]
  },
  {
   "cell_type": "markdown",
   "metadata": {},
   "source": [
    "<h2>1.</h2>\n",
    "\n",
    "$$f(x)=x+1$$"
   ]
  },
  {
   "cell_type": "code",
   "execution_count": 1,
   "metadata": {},
   "outputs": [],
   "source": [
    "def func1(x):\n",
    "    return x + 1"
   ]
  },
  {
   "cell_type": "code",
   "execution_count": 5,
   "metadata": {},
   "outputs": [
    {
     "data": {
      "text/plain": [
       "-1"
      ]
     },
     "execution_count": 5,
     "metadata": {},
     "output_type": "execute_result"
    }
   ],
   "source": [
    "func1(2)\n"
   ]
  },
  {
   "cell_type": "code",
   "execution_count": 6,
   "metadata": {},
   "outputs": [
    {
     "data": {
      "text/plain": [
       "-1"
      ]
     },
     "execution_count": 6,
     "metadata": {},
     "output_type": "execute_result"
    }
   ],
   "source": [
    "func1(-2)"
   ]
  },
  {
   "cell_type": "code",
   "execution_count": 7,
   "metadata": {},
   "outputs": [
    {
     "data": {
      "text/plain": [
       "-3"
      ]
     },
     "execution_count": 7,
     "metadata": {},
     "output_type": "execute_result"
    }
   ],
   "source": [
    "-func1(2)"
   ]
  },
  {
   "cell_type": "code",
   "execution_count": 8,
   "metadata": {},
   "outputs": [
    {
     "data": {
      "text/plain": [
       "1.5"
      ]
     },
     "execution_count": 8,
     "metadata": {},
     "output_type": "execute_result"
    }
   ],
   "source": [
    "func1(1/2)"
   ]
  },
  {
   "cell_type": "code",
   "execution_count": 9,
   "metadata": {},
   "outputs": [
    {
     "data": {
      "text/plain": [
       "0.3333333333333333"
      ]
     },
     "execution_count": 9,
     "metadata": {},
     "output_type": "execute_result"
    }
   ],
   "source": [
    "1/func1(2)"
   ]
  },
  {
   "cell_type": "markdown",
   "metadata": {},
   "source": [
    "<h2>2.</h2>\n",
    "\n",
    "$$f(x)= 1+x \\;\\; , \\;\\; g(x)=1-x$$"
   ]
  },
  {
   "cell_type": "code",
   "execution_count": 17,
   "metadata": {},
   "outputs": [],
   "source": [
    "def f_x(x):\n",
    "    return 1 + x\n",
    "def f_g(x):\n",
    "    return 1 - x "
   ]
  },
  {
   "cell_type": "code",
   "execution_count": 18,
   "metadata": {},
   "outputs": [
    {
     "data": {
      "text/plain": [
       "2"
      ]
     },
     "execution_count": 18,
     "metadata": {},
     "output_type": "execute_result"
    }
   ],
   "source": [
    "f_x(2) + f_g(2)"
   ]
  },
  {
   "cell_type": "code",
   "execution_count": 19,
   "metadata": {},
   "outputs": [
    {
     "data": {
      "text/plain": [
       "4"
      ]
     },
     "execution_count": 19,
     "metadata": {},
     "output_type": "execute_result"
    }
   ],
   "source": [
    "f_x(2) - f_g(2)"
   ]
  },
  {
   "cell_type": "code",
   "execution_count": 21,
   "metadata": {},
   "outputs": [
    {
     "data": {
      "text/plain": [
       "-3"
      ]
     },
     "execution_count": 21,
     "metadata": {},
     "output_type": "execute_result"
    }
   ],
   "source": [
    "f_x(2) * f_g(2)"
   ]
  },
  {
   "cell_type": "code",
   "execution_count": 22,
   "metadata": {},
   "outputs": [
    {
     "data": {
      "text/plain": [
       "-3.0"
      ]
     },
     "execution_count": 22,
     "metadata": {},
     "output_type": "execute_result"
    }
   ],
   "source": [
    "f_x(2) / f_g(2)"
   ]
  },
  {
   "cell_type": "code",
   "execution_count": 24,
   "metadata": {},
   "outputs": [
    {
     "data": {
      "text/plain": [
       "0"
      ]
     },
     "execution_count": 24,
     "metadata": {},
     "output_type": "execute_result"
    }
   ],
   "source": [
    "f_x(f_g(2))"
   ]
  },
  {
   "cell_type": "code",
   "execution_count": 25,
   "metadata": {},
   "outputs": [
    {
     "data": {
      "text/plain": [
       "-2"
      ]
     },
     "execution_count": 25,
     "metadata": {},
     "output_type": "execute_result"
    }
   ],
   "source": [
    "f_g(f_x(2))"
   ]
  },
  {
   "cell_type": "code",
   "execution_count": 27,
   "metadata": {},
   "outputs": [
    {
     "data": {
      "text/plain": [
       "12"
      ]
     },
     "execution_count": 27,
     "metadata": {},
     "output_type": "execute_result"
    }
   ],
   "source": [
    "f_x(2) * f_g(-3)"
   ]
  },
  {
   "cell_type": "markdown",
   "metadata": {},
   "source": [
    "<h2>3</h2>\n",
    "\n",
    "Sea $f(x)=|x-3|+|x-1|$ para todo real $x$"
   ]
  },
  {
   "cell_type": "code",
   "execution_count": 29,
   "metadata": {},
   "outputs": [],
   "source": [
    "def func3(x):\n",
    "    return abs(x-3) + abs(x-1)"
   ]
  },
  {
   "cell_type": "code",
   "execution_count": 30,
   "metadata": {},
   "outputs": [
    {
     "data": {
      "text/plain": [
       "4"
      ]
     },
     "execution_count": 30,
     "metadata": {},
     "output_type": "execute_result"
    }
   ],
   "source": [
    "func3(0)"
   ]
  },
  {
   "cell_type": "code",
   "execution_count": 31,
   "metadata": {},
   "outputs": [
    {
     "data": {
      "text/plain": [
       "2"
      ]
     },
     "execution_count": 31,
     "metadata": {},
     "output_type": "execute_result"
    }
   ],
   "source": [
    "func3(1)"
   ]
  },
  {
   "cell_type": "code",
   "execution_count": 32,
   "metadata": {},
   "outputs": [
    {
     "data": {
      "text/plain": [
       "2"
      ]
     },
     "execution_count": 32,
     "metadata": {},
     "output_type": "execute_result"
    }
   ],
   "source": [
    "func3(2)"
   ]
  },
  {
   "cell_type": "code",
   "execution_count": 33,
   "metadata": {},
   "outputs": [
    {
     "data": {
      "text/plain": [
       "2"
      ]
     },
     "execution_count": 33,
     "metadata": {},
     "output_type": "execute_result"
    }
   ],
   "source": [
    "func3(3)"
   ]
  },
  {
   "cell_type": "code",
   "execution_count": 34,
   "metadata": {},
   "outputs": [
    {
     "data": {
      "text/plain": [
       "6"
      ]
     },
     "execution_count": 34,
     "metadata": {},
     "output_type": "execute_result"
    }
   ],
   "source": [
    "func3(-1)"
   ]
  },
  {
   "cell_type": "code",
   "execution_count": 35,
   "metadata": {},
   "outputs": [
    {
     "data": {
      "text/plain": [
       "8"
      ]
     },
     "execution_count": 35,
     "metadata": {},
     "output_type": "execute_result"
    }
   ],
   "source": [
    "func3(-2)"
   ]
  },
  {
   "cell_type": "markdown",
   "metadata": {},
   "source": [
    "<h2>4.</h2>"
   ]
  },
  {
   "cell_type": "code",
   "execution_count": 36,
   "metadata": {},
   "outputs": [],
   "source": [
    "def func4(x):\n",
    "    return x**2"
   ]
  },
  {
   "cell_type": "markdown",
   "metadata": {},
   "source": [
    "<h3>(a)</h3>\n",
    "\n",
    "$$f(-x)=f(x)$$"
   ]
  },
  {
   "cell_type": "code",
   "execution_count": 38,
   "metadata": {},
   "outputs": [
    {
     "data": {
      "text/plain": [
       "9"
      ]
     },
     "execution_count": 38,
     "metadata": {},
     "output_type": "execute_result"
    }
   ],
   "source": [
    "func4(-3)"
   ]
  },
  {
   "cell_type": "markdown",
   "metadata": {},
   "source": [
    "<h3>(b)</h3>\n",
    "\n",
    "$$f(y)-f(x)=(y-x)(y+x)$$"
   ]
  },
  {
   "cell_type": "code",
   "execution_count": 47,
   "metadata": {},
   "outputs": [
    {
     "name": "stdout",
     "output_type": "stream",
     "text": [
      "1365 = 1365\n"
     ]
    }
   ],
   "source": [
    "y=43\n",
    "x=22\n",
    "print(func4(y)-func4(x),\"=\",(y-x)*(y+x))"
   ]
  },
  {
   "cell_type": "markdown",
   "metadata": {},
   "source": [
    "<h3>(c)</h3>\n",
    "\n",
    "$$ f(x+h) - f(x) = 2xh + h^2$$"
   ]
  },
  {
   "cell_type": "code",
   "execution_count": 50,
   "metadata": {},
   "outputs": [
    {
     "name": "stdout",
     "output_type": "stream",
     "text": [
      "40 = 40\n"
     ]
    }
   ],
   "source": [
    "x=3\n",
    "h=4\n",
    "print(func4(x+h) - func4(x), \"=\", 2*x*h + h**2)"
   ]
  },
  {
   "cell_type": "markdown",
   "metadata": {},
   "source": [
    "<h3>(d)</h3>\n",
    "\n",
    "$$f(2y) = 4f(y)$$"
   ]
  },
  {
   "cell_type": "code",
   "execution_count": 52,
   "metadata": {},
   "outputs": [
    {
     "name": "stdout",
     "output_type": "stream",
     "text": [
      "36 = 36\n"
     ]
    }
   ],
   "source": [
    "y=3\n",
    "print(func4(2*y), \"=\", 4 * func4(y))"
   ]
  },
  {
   "cell_type": "markdown",
   "metadata": {},
   "source": [
    "<h3>(e)</h3>\n",
    "\n",
    "$$f(t^2)=f(t)^2$$"
   ]
  },
  {
   "cell_type": "code",
   "execution_count": 54,
   "metadata": {},
   "outputs": [
    {
     "name": "stdout",
     "output_type": "stream",
     "text": [
      "256 = 256\n"
     ]
    }
   ],
   "source": [
    "t=4\n",
    "print(func4(t**2),\"=\",func4(t)**2)"
   ]
  },
  {
   "cell_type": "markdown",
   "metadata": {},
   "source": [
    "<h3>(f)</h3>\n",
    "\n",
    "$$\\sqrt{f(a)} = |a|$$"
   ]
  },
  {
   "cell_type": "code",
   "execution_count": 58,
   "metadata": {},
   "outputs": [
    {
     "name": "stdout",
     "output_type": "stream",
     "text": [
      "30.2 = 30.2\n"
     ]
    }
   ],
   "source": [
    "a=-30.2\n",
    "print(func4(a)**(1/2), \"=\", abs(a))"
   ]
  },
  {
   "cell_type": "markdown",
   "metadata": {},
   "source": [
    "<h2>5.</h2>\n",
    "\n",
    "Sea $g(x) = \\sqrt{4-x^2}$ para $|x| \\leq 2$. Comprobar cada una de las fórmulas siguientes e indicar para qué valores de $x, \\; y, s$ y $t$ son válidas."
   ]
  },
  {
   "cell_type": "code",
   "execution_count": 3,
   "metadata": {},
   "outputs": [],
   "source": [
    "def func5(x):\n",
    "    return (4-x**2)**(1/2)"
   ]
  },
  {
   "cell_type": "markdown",
   "metadata": {},
   "source": [
    "<h3>(a)</h3>\n",
    "\n",
    "$$g(-x) = g(x)$$"
   ]
  },
  {
   "cell_type": "code",
   "execution_count": 17,
   "metadata": {},
   "outputs": [
    {
     "name": "stdout",
     "output_type": "stream",
     "text": [
      "1.6 = 1.6\n"
     ]
    }
   ],
   "source": [
    "def func5a(x):\n",
    "    if abs(x) <= 2:\n",
    "        print(func5(-x),\"=\",func5(x))\n",
    "    else:\n",
    "        print(\"El dominio esta determinado por |x|<=2\")\n",
    "\n",
    "#ejemplos\n",
    "func5a(-1.2)"
   ]
  },
  {
   "cell_type": "markdown",
   "metadata": {},
   "source": [
    "<h3>(b)</h3>\n",
    "\n",
    "$$g(2y) = 2\\sqrt{1-y^2}$$"
   ]
  },
  {
   "cell_type": "code",
   "execution_count": 43,
   "metadata": {},
   "outputs": [
    {
     "name": "stdout",
     "output_type": "stream",
     "text": [
      "1.42828568570857 = 1.42828568570857\n"
     ]
    }
   ],
   "source": [
    "def func5b(y):\n",
    "    if abs(y) <=1:\n",
    "        print(func5(2*y),\"=\",2 * (1-y**2)**(1/2))\n",
    "    else:\n",
    "        print(\"Debe ser |y|<=1\")\n",
    "\n",
    "#ejemplos\n",
    "func5b(-0.7)"
   ]
  },
  {
   "cell_type": "markdown",
   "metadata": {},
   "source": [
    "<h3>(c)</h3>\n",
    "\n",
    "$$g\\left( \\dfrac{1}{t} \\right) = \\dfrac{ \\sqrt{4t^2-1}}{|t|} $$"
   ]
  },
  {
   "cell_type": "code",
   "execution_count": 57,
   "metadata": {},
   "outputs": [
    {
     "name": "stdout",
     "output_type": "stream",
     "text": [
      "1.9424836242258228 = 1.9424836242258228\n"
     ]
    }
   ],
   "source": [
    "def func5c(t):\n",
    "    if abs(t) >= 1/2:\n",
    "        print(func5(1/t),\"=\",(4* t**2 - 1)**(1/2)/abs(t))\n",
    "    else:\n",
    "        print(\"Debe cumplir la condición |x|>=1/2\")\n",
    "func5c(-2.1)"
   ]
  },
  {
   "cell_type": "markdown",
   "metadata": {},
   "source": [
    "<h3>(d)</h3>\n",
    "\n",
    "$$g(a-2) = \\sqrt{4a-a^2}$$"
   ]
  },
  {
   "cell_type": "code",
   "execution_count": 72,
   "metadata": {},
   "outputs": [
    {
     "name": "stdout",
     "output_type": "stream",
     "text": [
      "0.6244997998398399  0.6244997998398403\n"
     ]
    }
   ],
   "source": [
    "def func5d(a):\n",
    "    if a >= 0 and a<=4:\n",
    "        print(func5(a-2),\"\",(4*a - a**2)**(1/2))\n",
    "    else:\n",
    "        print(\"Se debe cumplir el dominio de a que va de 0 a 4\")\n",
    "#ejemplo\n",
    "func5d(3.9)"
   ]
  },
  {
   "cell_type": "markdown",
   "metadata": {},
   "source": [
    "<h3>(e)</h3>\n",
    "\n",
    "$$g \\left( \\dfrac{s}{2} \\right) = \\dfrac{1}{2} \\sqrt{16 - s^2}$$"
   ]
  },
  {
   "cell_type": "code",
   "execution_count": 74,
   "metadata": {},
   "outputs": [
    {
     "name": "stdout",
     "output_type": "stream",
     "text": [
      "1.3228756555322954 = 1.3228756555322954\n"
     ]
    }
   ],
   "source": [
    "def func5e(s):\n",
    "    if abs(s) <= 4:\n",
    "        print(func5(s/2),\"=\",(1/2) * (16-s**2)**(1/2))\n",
    "    else:\n",
    "        print(\"Se debe cumplir que |s| <= 4$\")\n",
    "\n",
    "#ejemplo\n",
    "func5e(3)"
   ]
  },
  {
   "cell_type": "markdown",
   "metadata": {},
   "source": [
    "<h3>(f)</h3>\n",
    "\n",
    "$$\\dfrac{1}{2 +g(x)} = \\dfrac{2-g(x)}{x^2}$$"
   ]
  },
  {
   "cell_type": "code",
   "execution_count": 78,
   "metadata": {},
   "outputs": [
    {
     "name": "stdout",
     "output_type": "stream",
     "text": [
      "0.30094415309675765 = 0.3009441530967576\n"
     ]
    }
   ],
   "source": [
    "def func5f(x):\n",
    "    if x>=-2 and x<=2 and x!=0:\n",
    "        print(1/(2+func5(x)),\"=\",(2-func5(x))/x**2)\n",
    "    else:\n",
    "        print(\"Se debe cumplir que |x|<=2 y x distinto de 0\")\n",
    "#ejemplo\n",
    "func5f(1.5)"
   ]
  },
  {
   "cell_type": "code",
   "execution_count": null,
   "metadata": {},
   "outputs": [],
   "source": []
  }
 ],
 "metadata": {
  "kernelspec": {
   "display_name": "Python 3",
   "language": "python",
   "name": "python3"
  },
  "language_info": {
   "codemirror_mode": {
    "name": "ipython",
    "version": 3
   },
   "file_extension": ".py",
   "mimetype": "text/x-python",
   "name": "python",
   "nbconvert_exporter": "python",
   "pygments_lexer": "ipython3",
   "version": "3.8.10"
  }
 },
 "nbformat": 4,
 "nbformat_minor": 4
}
