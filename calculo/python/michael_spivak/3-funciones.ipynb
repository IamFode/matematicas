{
 "cells": [
  {
   "cell_type": "markdown",
   "metadata": {},
   "source": [
    "<h1>Problemas</h1>"
   ]
  },
  {
   "cell_type": "markdown",
   "metadata": {},
   "source": [
    "<h2>1</h2>\n",
    "\n",
    "Sea $f(x)=1/(1+x)$ Interpretar lo siguiente:"
   ]
  },
  {
   "cell_type": "code",
   "execution_count": 28,
   "metadata": {},
   "outputs": [],
   "source": [
    "def f(x):\n",
    "    return 1/(1+x)"
   ]
  },
  {
   "cell_type": "markdown",
   "metadata": {},
   "source": [
    "<h3>(i)</h3>\n",
    "\n",
    "$$f\\left( f\\left( x \\right) \\right)$$"
   ]
  },
  {
   "cell_type": "code",
   "execution_count": 29,
   "metadata": {},
   "outputs": [
    {
     "data": {
      "text/plain": [
       "0.75"
      ]
     },
     "execution_count": 29,
     "metadata": {},
     "output_type": "execute_result"
    }
   ],
   "source": [
    "def fi(x):\n",
    "    if x != -1 and x != -2:\n",
    "        return f(f(x))\n",
    "    else:\n",
    "        print(\"x debe ser distinto de -1 ó -2\")\n",
    "\n",
    "#ejemplo\n",
    "fi(2)"
   ]
  },
  {
   "cell_type": "markdown",
   "metadata": {},
   "source": [
    "<h3>(ii)</h3>\n",
    "$$f\\left( \\dfrac{1}{x} \\right)$$"
   ]
  },
  {
   "cell_type": "code",
   "execution_count": 14,
   "metadata": {},
   "outputs": [
    {
     "data": {
      "text/plain": [
       "0.6666666666666666"
      ]
     },
     "execution_count": 14,
     "metadata": {},
     "output_type": "execute_result"
    }
   ],
   "source": [
    "def iif(x):\n",
    "    if x != -1 and x != 0:\n",
    "        return f(1/x)\n",
    "    \n",
    "#ejemplo\n",
    "iif(2)"
   ]
  },
  {
   "cell_type": "markdown",
   "metadata": {},
   "source": [
    "<h3>(iii)</h3>\n",
    "$$f(cx)$$"
   ]
  },
  {
   "cell_type": "code",
   "execution_count": 17,
   "metadata": {},
   "outputs": [
    {
     "data": {
      "text/plain": [
       "0.14285714285714285"
      ]
     },
     "execution_count": 17,
     "metadata": {},
     "output_type": "execute_result"
    }
   ],
   "source": [
    "def iiif(c,x):\n",
    "    if x != -1 and c != 0:\n",
    "       return f(c*x)\n",
    "\n",
    "#ejemplo\n",
    "iiif(2,3)"
   ]
  },
  {
   "cell_type": "markdown",
   "metadata": {},
   "source": [
    "<h3>(iv)</h3>\n",
    "\n",
    "$$f(x+y)$$"
   ]
  },
  {
   "cell_type": "code",
   "execution_count": 19,
   "metadata": {},
   "outputs": [
    {
     "data": {
      "text/plain": [
       "0.14285714285714285"
      ]
     },
     "execution_count": 19,
     "metadata": {},
     "output_type": "execute_result"
    }
   ],
   "source": [
    "def ivf(x,y):\n",
    "    if x+y != -1:\n",
    "        return f(x+y)\n",
    "    \n",
    "#ejemplo\n",
    "ivf(2,4)"
   ]
  },
  {
   "cell_type": "markdown",
   "metadata": {},
   "source": [
    "<h3>(v)</h3>\n",
    "\n",
    "$$f(x) + f(y)$$"
   ]
  },
  {
   "cell_type": "code",
   "execution_count": 25,
   "metadata": {},
   "outputs": [
    {
     "data": {
      "text/plain": [
       "-0.8333333333333334"
      ]
     },
     "execution_count": 25,
     "metadata": {},
     "output_type": "execute_result"
    }
   ],
   "source": [
    "def vf(x,y):\n",
    "    if x != -1 and y != -1:\n",
    "        return f(x) + f(y)\n",
    "    else:\n",
    "        print(\"Debe ser x diferente de -1 o y diferente de -1\")\n",
    "        \n",
    "#ejemplo\n",
    "vf(-2,5)"
   ]
  },
  {
   "cell_type": "markdown",
   "metadata": {},
   "source": [
    "<h2>3.</h2>\n",
    "\n",
    "<h3>(i)</h3>\n",
    "\n",
    "$$f(x)=\\sqrt{1-x^2}$$"
   ]
  },
  {
   "cell_type": "code",
   "execution_count": 45,
   "metadata": {},
   "outputs": [
    {
     "data": {
      "text/plain": [
       "0.8660254037844386"
      ]
     },
     "execution_count": 45,
     "metadata": {},
     "output_type": "execute_result"
    }
   ],
   "source": [
    "def fi(x):\n",
    "    if abs(x) <= 1:\n",
    "       return (1-x**2)**(1/2) \n",
    "    else:\n",
    "        print(\"x debe ser igual positivo y menor o igual a 1\")\n",
    "#ejemplos\n",
    "fi(0.5)"
   ]
  },
  {
   "cell_type": "markdown",
   "metadata": {},
   "source": [
    "<h3>(ii)</h3>\n",
    "\n",
    "$$f(x)=\\sqrt{1- \\sqrt{1-x^2}}$$"
   ]
  },
  {
   "cell_type": "code",
   "execution_count": 46,
   "metadata": {},
   "outputs": [
    {
     "data": {
      "text/plain": [
       "0.14214113720780766"
      ]
     },
     "execution_count": 46,
     "metadata": {},
     "output_type": "execute_result"
    }
   ],
   "source": [
    "def iif(x):\n",
    "    if x >=-1 and x <=1:\n",
    "        return (1-(1-x**2)**(1/2))**(1/2)\n",
    "    else:\n",
    "        print(\"x debe ser mayor o igual que -1 y menor o igual a 1\")\n",
    "        \n",
    "#ejemplo\n",
    "iif(0.2)"
   ]
  },
  {
   "cell_type": "markdown",
   "metadata": {},
   "source": [
    "<h3>(iii)</h3>\n",
    "\n",
    "$$f(x)=\\dfrac{1}{x-1} + \\dfrac{1}{x-2}$$"
   ]
  },
  {
   "cell_type": "code",
   "execution_count": 50,
   "metadata": {},
   "outputs": [
    {
     "data": {
      "text/plain": [
       "0.5833333333333333"
      ]
     },
     "execution_count": 50,
     "metadata": {},
     "output_type": "execute_result"
    }
   ],
   "source": [
    "def iiif(x):\n",
    "    if x != 1 and x!=2:\n",
    "        return (1/(x-1)) + (1/(x-2))\n",
    "    else:\n",
    "        print(\"x debe ser distinto de 1 y 2\")\n",
    "             \n",
    "#ejemplo\n",
    "iiif(5)"
   ]
  },
  {
   "cell_type": "markdown",
   "metadata": {},
   "source": [
    "<h3>(iv)</h3>\n",
    "\n",
    "$$f(x)=\\sqrt{1-x^2}+ \\sqrt{x^2 - 1}$$"
   ]
  },
  {
   "cell_type": "code",
   "execution_count": 16,
   "metadata": {},
   "outputs": [
    {
     "data": {
      "text/plain": [
       "0.0"
      ]
     },
     "execution_count": 16,
     "metadata": {},
     "output_type": "execute_result"
    }
   ],
   "source": [
    "def ivf(x):\n",
    "    if x >=-1 and x <=1:\n",
    "        return (1-x**2)**(1/2) + (x**2 - 1)**(1/2)\n",
    "    else:\n",
    "        print(\"x debe estar entre -1 y 1 inclusive\")\n",
    "\n",
    "#ejemplo\n",
    "ivf(1)"
   ]
  },
  {
   "cell_type": "markdown",
   "metadata": {},
   "source": [
    "<h2>4.</h2>\n",
    "\n",
    "$$S(x)=x^2 \\; \\; \\; P(x)=2^x \\;\\;\\; s(x)= \\sin x$$"
   ]
  },
  {
   "cell_type": "markdown",
   "metadata": {},
   "source": [
    "<h3>(i)</h3>\n",
    "\n",
    "$$(S \\circ P)(y)$$"
   ]
  },
  {
   "cell_type": "code",
   "execution_count": 24,
   "metadata": {},
   "outputs": [
    {
     "data": {
      "text/plain": [
       "16"
      ]
     },
     "execution_count": 24,
     "metadata": {},
     "output_type": "execute_result"
    }
   ],
   "source": [
    "def fi(y):\n",
    "   return 2**(2*y) \n",
    "\n",
    "#ejemplo\n",
    "fi(2)"
   ]
  },
  {
   "cell_type": "markdown",
   "metadata": {},
   "source": [
    "<h3>(ii)</h3>\n",
    "\n",
    "$$(S \\circ s) (y)$$"
   ]
  },
  {
   "cell_type": "code",
   "execution_count": 25,
   "metadata": {},
   "outputs": [
    {
     "data": {
      "text/plain": [
       "0.5727500169043067"
      ]
     },
     "execution_count": 25,
     "metadata": {},
     "output_type": "execute_result"
    }
   ],
   "source": [
    "import math\n",
    "def iif(y):\n",
    "    return (math.sin(y))**2\n",
    "\n",
    "#ejemplo\n",
    "iif(4)"
   ]
  },
  {
   "cell_type": "markdown",
   "metadata": {},
   "source": [
    "<h3>(iii)</h3>\n",
    "\n",
    "$$(S \\circ P \\circ s)(t) + (s \\circ P)(t)$$"
   ]
  },
  {
   "cell_type": "code",
   "execution_count": 26,
   "metadata": {},
   "outputs": [
    {
     "data": {
      "text/plain": [
       "2.205439828210583"
      ]
     },
     "execution_count": 26,
     "metadata": {},
     "output_type": "execute_result"
    }
   ],
   "source": [
    "def iiif(t):\n",
    "    return 2**(2* math.sin(t)) + math.sin(2**t)\n",
    "\n",
    "#ejemplo\n",
    "iiif(3)"
   ]
  },
  {
   "cell_type": "markdown",
   "metadata": {},
   "source": [
    "<h3>(iv)</h3>\n",
    "\n",
    "$$s(t^3)$$"
   ]
  },
  {
   "cell_type": "code",
   "execution_count": 27,
   "metadata": {},
   "outputs": [
    {
     "data": {
      "text/plain": [
       "0.956375928404503"
      ]
     },
     "execution_count": 27,
     "metadata": {},
     "output_type": "execute_result"
    }
   ],
   "source": [
    "def ivf(t):\n",
    "    return math.sin(t**3)\n",
    "\n",
    "#ejemplo \n",
    "ivf(3)"
   ]
  },
  {
   "cell_type": "markdown",
   "metadata": {},
   "source": [
    "<h2>7.<h2>"
   ]
  },
  {
   "cell_type": "markdown",
   "metadata": {},
   "source": [
    "<h2>8.</h2>"
   ]
  },
  {
   "cell_type": "code",
   "execution_count": 1,
   "metadata": {},
   "outputs": [
    {
     "data": {
      "text/plain": [
       "1.1538461538461537"
      ]
     },
     "execution_count": 1,
     "metadata": {},
     "output_type": "execute_result"
    }
   ],
   "source": [
    "def f(x,a,b,c,d):\n",
    "    return (a*x+d)/(c*x+b)\n",
    "\n",
    "#ejemplo\n",
    "f(2,4,3,5,7)"
   ]
  },
  {
   "cell_type": "markdown",
   "metadata": {},
   "source": [
    "## 9."
   ]
  },
  {
   "cell_type": "markdown",
   "metadata": {},
   "source": [
    "## 10."
   ]
  },
  {
   "cell_type": "code",
   "execution_count": 3,
   "metadata": {},
   "outputs": [],
   "source": [
    "def f(x):\n",
    "    return x\n",
    "\n",
    "def g(x):\n",
    "    return x**2\n"
   ]
  },
  {
   "cell_type": "markdown",
   "metadata": {},
   "source": [
    "## 11"
   ]
  },
  {
   "cell_type": "code",
   "execution_count": null,
   "metadata": {},
   "outputs": [],
   "source": []
  }
 ],
 "metadata": {
  "kernelspec": {
   "display_name": "Python 3",
   "language": "python",
   "name": "python3"
  },
  "language_info": {
   "codemirror_mode": {
    "name": "ipython",
    "version": 3
   },
   "file_extension": ".py",
   "mimetype": "text/x-python",
   "name": "python",
   "nbconvert_exporter": "python",
   "pygments_lexer": "ipython3",
   "version": "3.8.5"
  }
 },
 "nbformat": 4,
 "nbformat_minor": 4
}
