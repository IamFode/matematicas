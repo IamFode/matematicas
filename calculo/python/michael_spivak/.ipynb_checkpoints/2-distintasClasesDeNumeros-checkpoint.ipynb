{
 "cells": [
  {
   "cell_type": "markdown",
   "metadata": {},
   "source": [
    "<h1>Problemas</h1>\n",
    "<h2>1.</h2>\n",
    "<h3>(i)</h3>\n",
    "$$1^2+...+n^2=\\dfrac{n(n+1)(2n+1)}{6}$$"
   ]
  },
  {
   "cell_type": "code",
   "execution_count": 1,
   "metadata": {},
   "outputs": [
    {
     "name": "stdout",
     "output_type": "stream",
     "text": [
      "6201 = 6201\n"
     ]
    }
   ],
   "source": [
    "def induc1(n):\n",
    "    control = 0\n",
    "    for n in range(1,n+1):\n",
    "        control += n**2\n",
    "    print(control, \"=\", int((n*(n+1)*(2*n+1))/6))\n",
    "\n",
    "#ejemplos\n",
    "induc1(26)"
   ]
  },
  {
   "cell_type": "markdown",
   "metadata": {},
   "source": [
    "<h3>(ii)</h3>\n",
    "$$1^2 + ... +9 n^2 = (1+...+n)^2$$"
   ]
  },
  {
   "cell_type": "code",
   "execution_count": 11,
   "metadata": {},
   "outputs": [
    {
     "name": "stdout",
     "output_type": "stream",
     "text": [
      "76176 = 76176\n"
     ]
    }
   ],
   "source": [
    "def ind(n):\n",
    "    control,cont = 0,0\n",
    "    for x in range(1,n+1):\n",
    "        control += x**3\n",
    "        cont += x\n",
    "    print(control, \"=\",cont**2)\n",
    "\n",
    "#ejemplos\n",
    "ind(23)"
   ]
  },
  {
   "cell_type": "markdown",
   "metadata": {},
   "source": [
    "<h2>2.</h2>\n",
    "<h3>(i)</h3>\n",
    "$$\\sum_{i=1}^{n} (2i-1) = 1 +3 +5 + ... + (2n-1) = n^2$$"
   ]
  },
  {
   "cell_type": "code",
   "execution_count": 12,
   "metadata": {},
   "outputs": [
    {
     "name": "stdout",
     "output_type": "stream",
     "text": [
      "36 = 36\n"
     ]
    }
   ],
   "source": [
    "def ind2i(n):\n",
    "    control = 0\n",
    "    for i in range(1,n+1):\n",
    "        control += 2*i - 1\n",
    "    print(control, \"=\", n**2 )\n",
    "\n",
    "#ejemplos \n",
    "ind3(6)"
   ]
  },
  {
   "cell_type": "markdown",
   "metadata": {},
   "source": [
    "<h3>(ii)</h3>\n",
    "$$\\sum_{i=1}^{n} (2i-1)^2 = 1^2 + 3^2 + 5^2 + ... + (2n-1)^2 = \\dfrac{n(2n+1)(2n-1)}{6}$$"
   ]
  },
  {
   "cell_type": "code",
   "execution_count": 17,
   "metadata": {},
   "outputs": [
    {
     "name": "stdout",
     "output_type": "stream",
     "text": [
      "84 = 84.0\n"
     ]
    }
   ],
   "source": [
    "def ind2ii(n):\n",
    "    control = 0\n",
    "    for i in range(1,n+1):\n",
    "        control += (2*i - 1)**2\n",
    "    print(control, \"=\", (n*(2*n + 1)*(2*n - 1))/3)\n",
    "\n",
    "#ejemplos\n",
    "ind2ii(4)"
   ]
  },
  {
   "cell_type": "markdown",
   "metadata": {},
   "source": [
    "<h2>Definición coeficiente binomial</h2>\n",
    "\n",
    "Si $0 < k \\leq n$ entonces \n",
    "\n",
    "$${n \\choose k} = \\dfrac{n!}{k!(n-k)!} = \\dfrac{n(n-1)...(n-k+1)}{k!} $$"
   ]
  },
  {
   "cell_type": "code",
   "execution_count": 1,
   "metadata": {},
   "outputs": [
    {
     "data": {
      "text/plain": [
       "3921225"
      ]
     },
     "execution_count": 1,
     "metadata": {},
     "output_type": "execute_result"
    }
   ],
   "source": [
    "def binomial(n, k):\n",
    "    if k < 0 or k > n:\n",
    "        return 0\n",
    "    if k == 0 or k == n:\n",
    "        return 1\n",
    "    total_ways = 1\n",
    "    for i in range(min(k, n - k)):\n",
    "        total_ways = total_ways * (n - i) // (i + 1)\n",
    "    return total_ways\n",
    "\n",
    "#ejemplos\n",
    "#startTime = time.time()\n",
    "binomial(100,4)\n",
    "#print(\"--- %s seconds ---\" % (time.time() - startTime))"
   ]
  },
  {
   "cell_type": "markdown",
   "metadata": {},
   "source": [
    "<h2>3.</h2>\n",
    "<h3>(a)</h3>\n",
    "$${n +1 \\choose k} = {n \\choose k - 1} + {n \\choose k}$$"
   ]
  },
  {
   "cell_type": "code",
   "execution_count": 214,
   "metadata": {},
   "outputs": [
    {
     "name": "stdout",
     "output_type": "stream",
     "text": [
      "4082925 = 4082925\n"
     ]
    }
   ],
   "source": [
    "def binomial3a(n,k):\n",
    "    print(binomial(n+1,k), \"=\",binomial(n,k-1)+binomial(n,k))\n",
    "\n",
    "#ejemplos\n",
    "binomial3a(100,4)"
   ]
  },
  {
   "cell_type": "markdown",
   "metadata": {},
   "source": [
    "<h3>(d)</h3>\n",
    "<h4>Teorema del Binomio</h4>\n",
    "$$(a+b)^n = a^n + {n \\choose 1} a^{n-1} b + {n \\choose 2} a^{n-2} b^2 + ... + {n \\choose n-1} a b^{n-1} + b^n = \\displaystyle \\sum_{j=0}^n {n \\choose j} a^{n-j} b^j$$"
   ]
  },
  {
   "cell_type": "code",
   "execution_count": 240,
   "metadata": {},
   "outputs": [
    {
     "name": "stdout",
     "output_type": "stream",
     "text": [
      "83521 = 83521\n"
     ]
    }
   ],
   "source": [
    "def teoBinomio(a,b,n):\n",
    "    sum = 0\n",
    "    for j in range(n+1):\n",
    "        sum += binomial(n,j) * a**(n-j) * b**j\n",
    "    print((a+b)**n, \"=\", sum)\n",
    "\n",
    "#ejemplos \n",
    "#startTime = time.time()\n",
    "teoBinomio(7,10,4)\n",
    "#print(\"--- %s seconds ---\" % (time.time() - startTime))"
   ]
  },
  {
   "cell_type": "markdown",
   "metadata": {},
   "source": [
    "<h3>(e)</h3>\n",
    "\n",
    "<h4>(i)</h4>\n",
    "\n",
    "$$\\sum_{j=0}^{n} {n \\choose j} = {n \\choose 0} + ... + {n \\choose n} = 2^n$$"
   ]
  },
  {
   "cell_type": "code",
   "execution_count": 3,
   "metadata": {},
   "outputs": [
    {
     "name": "stdout",
     "output_type": "stream",
     "text": [
      "131072 = 131072\n"
     ]
    }
   ],
   "source": [
    "def sum3ei(n):\n",
    "    sum = 0\n",
    "    for j in range(n+1):\n",
    "        sum+= binomial(n,j)\n",
    "    print(sum,\"=\",2**n)\n",
    "\n",
    "#ejemplos\n",
    "sum3ei(17)"
   ]
  },
  {
   "cell_type": "markdown",
   "metadata": {},
   "source": [
    "<h4>(ii)</h4>\n",
    "\n",
    "$$\\sum_{j=0}^n (-1)^j {n \\choose j} = {n \\choose 0}- {n \\choose 1}+...\\pm {n \\choose n} =0$$"
   ]
  },
  {
   "cell_type": "code",
   "execution_count": 29,
   "metadata": {},
   "outputs": [
    {
     "name": "stdout",
     "output_type": "stream",
     "text": [
      "0 = 0\n"
     ]
    }
   ],
   "source": [
    "def sum3eii(n):\n",
    "    sum = 0\n",
    "    for j in range(n+1):\n",
    "        sum += (-1)**j * binomial(n,j)\n",
    "    print(sum,\"=\",0)\n",
    "\n",
    "#ejemplos\n",
    "sum3eii(30)"
   ]
  },
  {
   "cell_type": "markdown",
   "metadata": {},
   "source": [
    "<h4>(iii)</h4>\n",
    "$$\\sum_{l \\; impar} {n \\choose l} = {n \\choose 1} + {n \\choose 3}+ ... = 2^{n-1}$$"
   ]
  },
  {
   "cell_type": "code",
   "execution_count": 28,
   "metadata": {},
   "outputs": [
    {
     "name": "stdout",
     "output_type": "stream",
     "text": [
      "4096 = 4096\n"
     ]
    }
   ],
   "source": [
    "def sum3eiii(n):\n",
    "    sum = 0\n",
    "    for j in range(n+1):\n",
    "        if j % 2 != 0:\n",
    "            sum += binomial(n,j)\n",
    "    print(sum,\"=\",2**(n-1))\n",
    "\n",
    "#ejemplos\n",
    "sum3eiii(13)"
   ]
  },
  {
   "cell_type": "markdown",
   "metadata": {},
   "source": [
    "<h4>(iv)</h4>\n",
    "$$\\sum_{l \\; par} {n \\choose l} = {n \\choose 0} + {n \\choose 2} + ...  = 2^{n-1}$$"
   ]
  },
  {
   "cell_type": "code",
   "execution_count": 27,
   "metadata": {},
   "outputs": [
    {
     "name": "stdout",
     "output_type": "stream",
     "text": [
      "4096 = 4096\n"
     ]
    }
   ],
   "source": [
    "def sum3eiv(n):\n",
    "    sum = 0\n",
    "    for j in range(n+1):\n",
    "        if j % 2 == 0:\n",
    "            sum += binomial(n,j)\n",
    "    print(sum,\"=\",2**(n-1))\n",
    "\n",
    "#ejemplos\n",
    "sum3eiv(13)"
   ]
  },
  {
   "cell_type": "markdown",
   "metadata": {},
   "source": [
    "<h2>4.</h2>\n",
    "<h3>(a)</h3>\n",
    "$$\\sum_{k=0}^{l} {n \\choose k} {m \\choose l-k} = {n+m \\choose l}$$"
   ]
  },
  {
   "cell_type": "code",
   "execution_count": 6,
   "metadata": {},
   "outputs": [
    {
     "name": "stdout",
     "output_type": "stream",
     "text": [
      "35 = 35\n"
     ]
    }
   ],
   "source": [
    "def sum4a(l,n,m):\n",
    "    sum=0\n",
    "    for k in range(l+1):\n",
    "        sum += binomial(n,k) * binomial(m,l-k) \n",
    "    print(sum,\"=\",binomial(n+m,l))\n",
    "\n",
    "#ejemplo\n",
    "sum4a(4,3,4)"
   ]
  },
  {
   "cell_type": "markdown",
   "metadata": {},
   "source": [
    "<h3>(b)</h3>\n",
    "\n",
    "$$\\sum_{k=0}^{n} {n \\choose k}^2 = {2n \\choose n}$$"
   ]
  },
  {
   "cell_type": "code",
   "execution_count": 9,
   "metadata": {},
   "outputs": [
    {
     "name": "stdout",
     "output_type": "stream",
     "text": [
      "12870 = 12870\n"
     ]
    }
   ],
   "source": [
    "def sum4b(n):\n",
    "    sum=0\n",
    "    for k in range(n+1):\n",
    "        sum += binomial(n,k) ** 2\n",
    "    print(sum,\"=\",binomial(2*n,n))\n",
    "\n",
    "#ejemplo\n",
    "sum4b(8)"
   ]
  },
  {
   "cell_type": "markdown",
   "metadata": {},
   "source": [
    "<h2>5.</h2>"
   ]
  },
  {
   "cell_type": "markdown",
   "metadata": {},
   "source": [
    "<h3>(a) y (b)</h3>\n",
    "\n",
    "$$1 + r +r^2 + ... + r^n = \\dfrac{1 - r^{n+1}}{1-r} \\; \\;  si \\; r\\neq 1$$"
   ]
  },
  {
   "cell_type": "code",
   "execution_count": 11,
   "metadata": {},
   "outputs": [
    {
     "name": "stdout",
     "output_type": "stream",
     "text": [
      "209.6875 = 209.6875\n"
     ]
    }
   ],
   "source": [
    "def ind5a(n,r):\n",
    "    sum = 0\n",
    "    for i in range(n+1):\n",
    "        sum += r**i\n",
    "    print(sum,\"=\",(1-(r)**(n+1))/(1-r))\n",
    "\n",
    "#ejemplo\n",
    "ind5a(4,3.5)"
   ]
  },
  {
   "cell_type": "markdown",
   "metadata": {},
   "source": [
    "<h2>6.</h2>\n",
    "<h3>(i)</h3>\n",
    "\n",
    "$$\\sum_{k=1}^n k^3 = \\dfrac{n^4}{4} + \\dfrac{n^3}{2} + \\dfrac{n^2}{4}$$"
   ]
  },
  {
   "cell_type": "code",
   "execution_count": 6,
   "metadata": {},
   "outputs": [
    {
     "name": "stdout",
     "output_type": "stream",
     "text": [
      "3025 = 3025\n"
     ]
    }
   ],
   "source": [
    " def sum6i(n):\n",
    "    sum = 0\n",
    "    for k in range(1,n+1):\n",
    "        sum+=k**3\n",
    "    print(sum,\"=\",int((n**4/4) + (n**3/2)+(n**2/4)))\n",
    "\n",
    "#ejemplo\n",
    "sum6i(10)"
   ]
  },
  {
   "cell_type": "markdown",
   "metadata": {},
   "source": [
    "<h3>(ii)</h3>\n",
    "\n",
    "$$\\sum\\limits_{k=1}^n k^4 =  \\dfrac{n^5}{5} + \\dfrac{n^4}{2} + \\dfrac{n^3}{3} - \\dfrac{n}{30}$$"
   ]
  },
  {
   "cell_type": "code",
   "execution_count": 7,
   "metadata": {},
   "outputs": [
    {
     "name": "stdout",
     "output_type": "stream",
     "text": [
      "25333 = 25333\n"
     ]
    }
   ],
   "source": [
    " def sum6i(n):\n",
    "    sum = 0\n",
    "    for k in range(1,n+1):\n",
    "        sum+=k**4\n",
    "    print(sum,\"=\",int((n**5/5) + (n**4/2)+(n**3/3)-(n/30)))\n",
    "\n",
    "#ejemplo\n",
    "sum6i(10)"
   ]
  },
  {
   "cell_type": "markdown",
   "metadata": {},
   "source": [
    "<h3>(iii)</h3>\n",
    "\n",
    "$$1-\\dfrac{1}{n+1} = \\displaystyle\\sum_{k=1}^n \\dfrac{1}{k(k+1)}$$"
   ]
  },
  {
   "cell_type": "code",
   "execution_count": 20,
   "metadata": {},
   "outputs": [
    {
     "data": {
      "text/plain": [
       "'0.8 = 0.8'"
      ]
     },
     "execution_count": 20,
     "metadata": {},
     "output_type": "execute_result"
    }
   ],
   "source": [
    "def sum6iii(n):\n",
    "    sum=0\n",
    "    for k in range(1,n+1):\n",
    "        sum+=1/(k*(k+1))\n",
    "    return \"{} = {}\".format(sum,1-(1/(n+1)))\n",
    "\n",
    "#ejemplo\n",
    "sum6iii(4)"
   ]
  },
  {
   "cell_type": "markdown",
   "metadata": {},
   "source": [
    "<h3>(iv)</h3>\n",
    "\n",
    "$$1-\\dfrac{1}{(n+1)^2} = \\displaystyle\\sum_{k=1}^n \\dfrac{2k+1}{k^2(k+1)^2}$$"
   ]
  },
  {
   "cell_type": "code",
   "execution_count": 19,
   "metadata": {},
   "outputs": [
    {
     "data": {
      "text/plain": [
       "'0.96 = 0.96'"
      ]
     },
     "execution_count": 19,
     "metadata": {},
     "output_type": "execute_result"
    }
   ],
   "source": [
    "def sum6iv(n):\n",
    "    sum=0\n",
    "    for k in range(1,n+1):\n",
    "        sum+=(2*k+1)/((k**2)*(k+1)**2)\n",
    "    return \"{} = {}\".format(sum,1-(1/(n+1)**2))\n",
    "\n",
    "#ejemplo\n",
    "sum6iv(4)"
   ]
  },
  {
   "cell_type": "markdown",
   "metadata": {},
   "source": [
    "<h2>8.</h2>\n",
    "\n",
    "Todo número natural es o par o impar."
   ]
  },
  {
   "cell_type": "code",
   "execution_count": 43,
   "metadata": {},
   "outputs": [
    {
     "data": {
      "text/plain": [
       "'Par: [2, 4, 6, 8, 10, 12] ---------- Impar: [1, 3, 5, 7, 9, 11]'"
      ]
     },
     "execution_count": 43,
     "metadata": {},
     "output_type": "execute_result"
    }
   ],
   "source": [
    "def number(k):\n",
    "    par,impar = [],[]\n",
    "    for i in range(1,k+1):\n",
    "        if i%2==0: \n",
    "            par.append(i)\n",
    "        else:\n",
    "            impar.append(i)\n",
    "    return \"Par: {} ---------- Impar: {}\".format(par,impar)\n",
    "\n",
    "#ejemplo\n",
    "number(12)"
   ]
  },
  {
   "cell_type": "markdown",
   "metadata": {},
   "source": [
    "<h2>15</h2>\n",
    "<h3>(a)</h3>\n",
    "\n",
    "Demostrar que si $x=p+ \\sqrt{q}$, donde $p$  y  $q$ son racionales, y  $m$ es un número natural, entonces $x^m = a + b \\sqrt{q}$ siendo $a$ y  $b$ números racionales."
   ]
  },
  {
   "cell_type": "code",
   "execution_count": 3,
   "metadata": {},
   "outputs": [],
   "source": [
    "def num15(x,p,q,m):\n",
    "    if x == p + q++(1/2) and m>0:\n",
    "        return \"{} = {}\".format(x**m, a + b*(q)**(1/2))\n",
    "    else:\n",
    "        print(\"Se debe cumplir la hipótesis\")"
   ]
  },
  {
   "cell_type": "markdown",
   "metadata": {},
   "source": [
    "<h3>(b)</h3>\n",
    "\n",
    "Demostrar también que $(p - \\sqrt{q})^m = a - b\\sqrt{q}$"
   ]
  },
  {
   "cell_type": "code",
   "execution_count": 5,
   "metadata": {},
   "outputs": [],
   "source": [
    "def num15b():\n",
    "    return \"{} = {}\".format((p - q)**(1/2),a-b* q**(1/2))"
   ]
  },
  {
   "cell_type": "markdown",
   "metadata": {},
   "source": [
    "<h2>19.</h2>\n",
    "\n",
    "Demostrar la desigualdad de Bernoulli: Si $h>-1$, entonces $$(1+h)^n \\geq 1 + nh$$"
   ]
  },
  {
   "cell_type": "code",
   "execution_count": 9,
   "metadata": {},
   "outputs": [
    {
     "data": {
      "text/plain": [
       "'5.648824609877829 >= 3.1654'"
      ]
     },
     "execution_count": 9,
     "metadata": {},
     "output_type": "execute_result"
    }
   ],
   "source": [
    "def num19(n,h):\n",
    "    if h>-1:\n",
    "        return \"{} >= {}\".format((1+h)**n,1+n*h)\n",
    "    else:\n",
    "        return \"h debe ser mayor que -1\"\n",
    "\n",
    "#ejemplo\n",
    "num19(4.01,0.54)"
   ]
  },
  {
   "cell_type": "markdown",
   "metadata": {},
   "source": [
    "<h2>20.</h2>\n",
    "\n",
    "$$a_n = \\dfrac{\\left( \\dfrac{1+\\sqrt{5}}{2} \\right)^n - \\left( \\dfrac{1-\\sqrt{5}}{2} \\right)^n}{\\sqrt{5}}$$"
   ]
  },
  {
   "cell_type": "code",
   "execution_count": 6,
   "metadata": {},
   "outputs": [
    {
     "data": {
      "text/plain": [
       "'55=55.000000000000014'"
      ]
     },
     "execution_count": 6,
     "metadata": {},
     "output_type": "execute_result"
    }
   ],
   "source": [
    "#fibonacci\n",
    "def fib(n):\n",
    "    a, b = 0, 1\n",
    "    for _ in range(n):\n",
    "        a, b = b, a+b\n",
    "    return \"{}={}\".format(a,(((1+5**(1/2))/2)**n-((1-5**(1/2))/2)**n)/5**(1/2))\n",
    "\n",
    "#ejemplo \n",
    "fib(10)"
   ]
  },
  {
   "cell_type": "markdown",
   "metadata": {},
   "source": [
    "<h2>21.</h2>\n",
    "\n",
    "$$\\displaystyle\\sum_{i=1}^n x_i y_i \\leq \\sqrt{\\sum_{i=1}^n x_i^2} \\sqrt{\\sum_{i=1}^n y_i^2}$$"
   ]
  },
  {
   "cell_type": "code",
   "execution_count": 3,
   "metadata": {},
   "outputs": [
    {
     "data": {
      "text/plain": [
       "'36 <= 37.040518354904265'"
      ]
     },
     "execution_count": 3,
     "metadata": {},
     "output_type": "execute_result"
    }
   ],
   "source": [
    "def desSchwarz(n):\n",
    "    sum1, sum2, sum3 = 0,0,0\n",
    "    for i in range(1,n+1):\n",
    "        sum1+=i * i**2\n",
    "        sum2+=i**2\n",
    "        sum3+=(i**2)**2\n",
    "    return \"{} <= {}\".format(sum1,((sum2)**(1/2))*((sum3)**(1/2)))\n",
    "\n",
    "#ejemplo\n",
    "desSchwarz(3)"
   ]
  },
  {
   "cell_type": "markdown",
   "metadata": {},
   "source": [
    "<h2>22.</h2>\n",
    "\n"
   ]
  }
 ],
 "metadata": {
  "kernelspec": {
   "display_name": "Python 3",
   "language": "python",
   "name": "python3"
  },
  "language_info": {
   "codemirror_mode": {
    "name": "ipython",
    "version": 3
   },
   "file_extension": ".py",
   "mimetype": "text/x-python",
   "name": "python",
   "nbconvert_exporter": "python",
   "pygments_lexer": "ipython3",
   "version": "3.8.10"
  }
 },
 "nbformat": 4,
 "nbformat_minor": 4
}
