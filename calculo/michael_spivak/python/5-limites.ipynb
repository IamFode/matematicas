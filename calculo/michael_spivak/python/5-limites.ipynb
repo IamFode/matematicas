{
 "cells": [
  {
   "cell_type": "markdown",
   "id": "c9f1f32e",
   "metadata": {},
   "source": [
    "# Problemas"
   ]
  },
  {
   "cell_type": "code",
   "execution_count": 1,
   "id": "f3ab04fc",
   "metadata": {},
   "outputs": [],
   "source": [
    "# librerias\n",
    "from sympy import *"
   ]
  },
  {
   "cell_type": "markdown",
   "id": "f3670246",
   "metadata": {},
   "source": [
    "## 1."
   ]
  },
  {
   "cell_type": "markdown",
   "id": "3a813c55",
   "metadata": {},
   "source": [
    "### (i)"
   ]
  },
  {
   "cell_type": "code",
   "execution_count": 5,
   "id": "7baf1003",
   "metadata": {},
   "outputs": [
    {
     "data": {
      "text/latex": [
       "$\\displaystyle 0$"
      ],
      "text/plain": [
       "0"
      ]
     },
     "execution_count": 5,
     "metadata": {},
     "output_type": "execute_result"
    }
   ],
   "source": [
    "x = Symbol(\"x\")\n",
    "f = (x**2-1)/(x+1)\n",
    "limit(f,x,1)"
   ]
  },
  {
   "cell_type": "markdown",
   "id": "3911eabc",
   "metadata": {},
   "source": [
    "### (ii)"
   ]
  },
  {
   "cell_type": "code",
   "execution_count": 7,
   "id": "338427e0",
   "metadata": {},
   "outputs": [
    {
     "data": {
      "text/latex": [
       "$\\displaystyle 12$"
      ],
      "text/plain": [
       "12"
      ]
     },
     "execution_count": 7,
     "metadata": {},
     "output_type": "execute_result"
    }
   ],
   "source": [
    "x = Symbol(\"x\")\n",
    "f = (x**3 - 8)/(x-2)\n",
    "limit(f,x,2)"
   ]
  },
  {
   "cell_type": "markdown",
   "id": "fcc7b8c4",
   "metadata": {},
   "source": [
    "### (iii)"
   ]
  },
  {
   "cell_type": "code",
   "execution_count": 8,
   "id": "b9e5172e",
   "metadata": {},
   "outputs": [
    {
     "data": {
      "text/latex": [
       "$\\displaystyle 19$"
      ],
      "text/plain": [
       "19"
      ]
     },
     "execution_count": 8,
     "metadata": {},
     "output_type": "execute_result"
    }
   ],
   "source": [
    "x = Symbol(\"x\")\n",
    "f = (x**3 - 8)/(x-2)\n",
    "limit(f,x,3)"
   ]
  },
  {
   "cell_type": "markdown",
   "id": "49c545e0",
   "metadata": {},
   "source": [
    "## 2."
   ]
  },
  {
   "cell_type": "markdown",
   "id": "c2d5a984",
   "metadata": {},
   "source": [
    "### (i)"
   ]
  },
  {
   "cell_type": "code",
   "execution_count": 10,
   "id": "faa7e20a",
   "metadata": {},
   "outputs": [
    {
     "data": {
      "text/latex": [
       "$\\displaystyle 0.5$"
      ],
      "text/plain": [
       "0.500000000000000"
      ]
     },
     "execution_count": 10,
     "metadata": {},
     "output_type": "execute_result"
    }
   ],
   "source": [
    "x = Symbol(\"x\")\n",
    "f = (1-(x)**(1/2))/(1-x)\n",
    "limit(f,x,1)"
   ]
  },
  {
   "cell_type": "markdown",
   "id": "4ba1dae2",
   "metadata": {},
   "source": [
    "### (ii)"
   ]
  },
  {
   "cell_type": "code",
   "execution_count": 11,
   "id": "fcb9651c",
   "metadata": {},
   "outputs": [
    {
     "data": {
      "text/latex": [
       "$\\displaystyle 0$"
      ],
      "text/plain": [
       "0"
      ]
     },
     "execution_count": 11,
     "metadata": {},
     "output_type": "execute_result"
    }
   ],
   "source": [
    "x = Symbol(\"x\")\n",
    "f = (1-(1-x**2)**(1/2))/x\n",
    "limit(f,x,0)"
   ]
  },
  {
   "cell_type": "markdown",
   "id": "30e0f19a",
   "metadata": {},
   "source": [
    "### (iii)"
   ]
  },
  {
   "cell_type": "code",
   "execution_count": 12,
   "id": "d15d1c8f",
   "metadata": {},
   "outputs": [
    {
     "data": {
      "text/latex": [
       "$\\displaystyle 0.5$"
      ],
      "text/plain": [
       "0.500000000000000"
      ]
     },
     "execution_count": 12,
     "metadata": {},
     "output_type": "execute_result"
    }
   ],
   "source": [
    "x = Symbol(\"x\")\n",
    "f = (1-(1-x**2)**(1/2))/(x**2)\n",
    "limit(f,x,0)"
   ]
  },
  {
   "cell_type": "code",
   "execution_count": null,
   "id": "35cc989b",
   "metadata": {},
   "outputs": [],
   "source": []
  }
 ],
 "metadata": {
  "kernelspec": {
   "display_name": "Python 3",
   "language": "python",
   "name": "python3"
  },
  "language_info": {
   "codemirror_mode": {
    "name": "ipython",
    "version": 3
   },
   "file_extension": ".py",
   "mimetype": "text/x-python",
   "name": "python",
   "nbconvert_exporter": "python",
   "pygments_lexer": "ipython3",
   "version": "3.8.5"
  }
 },
 "nbformat": 4,
 "nbformat_minor": 5
}
