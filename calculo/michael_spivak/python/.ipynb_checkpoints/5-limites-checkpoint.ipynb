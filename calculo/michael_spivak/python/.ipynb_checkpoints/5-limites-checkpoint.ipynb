{
 "cells": [
  {
   "cell_type": "markdown",
   "id": "11b75427-fa2e-4590-b372-073e3777b6e5",
   "metadata": {},
   "source": [
    "# Problemas"
   ]
  },
  {
   "cell_type": "code",
   "execution_count": 1,
   "id": "1f4ad8c1-f01d-4c28-b8d5-9b536bcc1271",
   "metadata": {},
   "outputs": [],
   "source": [
    "# librerias\n",
    "from sympy import *"
   ]
  },
  {
   "cell_type": "markdown",
   "id": "b49f3412-9555-40d5-a5c2-1400191b2397",
   "metadata": {},
   "source": [
    "## 1."
   ]
  },
  {
   "cell_type": "markdown",
   "id": "b10fc691-c114-4eec-bb38-abcec96e25bf",
   "metadata": {},
   "source": [
    "### (i)"
   ]
  },
  {
   "cell_type": "code",
   "execution_count": 5,
   "id": "f959733b-abf0-4d3e-ae55-1a4dd0df8a4d",
   "metadata": {},
   "outputs": [
    {
     "data": {
      "text/latex": [
       "$\\displaystyle 0$"
      ],
      "text/plain": [
       "0"
      ]
     },
     "execution_count": 5,
     "metadata": {},
     "output_type": "execute_result"
    }
   ],
   "source": [
    "x = Symbol(\"x\")\n",
    "f = (x**2-1)/(x+1)\n",
    "limit(f,x,1)"
   ]
  },
  {
   "cell_type": "markdown",
   "id": "e1eb881f-281b-4531-867d-4f7cc190554d",
   "metadata": {},
   "source": [
    "### (ii)"
   ]
  },
  {
   "cell_type": "code",
   "execution_count": 7,
   "id": "4cace527-10bb-4217-b1aa-f6e9825fcbbf",
   "metadata": {},
   "outputs": [
    {
     "data": {
      "text/latex": [
       "$\\displaystyle 12$"
      ],
      "text/plain": [
       "12"
      ]
     },
     "execution_count": 7,
     "metadata": {},
     "output_type": "execute_result"
    }
   ],
   "source": [
    "x = Symbol(\"x\")\n",
    "f = (x**3 - 8)/(x-2)\n",
    "limit(f,x,2)"
   ]
  },
  {
   "cell_type": "markdown",
   "id": "8e7f6af6-d81e-4d83-b4eb-91a57c89fbea",
   "metadata": {},
   "source": [
    "### (iii)"
   ]
  },
  {
   "cell_type": "code",
   "execution_count": 8,
   "id": "e668a62d-ce11-4917-a8ab-06438026b526",
   "metadata": {},
   "outputs": [
    {
     "data": {
      "text/latex": [
       "$\\displaystyle 19$"
      ],
      "text/plain": [
       "19"
      ]
     },
     "execution_count": 8,
     "metadata": {},
     "output_type": "execute_result"
    }
   ],
   "source": [
    "x = Symbol(\"x\")\n",
    "f = (x**3 - 8)/(x-2)\n",
    "limit(f,x,3)"
   ]
  },
  {
   "cell_type": "markdown",
   "id": "65c360fa-e86f-46dc-88aa-d7d26d552fee",
   "metadata": {},
   "source": [
    "## 2."
   ]
  },
  {
   "cell_type": "markdown",
   "id": "df68f771-dc1b-47f9-82c3-97cb797fb80e",
   "metadata": {},
   "source": [
    "### (i)"
   ]
  },
  {
   "cell_type": "code",
   "execution_count": 10,
   "id": "b7f5135d-bfbf-4787-9842-247a07730c8e",
   "metadata": {},
   "outputs": [
    {
     "data": {
      "text/latex": [
       "$\\displaystyle 0.5$"
      ],
      "text/plain": [
       "0.500000000000000"
      ]
     },
     "execution_count": 10,
     "metadata": {},
     "output_type": "execute_result"
    }
   ],
   "source": [
    "x = Symbol(\"x\")\n",
    "f = (1-(x)**(1/2))/(1-x)\n",
    "limit(f,x,1)"
   ]
  },
  {
   "cell_type": "markdown",
   "id": "a060b6a8-1f0d-4c2f-bd45-9d6d2e520c1f",
   "metadata": {},
   "source": [
    "### (ii)"
   ]
  },
  {
   "cell_type": "code",
   "execution_count": 11,
   "id": "8234ebc2-d9d6-4fff-8a6c-aa1e18a09c0a",
   "metadata": {},
   "outputs": [
    {
     "data": {
      "text/latex": [
       "$\\displaystyle 0$"
      ],
      "text/plain": [
       "0"
      ]
     },
     "execution_count": 11,
     "metadata": {},
     "output_type": "execute_result"
    }
   ],
   "source": [
    "x = Symbol(\"x\")\n",
    "f = (1-(1-x**2)**(1/2))/x\n",
    "limit(f,x,0)"
   ]
  },
  {
   "cell_type": "markdown",
   "id": "13722f29-4ce7-4f74-93de-55a6fea942b3",
   "metadata": {},
   "source": [
    "### (iii)"
   ]
  },
  {
   "cell_type": "code",
   "execution_count": 12,
   "id": "a925ee06-c948-48e9-be49-444220c5abac",
   "metadata": {},
   "outputs": [
    {
     "data": {
      "text/latex": [
       "$\\displaystyle 0.5$"
      ],
      "text/plain": [
       "0.500000000000000"
      ]
     },
     "execution_count": 12,
     "metadata": {},
     "output_type": "execute_result"
    }
   ],
   "source": [
    "x = Symbol(\"x\")\n",
    "f = (1-(1-x**2)**(1/2))/(x**2)\n",
    "limit(f,x,0)"
   ]
  },
  {
   "cell_type": "code",
   "execution_count": null,
   "id": "0c46b0f6-91d2-4892-8349-b84c4de812ae",
   "metadata": {},
   "outputs": [],
   "source": []
  }
 ],
 "metadata": {
  "kernelspec": {
   "display_name": "Python 3",
   "language": "python",
   "name": "python3"
  },
  "language_info": {
   "codemirror_mode": {
    "name": "ipython",
    "version": 3
   },
   "file_extension": ".py",
   "mimetype": "text/x-python",
   "name": "python",
   "nbconvert_exporter": "python",
   "pygments_lexer": "ipython3",
   "version": "3.8.5"
  }
 },
 "nbformat": 4,
 "nbformat_minor": 5
}
