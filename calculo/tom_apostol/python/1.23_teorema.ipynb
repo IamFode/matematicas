{
 "cells": [
  {
   "cell_type": "markdown",
   "id": "59bb1b03-9f1f-4e6c-8169-ee6cf74e9399",
   "metadata": {},
   "source": [
    "# Cálculo de la integral $\\int_0^b x^p \\; dx$ siendo $p$ entero positivo."
   ]
  },
  {
   "cell_type": "markdown",
   "id": "2f341f58-1566-493d-b266-517b3c210827",
   "metadata": {},
   "source": [
    "## Teorema 1.16"
   ]
  },
  {
   "cell_type": "code",
   "execution_count": 106,
   "id": "baae0e4f-c6c2-49b2-998b-d7d902192c60",
   "metadata": {},
   "outputs": [],
   "source": [
    "def teo(n,b,p):\n",
    "    n_1, n_2, int = 0, 0, (b**(p+1))/(p+1)\n",
    "    for k in range(0,n):\n",
    "        n_1 += ((k*b)/n)**p\n",
    "    for t in range(1,n+1):\n",
    "        n_2 += ((t*b)/n)**p\n",
    "    print((b/n) * n_1, int, n_2*(b/n))"
   ]
  },
  {
   "cell_type": "code",
   "execution_count": 105,
   "id": "2c24580c-f87d-49f2-9444-96a880e10e5e",
   "metadata": {},
   "outputs": [
    {
     "name": "stdout",
     "output_type": "stream",
     "text": [
      "63.999680000400275 64.0 64.00032000040028\n"
     ]
    }
   ],
   "source": [
    "teo(400000,4,3)"
   ]
  },
  {
   "cell_type": "code",
   "execution_count": null,
   "id": "9b916fc8-810d-4612-8bb1-ed1ac193b611",
   "metadata": {},
   "outputs": [],
   "source": []
  }
 ],
 "metadata": {
  "kernelspec": {
   "display_name": "Python 3",
   "language": "python",
   "name": "python3"
  },
  "language_info": {
   "codemirror_mode": {
    "name": "ipython",
    "version": 3
   },
   "file_extension": ".py",
   "mimetype": "text/x-python",
   "name": "python",
   "nbconvert_exporter": "python",
   "pygments_lexer": "ipython3",
   "version": "3.8.5"
  }
 },
 "nbformat": 4,
 "nbformat_minor": 5
}
