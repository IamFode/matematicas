{
 "cells": [
  {
   "cell_type": "markdown",
   "metadata": {},
   "source": [
    "<h1>I 4.9 Ejercicios</h1>"
   ]
  },
  {
   "cell_type": "markdown",
   "metadata": {},
   "source": [
    "<h2>1.</h2>\n",
    "<h3>(a)</h3>\n",
    "$$|x|=0 \\; \\mbox{si y sólo si} \\; x=0$$"
   ]
  },
  {
   "cell_type": "code",
   "execution_count": 9,
   "metadata": {},
   "outputs": [
    {
     "name": "stdout",
     "output_type": "stream",
     "text": [
      "0\n",
      "El número es incorrecto, debe ser estrictamente 0\n"
     ]
    }
   ],
   "source": [
    "def va1a(x):\n",
    "    if x == 0:\n",
    "        print(abs(x)) \n",
    "    else:\n",
    "        print(\"El número es incorrecto, debe ser estrictamente 0\")\n",
    "        \n",
    "#ejemplos\n",
    "va1a(0)\n",
    "va1a(1)"
   ]
  },
  {
   "cell_type": "markdown",
   "metadata": {},
   "source": [
    "<h3>(b)</h3>\n",
    "$$|-x|=|x|$$"
   ]
  },
  {
   "cell_type": "code",
   "execution_count": 10,
   "metadata": {},
   "outputs": [
    {
     "name": "stdout",
     "output_type": "stream",
     "text": [
      "2  =  2\n"
     ]
    }
   ],
   "source": [
    "def va1b(x):\n",
    "    print(abs(-x),\" = \",abs(x))\n",
    "\n",
    "#ejemplos\n",
    "va1b(-2)"
   ]
  },
  {
   "cell_type": "markdown",
   "metadata": {},
   "source": [
    "<h3>(c)</h3>\n",
    "$$|x-y|=|y-x|$$"
   ]
  },
  {
   "cell_type": "code",
   "execution_count": 11,
   "metadata": {},
   "outputs": [
    {
     "name": "stdout",
     "output_type": "stream",
     "text": [
      "6  =  6\n"
     ]
    }
   ],
   "source": [
    "def va1b(x,y):\n",
    "    print(abs(x-y),\" = \",abs(y-x))\n",
    "va1b(2,-4)"
   ]
  },
  {
   "cell_type": "markdown",
   "metadata": {},
   "source": [
    "<h3>(d)</h3>\n",
    "$$|x|^2 = x^2$$"
   ]
  },
  {
   "cell_type": "code",
   "execution_count": 12,
   "metadata": {},
   "outputs": [
    {
     "name": "stdout",
     "output_type": "stream",
     "text": [
      "9  =  9\n"
     ]
    }
   ],
   "source": [
    "def va1d(x):\n",
    "    print(abs(x)**2, \" = \",x**2)\n",
    "\n",
    "#ejemplos \n",
    "va1d(-3)"
   ]
  },
  {
   "cell_type": "markdown",
   "metadata": {},
   "source": [
    "<h3>(e)</h3>\n",
    "$$|x|=\\sqrt{x^2}$$"
   ]
  },
  {
   "cell_type": "code",
   "execution_count": 14,
   "metadata": {},
   "outputs": [
    {
     "name": "stdout",
     "output_type": "stream",
     "text": [
      "2.4  =  2.4\n"
     ]
    }
   ],
   "source": [
    "def va1e(x):\n",
    "    print(abs(x), \" = \", (x**2)**(1/2))\n",
    "\n",
    "#ejemplos\n",
    "va1e(-2.4)"
   ]
  },
  {
   "cell_type": "markdown",
   "metadata": {},
   "source": [
    "<h3>(f)</h3>\n",
    "$$|xy|=|x||y|$$"
   ]
  },
  {
   "cell_type": "code",
   "execution_count": 16,
   "metadata": {},
   "outputs": [
    {
     "name": "stdout",
     "output_type": "stream",
     "text": [
      "8  =  8\n"
     ]
    }
   ],
   "source": [
    "def va1f(x,y):\n",
    "    print(abs(x*y), \" = \", abs(x)* abs(y))\n",
    "\n",
    "#ejemplos \n",
    "va1f(2,-4)"
   ]
  },
  {
   "cell_type": "markdown",
   "metadata": {},
   "source": [
    "<h3>(g)</h3>\n",
    "$$|x/y|=|x|/|y|$$"
   ]
  },
  {
   "cell_type": "code",
   "execution_count": 25,
   "metadata": {},
   "outputs": [
    {
     "name": "stdout",
     "output_type": "stream",
     "text": [
      "0.5  =  0.5\n",
      "El valor debe ser distinto de 0\n"
     ]
    }
   ],
   "source": [
    "def va1g(x,y):\n",
    "    if y != 0:\n",
    "        print(abs(x/y), \" = \", abs(x)/abs(y))\n",
    "    else:\n",
    "        print(\"El valor debe ser distinto de 0\")\n",
    "    \n",
    "#ejemplos\n",
    "va1g(-4,8)\n",
    "va1g(-2,0)"
   ]
  },
  {
   "cell_type": "markdown",
   "metadata": {},
   "source": [
    "<h3>(h)</h3>\n",
    "$$|x-y|\\leq |x|+|y|$$"
   ]
  },
  {
   "cell_type": "code",
   "execution_count": 26,
   "metadata": {},
   "outputs": [
    {
     "name": "stdout",
     "output_type": "stream",
     "text": [
      "1  <=  3\n",
      "755  <=  755\n"
     ]
    }
   ],
   "source": [
    "def va1h(x,y):\n",
    "    left = abs(x-y)  \n",
    "    right = abs(x) + abs(y)\n",
    "    print(left, \" <= \",right)\n",
    "    \n",
    "#ejemplos\n",
    "va1h(2,1)\n",
    "va1h(212,-543)"
   ]
  },
  {
   "cell_type": "markdown",
   "metadata": {},
   "source": [
    "<h3>(i)</h3>\n",
    "$$|x|-|y| \\leq |x-y|$$"
   ]
  },
  {
   "cell_type": "code",
   "execution_count": 30,
   "metadata": {},
   "outputs": [
    {
     "name": "stdout",
     "output_type": "stream",
     "text": [
      "-1  <=  5\n",
      "2  <=  2\n",
      "1  <=  9\n"
     ]
    }
   ],
   "source": [
    "def va1i(x,y):\n",
    "    print(abs(x)-abs(y), \" <= \", abs(x-y))\n",
    "\n",
    "#ejemplos\n",
    "va1i(2,-3)\n",
    "va1i(-6,-4)\n",
    "va1i(-5,4)"
   ]
  },
  {
   "cell_type": "markdown",
   "metadata": {},
   "source": [
    "<h3>(j)</h3>\n",
    "$$\\left| |x| - |y| \\right| \\leq |x-y|$$"
   ]
  },
  {
   "cell_type": "code",
   "execution_count": 32,
   "metadata": {},
   "outputs": [
    {
     "name": "stdout",
     "output_type": "stream",
     "text": [
      "1  <=  5\n",
      "2  <=  2\n",
      "1  <=  9\n"
     ]
    }
   ],
   "source": [
    "def va1i(x,y):\n",
    "    print(abs(abs(x)-abs(y)), \" <= \", abs(x-y))\n",
    "\n",
    "#ejemplos\n",
    "va1i(2,-3)\n",
    "va1i(-6,-4)\n",
    "va1i(-5,4)"
   ]
  },
  {
   "cell_type": "code",
   "execution_count": null,
   "metadata": {},
   "outputs": [],
   "source": []
  }
 ],
 "metadata": {
  "kernelspec": {
   "display_name": "Python 3",
   "language": "python",
   "name": "python3"
  },
  "language_info": {
   "codemirror_mode": {
    "name": "ipython",
    "version": 3
   },
   "file_extension": ".py",
   "mimetype": "text/x-python",
   "name": "python",
   "nbconvert_exporter": "python",
   "pygments_lexer": "ipython3",
   "version": "3.6.8"
  }
 },
 "nbformat": 4,
 "nbformat_minor": 4
}
