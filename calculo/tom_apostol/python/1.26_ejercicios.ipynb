{
 "cells": [
  {
   "cell_type": "markdown",
   "id": "654b89d9",
   "metadata": {},
   "source": [
    "# Ejercicios"
   ]
  },
  {
   "cell_type": "code",
   "execution_count": 7,
   "id": "b5116538",
   "metadata": {},
   "outputs": [],
   "source": [
    "# librerias\n",
    "from sympy import * "
   ]
  },
  {
   "cell_type": "markdown",
   "id": "32bfbce5",
   "metadata": {},
   "source": [
    "## 1."
   ]
  },
  {
   "cell_type": "code",
   "execution_count": 16,
   "id": "61d90cef",
   "metadata": {},
   "outputs": [
    {
     "data": {
      "text/latex": [
       "$\\displaystyle 9$"
      ],
      "text/plain": [
       "9"
      ]
     },
     "execution_count": 16,
     "metadata": {},
     "output_type": "execute_result"
    }
   ],
   "source": [
    "f = x*2\n",
    "integrate(f,(x,0,3))"
   ]
  },
  {
   "cell_type": "markdown",
   "id": "8873a563",
   "metadata": {},
   "source": [
    "## 2."
   ]
  },
  {
   "cell_type": "code",
   "execution_count": 18,
   "id": "ee5e2990",
   "metadata": {},
   "outputs": [
    {
     "data": {
      "text/latex": [
       "$\\displaystyle 18$"
      ],
      "text/plain": [
       "18"
      ]
     },
     "execution_count": 18,
     "metadata": {},
     "output_type": "execute_result"
    }
   ],
   "source": [
    "f = x**2\n",
    "integrate(f,(x,-3,3))"
   ]
  },
  {
   "cell_type": "markdown",
   "id": "aadba846",
   "metadata": {},
   "source": [
    "## 3."
   ]
  },
  {
   "cell_type": "code",
   "execution_count": 21,
   "id": "5418e975",
   "metadata": {},
   "outputs": [
    {
     "data": {
      "text/latex": [
       "$\\displaystyle 16$"
      ],
      "text/plain": [
       "16"
      ]
     },
     "execution_count": 21,
     "metadata": {},
     "output_type": "execute_result"
    }
   ],
   "source": [
    "f = 4*x**3\n",
    "integrate(f,(x,0,2))"
   ]
  },
  {
   "cell_type": "markdown",
   "id": "57938b8e",
   "metadata": {},
   "source": [
    "## 4."
   ]
  },
  {
   "cell_type": "code",
   "execution_count": 22,
   "id": "5e8b668d",
   "metadata": {},
   "outputs": [
    {
     "data": {
      "text/latex": [
       "$\\displaystyle 0$"
      ],
      "text/plain": [
       "0"
      ]
     },
     "execution_count": 22,
     "metadata": {},
     "output_type": "execute_result"
    }
   ],
   "source": [
    "f = 4*x**3\n",
    "integrate(f,(x,-2,2))"
   ]
  },
  {
   "cell_type": "markdown",
   "id": "0b96e69c",
   "metadata": {},
   "source": [
    "## 5."
   ]
  },
  {
   "cell_type": "code",
   "execution_count": 23,
   "id": "e79da493",
   "metadata": {},
   "outputs": [
    {
     "data": {
      "text/latex": [
       "$\\displaystyle 1$"
      ],
      "text/plain": [
       "1"
      ]
     },
     "execution_count": 23,
     "metadata": {},
     "output_type": "execute_result"
    }
   ],
   "source": [
    "f = 5*x**4\n",
    "integrate(f,(x,0,1))"
   ]
  },
  {
   "cell_type": "markdown",
   "id": "0e986368",
   "metadata": {},
   "source": [
    "## 6."
   ]
  },
  {
   "cell_type": "code",
   "execution_count": 24,
   "id": "38f60fe1",
   "metadata": {},
   "outputs": [
    {
     "data": {
      "text/latex": [
       "$\\displaystyle 2$"
      ],
      "text/plain": [
       "2"
      ]
     },
     "execution_count": 24,
     "metadata": {},
     "output_type": "execute_result"
    }
   ],
   "source": [
    "f = 5*x**4\n",
    "integrate(f,(x,-1,1))"
   ]
  },
  {
   "cell_type": "markdown",
   "id": "7edf370b",
   "metadata": {},
   "source": [
    "## 7."
   ]
  },
  {
   "cell_type": "code",
   "execution_count": 25,
   "id": "d0668a80",
   "metadata": {},
   "outputs": [
    {
     "data": {
      "text/latex": [
       "$\\displaystyle 0$"
      ],
      "text/plain": [
       "0"
      ]
     },
     "execution_count": 25,
     "metadata": {},
     "output_type": "execute_result"
    }
   ],
   "source": [
    "f = 5*x**4 - 4*x**3\n",
    "integrate(f,(x,0,1))"
   ]
  },
  {
   "cell_type": "markdown",
   "id": "58c454d3",
   "metadata": {},
   "source": [
    "## 8."
   ]
  },
  {
   "cell_type": "code",
   "execution_count": 26,
   "id": "eed54be9",
   "metadata": {},
   "outputs": [
    {
     "data": {
      "text/latex": [
       "$\\displaystyle 2$"
      ],
      "text/plain": [
       "2"
      ]
     },
     "execution_count": 26,
     "metadata": {},
     "output_type": "execute_result"
    }
   ],
   "source": [
    "f = 5*x**4 - 4*x**3\n",
    "integrate(f,(x,-1,1))"
   ]
  },
  {
   "cell_type": "markdown",
   "id": "f8d759df",
   "metadata": {},
   "source": [
    "## 9."
   ]
  },
  {
   "cell_type": "code",
   "execution_count": 31,
   "id": "f0cf8f26",
   "metadata": {},
   "outputs": [
    {
     "data": {
      "text/latex": [
       "$\\displaystyle 6$"
      ],
      "text/plain": [
       "6"
      ]
     },
     "execution_count": 31,
     "metadata": {},
     "output_type": "execute_result"
    }
   ],
   "source": [
    "f = x**2 + 1\n",
    "integrate(f,(x,-1,2))"
   ]
  },
  {
   "cell_type": "markdown",
   "id": "b0639a55",
   "metadata": {},
   "source": [
    "## 10."
   ]
  },
  {
   "cell_type": "code",
   "execution_count": 33,
   "id": "87e8ff7c",
   "metadata": {},
   "outputs": [
    {
     "data": {
      "text/latex": [
       "$\\displaystyle 11$"
      ],
      "text/plain": [
       "11"
      ]
     },
     "execution_count": 33,
     "metadata": {},
     "output_type": "execute_result"
    }
   ],
   "source": [
    "f = 3*x**2 - 4*x + 2\n",
    "integrate(f,(x,2,3))"
   ]
  },
  {
   "cell_type": "markdown",
   "id": "dbc20286",
   "metadata": {},
   "source": [
    "## 11."
   ]
  },
  {
   "cell_type": "code",
   "execution_count": 40,
   "id": "97640d93",
   "metadata": {},
   "outputs": [
    {
     "data": {
      "text/latex": [
       "$\\displaystyle 2.625$"
      ],
      "text/plain": [
       "2.62500000000000"
      ]
     },
     "execution_count": 40,
     "metadata": {},
     "output_type": "execute_result"
    }
   ],
   "source": [
    "f = 8*x**3 + 6*x**2 - 2*x + 5\n",
    "integrate(f,(x,0,1/2))"
   ]
  },
  {
   "cell_type": "markdown",
   "id": "e49c0817",
   "metadata": {},
   "source": [
    "## 12."
   ]
  },
  {
   "cell_type": "code",
   "execution_count": 36,
   "id": "64471e62",
   "metadata": {},
   "outputs": [
    {
     "data": {
      "text/latex": [
       "$\\displaystyle 18$"
      ],
      "text/plain": [
       "18"
      ]
     },
     "execution_count": 36,
     "metadata": {},
     "output_type": "execute_result"
    }
   ],
   "source": [
    "f = (x-1)*(x-2)\n",
    "integrate(f,(x,-2,4))"
   ]
  },
  {
   "cell_type": "markdown",
   "id": "9c76f748",
   "metadata": {},
   "source": [
    "## 13."
   ]
  },
  {
   "cell_type": "code",
   "execution_count": 42,
   "id": "2b0c263d",
   "metadata": {},
   "outputs": [
    {
     "data": {
      "text/latex": [
       "$\\displaystyle \\frac{1}{3}$"
      ],
      "text/plain": [
       "1/3"
      ]
     },
     "execution_count": 42,
     "metadata": {},
     "output_type": "execute_result"
    }
   ],
   "source": [
    "f = (x+1)**2\n",
    "integrate(f,(x,-1,0))"
   ]
  },
  {
   "cell_type": "markdown",
   "id": "6414f91e",
   "metadata": {},
   "source": [
    "## 14."
   ]
  },
  {
   "cell_type": "code",
   "execution_count": 41,
   "id": "54c15b31",
   "metadata": {},
   "outputs": [
    {
     "data": {
      "text/latex": [
       "$\\displaystyle - \\frac{1}{3}$"
      ],
      "text/plain": [
       "-1/3"
      ]
     },
     "execution_count": 41,
     "metadata": {},
     "output_type": "execute_result"
    }
   ],
   "source": [
    "f = (x+1)**2\n",
    "integrate(f,(x,0,-1))"
   ]
  },
  {
   "cell_type": "markdown",
   "id": "9ea78f2c",
   "metadata": {},
   "source": [
    "## 15."
   ]
  },
  {
   "cell_type": "code",
   "execution_count": 46,
   "id": "d7fa0cf0",
   "metadata": {},
   "outputs": [
    {
     "data": {
      "text/latex": [
       "$\\displaystyle 2$"
      ],
      "text/plain": [
       "2"
      ]
     },
     "execution_count": 46,
     "metadata": {},
     "output_type": "execute_result"
    }
   ],
   "source": [
    "f = (x-1)*(3*x-1)\n",
    "integrate(f,(x,0,2))"
   ]
  },
  {
   "cell_type": "markdown",
   "id": "b434f2ee",
   "metadata": {},
   "source": [
    "## 16."
   ]
  },
  {
   "cell_type": "code",
   "execution_count": 49,
   "id": "2cd6622a",
   "metadata": {},
   "outputs": [
    {
     "data": {
      "text/latex": [
       "$\\displaystyle \\frac{62}{27}$"
      ],
      "text/plain": [
       "62/27"
      ]
     },
     "execution_count": 49,
     "metadata": {},
     "output_type": "execute_result"
    }
   ],
   "source": [
    "f = abs((x-1)*(3*x-1))\n",
    "integrate(f,(x,0,2))"
   ]
  },
  {
   "cell_type": "markdown",
   "id": "558f300b",
   "metadata": {},
   "source": [
    "## 17."
   ]
  },
  {
   "cell_type": "code",
   "execution_count": 51,
   "id": "f6bf689e",
   "metadata": {},
   "outputs": [
    {
     "data": {
      "text/latex": [
       "$\\displaystyle -78$"
      ],
      "text/plain": [
       "-78"
      ]
     },
     "execution_count": 51,
     "metadata": {},
     "output_type": "execute_result"
    }
   ],
   "source": [
    "f = (2*x-5)**3\n",
    "integrate(f,(x,0,3))"
   ]
  },
  {
   "cell_type": "markdown",
   "id": "101533e3",
   "metadata": {},
   "source": [
    "## 18."
   ]
  },
  {
   "cell_type": "code",
   "execution_count": 52,
   "id": "6deae05e",
   "metadata": {},
   "outputs": [
    {
     "data": {
      "text/latex": [
       "$\\displaystyle \\frac{2592}{35}$"
      ],
      "text/plain": [
       "2592/35"
      ]
     },
     "execution_count": 52,
     "metadata": {},
     "output_type": "execute_result"
    }
   ],
   "source": [
    "f = (x**2 - 3)**3\n",
    "integrate(f,(x,-3,3))"
   ]
  },
  {
   "cell_type": "markdown",
   "id": "111d22e1",
   "metadata": {},
   "source": [
    "## 19."
   ]
  },
  {
   "cell_type": "code",
   "execution_count": 54,
   "id": "5f248560",
   "metadata": {},
   "outputs": [
    {
     "data": {
      "text/latex": [
       "$\\displaystyle 625$"
      ],
      "text/plain": [
       "625"
      ]
     },
     "execution_count": 54,
     "metadata": {},
     "output_type": "execute_result"
    }
   ],
   "source": [
    "f = (x-5)**4\n",
    "integrate(f,(x,0,5))"
   ]
  },
  {
   "cell_type": "markdown",
   "id": "28471291",
   "metadata": {},
   "source": [
    "## 20."
   ]
  },
  {
   "cell_type": "code",
   "execution_count": 55,
   "id": "f0f538b2",
   "metadata": {},
   "outputs": [
    {
     "data": {
      "text/latex": [
       "$\\displaystyle - \\frac{2048}{11}$"
      ],
      "text/plain": [
       "-2048/11"
      ]
     },
     "execution_count": 55,
     "metadata": {},
     "output_type": "execute_result"
    }
   ],
   "source": [
    "f = (x+4)**10\n",
    "integrate(f,(x,-2,-4))"
   ]
  }
 ],
 "metadata": {
  "kernelspec": {
   "display_name": "Python 3",
   "language": "python",
   "name": "python3"
  },
  "language_info": {
   "codemirror_mode": {
    "name": "ipython",
    "version": 3
   },
   "file_extension": ".py",
   "mimetype": "text/x-python",
   "name": "python",
   "nbconvert_exporter": "python",
   "pygments_lexer": "ipython3",
   "version": "3.8.10"
  }
 },
 "nbformat": 4,
 "nbformat_minor": 5
}
