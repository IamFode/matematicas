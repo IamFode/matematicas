{
 "cells": [
  {
   "cell_type": "markdown",
   "id": "absent-zealand",
   "metadata": {},
   "source": [
    "# 1.15 Ejercicios"
   ]
  },
  {
   "cell_type": "markdown",
   "id": "large-aggregate",
   "metadata": {},
   "source": [
    "## 10."
   ]
  },
  {
   "cell_type": "markdown",
   "id": "joined-ordering",
   "metadata": {},
   "source": [
    "### (a)"
   ]
  },
  {
   "cell_type": "code",
   "execution_count": 27,
   "id": "caroline-ocean",
   "metadata": {},
   "outputs": [],
   "source": [
    "def s(p):\n",
    "    sp=0\n",
    "    for i in range(0,p):\n",
    "        sp += ((-1)**i) * i\n",
    "    return sp"
   ]
  },
  {
   "cell_type": "code",
   "execution_count": 28,
   "id": "accompanied-treasury",
   "metadata": {},
   "outputs": [
    {
     "name": "stdout",
     "output_type": "stream",
     "text": [
      "1\n",
      "-2\n",
      "0\n"
     ]
    }
   ],
   "source": [
    "print(s(3))\n",
    "print(s(4))\n",
    "print(s(s(3)))"
   ]
  },
  {
   "cell_type": "code",
   "execution_count": 21,
   "id": "monthly-pantyhose",
   "metadata": {},
   "outputs": [
    {
     "data": {
      "text/plain": [
       "-7"
      ]
     },
     "execution_count": 21,
     "metadata": {},
     "output_type": "execute_result"
    }
   ],
   "source": [
    "s(14)"
   ]
  },
  {
   "cell_type": "code",
   "execution_count": 1,
   "id": "cosmetic-hanging",
   "metadata": {},
   "outputs": [],
   "source": [
    "def s(p):\n",
    "    sp=0\n",
    "    for i in range(0,p):\n",
    "        sp += ((-1)**i) * i\n",
    "        if sp == 7 or sp == -7:\n",
    "            print(i)"
   ]
  },
  {
   "cell_type": "code",
   "execution_count": 4,
   "id": "decimal-sheriff",
   "metadata": {},
   "outputs": [
    {
     "name": "stdout",
     "output_type": "stream",
     "text": [
      "13\n",
      "14\n"
     ]
    }
   ],
   "source": [
    "s(1500)"
   ]
  },
  {
   "cell_type": "code",
   "execution_count": null,
   "id": "charged-pickup",
   "metadata": {},
   "outputs": [],
   "source": []
  }
 ],
 "metadata": {
  "kernelspec": {
   "display_name": "Python 3",
   "language": "python",
   "name": "python3"
  },
  "language_info": {
   "codemirror_mode": {
    "name": "ipython",
    "version": 3
   },
   "file_extension": ".py",
   "mimetype": "text/x-python",
   "name": "python",
   "nbconvert_exporter": "python",
   "pygments_lexer": "ipython3",
   "version": "3.8.5"
  }
 },
 "nbformat": 4,
 "nbformat_minor": 5
}
