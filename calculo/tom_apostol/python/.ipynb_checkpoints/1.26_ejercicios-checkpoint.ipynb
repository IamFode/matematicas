{
 "cells": [
  {
   "cell_type": "markdown",
   "id": "4f0cf655-a031-442a-8db5-538d10ba0ba2",
   "metadata": {},
   "source": [
    "# Ejercicios"
   ]
  },
  {
   "cell_type": "code",
   "execution_count": 7,
   "id": "5ed7bdd7-6982-4f7c-930f-8703bfae13ea",
   "metadata": {},
   "outputs": [],
   "source": [
    "# librerias\n",
    "from sympy import * "
   ]
  },
  {
   "cell_type": "markdown",
   "id": "410bc855-d66b-44b7-bf50-f04ed3155aea",
   "metadata": {},
   "source": [
    "## 1."
   ]
  },
  {
   "cell_type": "code",
   "execution_count": 16,
   "id": "ea5da9f1-060b-41ae-9c1f-d50e307352dd",
   "metadata": {},
   "outputs": [
    {
     "data": {
      "text/latex": [
       "$\\displaystyle 9$"
      ],
      "text/plain": [
       "9"
      ]
     },
     "execution_count": 16,
     "metadata": {},
     "output_type": "execute_result"
    }
   ],
   "source": [
    "f = x*2\n",
    "integrate(f,(x,0,3))"
   ]
  },
  {
   "cell_type": "markdown",
   "id": "a86973dd-8995-4328-9b28-efbd1a8a8fd6",
   "metadata": {},
   "source": [
    "## 2."
   ]
  },
  {
   "cell_type": "code",
   "execution_count": 18,
   "id": "f5cf4f5a-c59d-473c-b7b5-3ace029f3898",
   "metadata": {},
   "outputs": [
    {
     "data": {
      "text/latex": [
       "$\\displaystyle 18$"
      ],
      "text/plain": [
       "18"
      ]
     },
     "execution_count": 18,
     "metadata": {},
     "output_type": "execute_result"
    }
   ],
   "source": [
    "f = x**2\n",
    "integrate(f,(x,-3,3))"
   ]
  },
  {
   "cell_type": "markdown",
   "id": "6626d506-0322-4d41-af05-652ebcfbe71e",
   "metadata": {},
   "source": [
    "## 3."
   ]
  },
  {
   "cell_type": "code",
   "execution_count": 21,
   "id": "7a3a0e58-06d1-4668-91d7-73887372e0e0",
   "metadata": {},
   "outputs": [
    {
     "data": {
      "text/latex": [
       "$\\displaystyle 16$"
      ],
      "text/plain": [
       "16"
      ]
     },
     "execution_count": 21,
     "metadata": {},
     "output_type": "execute_result"
    }
   ],
   "source": [
    "f = 4*x**3\n",
    "integrate(f,(x,0,2))"
   ]
  },
  {
   "cell_type": "markdown",
   "id": "ea3cb0ca-0f9a-4ec0-b274-4937d2dc7975",
   "metadata": {},
   "source": [
    "## 4."
   ]
  },
  {
   "cell_type": "code",
   "execution_count": 22,
   "id": "efdba878-4cea-493d-bc61-5415f2d32c34",
   "metadata": {},
   "outputs": [
    {
     "data": {
      "text/latex": [
       "$\\displaystyle 0$"
      ],
      "text/plain": [
       "0"
      ]
     },
     "execution_count": 22,
     "metadata": {},
     "output_type": "execute_result"
    }
   ],
   "source": [
    "f = 4*x**3\n",
    "integrate(f,(x,-2,2))"
   ]
  },
  {
   "cell_type": "markdown",
   "id": "fef8a2a2-c0eb-4f52-8f89-3d19fa821b2b",
   "metadata": {},
   "source": [
    "## 5."
   ]
  },
  {
   "cell_type": "code",
   "execution_count": 23,
   "id": "ba89c0aa-40d3-4e75-b692-9d384b6b157e",
   "metadata": {},
   "outputs": [
    {
     "data": {
      "text/latex": [
       "$\\displaystyle 1$"
      ],
      "text/plain": [
       "1"
      ]
     },
     "execution_count": 23,
     "metadata": {},
     "output_type": "execute_result"
    }
   ],
   "source": [
    "f = 5*x**4\n",
    "integrate(f,(x,0,1))"
   ]
  },
  {
   "cell_type": "markdown",
   "id": "0aceed97-be04-4ae0-b578-26b2cecbc4bf",
   "metadata": {},
   "source": [
    "## 6."
   ]
  },
  {
   "cell_type": "code",
   "execution_count": 24,
   "id": "d6755a96-d82e-41ff-a492-060345488287",
   "metadata": {},
   "outputs": [
    {
     "data": {
      "text/latex": [
       "$\\displaystyle 2$"
      ],
      "text/plain": [
       "2"
      ]
     },
     "execution_count": 24,
     "metadata": {},
     "output_type": "execute_result"
    }
   ],
   "source": [
    "f = 5*x**4\n",
    "integrate(f,(x,-1,1))"
   ]
  },
  {
   "cell_type": "markdown",
   "id": "a23cfa1d-38f5-4f91-93a3-3444b8818642",
   "metadata": {},
   "source": [
    "## 7."
   ]
  },
  {
   "cell_type": "code",
   "execution_count": 25,
   "id": "d3ebd4b9-c590-4c53-b084-26eee214b7ca",
   "metadata": {},
   "outputs": [
    {
     "data": {
      "text/latex": [
       "$\\displaystyle 0$"
      ],
      "text/plain": [
       "0"
      ]
     },
     "execution_count": 25,
     "metadata": {},
     "output_type": "execute_result"
    }
   ],
   "source": [
    "f = 5*x**4 - 4*x**3\n",
    "integrate(f,(x,0,1))"
   ]
  },
  {
   "cell_type": "markdown",
   "id": "1df27b75-8405-41a8-81ef-f7e9bf754f4e",
   "metadata": {},
   "source": [
    "## 8."
   ]
  },
  {
   "cell_type": "code",
   "execution_count": 26,
   "id": "5b522d64-22c6-4982-954f-147b0857586d",
   "metadata": {},
   "outputs": [
    {
     "data": {
      "text/latex": [
       "$\\displaystyle 2$"
      ],
      "text/plain": [
       "2"
      ]
     },
     "execution_count": 26,
     "metadata": {},
     "output_type": "execute_result"
    }
   ],
   "source": [
    "f = 5*x**4 - 4*x**3\n",
    "integrate(f,(x,-1,1))"
   ]
  },
  {
   "cell_type": "markdown",
   "id": "95a0ebc2-bd32-46c8-b231-626462709ccb",
   "metadata": {},
   "source": [
    "## 9."
   ]
  },
  {
   "cell_type": "code",
   "execution_count": 31,
   "id": "5f974043-7d4d-4596-b87f-0ff3766bff7c",
   "metadata": {},
   "outputs": [
    {
     "data": {
      "text/latex": [
       "$\\displaystyle 6$"
      ],
      "text/plain": [
       "6"
      ]
     },
     "execution_count": 31,
     "metadata": {},
     "output_type": "execute_result"
    }
   ],
   "source": [
    "f = x**2 + 1\n",
    "integrate(f,(x,-1,2))"
   ]
  },
  {
   "cell_type": "markdown",
   "id": "dfe339c3-46f4-41ad-a64e-674881746da5",
   "metadata": {},
   "source": [
    "## 10."
   ]
  },
  {
   "cell_type": "code",
   "execution_count": 33,
   "id": "98a60b09-15d4-4849-8011-33564e480926",
   "metadata": {},
   "outputs": [
    {
     "data": {
      "text/latex": [
       "$\\displaystyle 11$"
      ],
      "text/plain": [
       "11"
      ]
     },
     "execution_count": 33,
     "metadata": {},
     "output_type": "execute_result"
    }
   ],
   "source": [
    "f = 3*x**2 - 4*x + 2\n",
    "integrate(f,(x,2,3))"
   ]
  },
  {
   "cell_type": "markdown",
   "id": "29324430-9d6d-40df-aa8c-889479fde41f",
   "metadata": {},
   "source": [
    "## 11."
   ]
  },
  {
   "cell_type": "code",
   "execution_count": 40,
   "id": "adf95872-43f7-44a2-a317-6da2ae1d805b",
   "metadata": {},
   "outputs": [
    {
     "data": {
      "text/latex": [
       "$\\displaystyle 2.625$"
      ],
      "text/plain": [
       "2.62500000000000"
      ]
     },
     "execution_count": 40,
     "metadata": {},
     "output_type": "execute_result"
    }
   ],
   "source": [
    "f = 8*x**3 + 6*x**2 - 2*x + 5\n",
    "integrate(f,(x,0,1/2))"
   ]
  },
  {
   "cell_type": "markdown",
   "id": "99fd506f-3013-4032-83b3-2b6732c9f915",
   "metadata": {},
   "source": [
    "## 12."
   ]
  },
  {
   "cell_type": "code",
   "execution_count": 36,
   "id": "deb7da41-98bd-437e-9523-d7d0a6d7741f",
   "metadata": {},
   "outputs": [
    {
     "data": {
      "text/latex": [
       "$\\displaystyle 18$"
      ],
      "text/plain": [
       "18"
      ]
     },
     "execution_count": 36,
     "metadata": {},
     "output_type": "execute_result"
    }
   ],
   "source": [
    "f = (x-1)*(x-2)\n",
    "integrate(f,(x,-2,4))"
   ]
  },
  {
   "cell_type": "markdown",
   "id": "63577300-583b-44e0-8b9a-bd89fb960228",
   "metadata": {},
   "source": [
    "## 13."
   ]
  },
  {
   "cell_type": "code",
   "execution_count": 42,
   "id": "a3ec831b-0fea-4d38-b7f2-39a7724efc37",
   "metadata": {},
   "outputs": [
    {
     "data": {
      "text/latex": [
       "$\\displaystyle \\frac{1}{3}$"
      ],
      "text/plain": [
       "1/3"
      ]
     },
     "execution_count": 42,
     "metadata": {},
     "output_type": "execute_result"
    }
   ],
   "source": [
    "f = (x+1)**2\n",
    "integrate(f,(x,-1,0))"
   ]
  },
  {
   "cell_type": "markdown",
   "id": "416e4ffa-7bbf-4f74-80d0-2943ef2ed71c",
   "metadata": {},
   "source": [
    "## 14."
   ]
  },
  {
   "cell_type": "code",
   "execution_count": 41,
   "id": "99377dbc-35e7-441e-a852-f6345915a469",
   "metadata": {},
   "outputs": [
    {
     "data": {
      "text/latex": [
       "$\\displaystyle - \\frac{1}{3}$"
      ],
      "text/plain": [
       "-1/3"
      ]
     },
     "execution_count": 41,
     "metadata": {},
     "output_type": "execute_result"
    }
   ],
   "source": [
    "f = (x+1)**2\n",
    "integrate(f,(x,0,-1))"
   ]
  },
  {
   "cell_type": "markdown",
   "id": "32d83d95-8fcc-4ae8-b7c7-cbe4ad161c8a",
   "metadata": {},
   "source": [
    "## 15."
   ]
  },
  {
   "cell_type": "code",
   "execution_count": 46,
   "id": "82238866-0c30-487d-8e2c-6314b3c86598",
   "metadata": {},
   "outputs": [
    {
     "data": {
      "text/latex": [
       "$\\displaystyle 2$"
      ],
      "text/plain": [
       "2"
      ]
     },
     "execution_count": 46,
     "metadata": {},
     "output_type": "execute_result"
    }
   ],
   "source": [
    "f = (x-1)*(3*x-1)\n",
    "integrate(f,(x,0,2))"
   ]
  },
  {
   "cell_type": "markdown",
   "id": "d096c206-7617-4b0a-ae57-17ea6f96bd33",
   "metadata": {},
   "source": [
    "## 16."
   ]
  },
  {
   "cell_type": "code",
   "execution_count": 49,
   "id": "d5ac347d-df02-4574-b169-3e244b1640be",
   "metadata": {},
   "outputs": [
    {
     "data": {
      "text/latex": [
       "$\\displaystyle \\frac{62}{27}$"
      ],
      "text/plain": [
       "62/27"
      ]
     },
     "execution_count": 49,
     "metadata": {},
     "output_type": "execute_result"
    }
   ],
   "source": [
    "f = abs((x-1)*(3*x-1))\n",
    "integrate(f,(x,0,2))"
   ]
  },
  {
   "cell_type": "markdown",
   "id": "c59dc543-ccdb-4c9d-8b1d-3a4e47bd8620",
   "metadata": {},
   "source": [
    "## 17."
   ]
  },
  {
   "cell_type": "code",
   "execution_count": 51,
   "id": "76e87b1f-9e9f-41f6-b587-364ae525d7b4",
   "metadata": {},
   "outputs": [
    {
     "data": {
      "text/latex": [
       "$\\displaystyle -78$"
      ],
      "text/plain": [
       "-78"
      ]
     },
     "execution_count": 51,
     "metadata": {},
     "output_type": "execute_result"
    }
   ],
   "source": [
    "f = (2*x-5)**3\n",
    "integrate(f,(x,0,3))"
   ]
  },
  {
   "cell_type": "markdown",
   "id": "0a29982c-fa8f-4bf4-a994-f082e473a998",
   "metadata": {},
   "source": [
    "## 18."
   ]
  },
  {
   "cell_type": "code",
   "execution_count": 52,
   "id": "2e370d13-12a6-422b-8404-72627ecfa82f",
   "metadata": {},
   "outputs": [
    {
     "data": {
      "text/latex": [
       "$\\displaystyle \\frac{2592}{35}$"
      ],
      "text/plain": [
       "2592/35"
      ]
     },
     "execution_count": 52,
     "metadata": {},
     "output_type": "execute_result"
    }
   ],
   "source": [
    "f = (x**2 - 3)**3\n",
    "integrate(f,(x,-3,3))"
   ]
  },
  {
   "cell_type": "markdown",
   "id": "e61243d3-3867-4c1b-8af4-c6c2a6be2faf",
   "metadata": {},
   "source": [
    "## 19."
   ]
  },
  {
   "cell_type": "code",
   "execution_count": 54,
   "id": "6112eb33-3940-4ea5-a413-d43d24acce76",
   "metadata": {},
   "outputs": [
    {
     "data": {
      "text/latex": [
       "$\\displaystyle 625$"
      ],
      "text/plain": [
       "625"
      ]
     },
     "execution_count": 54,
     "metadata": {},
     "output_type": "execute_result"
    }
   ],
   "source": [
    "f = (x-5)**4\n",
    "integrate(f,(x,0,5))"
   ]
  },
  {
   "cell_type": "markdown",
   "id": "ec2c0d47-9c80-486c-8823-191755f31f7e",
   "metadata": {},
   "source": [
    "## 20."
   ]
  },
  {
   "cell_type": "code",
   "execution_count": 55,
   "id": "8083852a-46cb-4abb-abef-1b83c26d7f5d",
   "metadata": {},
   "outputs": [
    {
     "data": {
      "text/latex": [
       "$\\displaystyle - \\frac{2048}{11}$"
      ],
      "text/plain": [
       "-2048/11"
      ]
     },
     "execution_count": 55,
     "metadata": {},
     "output_type": "execute_result"
    }
   ],
   "source": [
    "f = (x+4)**10\n",
    "integrate(f,(x,-2,-4))"
   ]
  }
 ],
 "metadata": {
  "kernelspec": {
   "display_name": "Python 3",
   "language": "python",
   "name": "python3"
  },
  "language_info": {
   "codemirror_mode": {
    "name": "ipython",
    "version": 3
   },
   "file_extension": ".py",
   "mimetype": "text/x-python",
   "name": "python",
   "nbconvert_exporter": "python",
   "pygments_lexer": "ipython3",
   "version": "3.8.5"
  }
 },
 "nbformat": 4,
 "nbformat_minor": 5
}
