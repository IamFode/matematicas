{
 "cells": [
  {
   "cell_type": "markdown",
   "id": "5faca5d2-2349-4b53-b5e0-d7b3e93ee2a3",
   "metadata": {},
   "source": [
    "# Integración de polinomios "
   ]
  },
  {
   "cell_type": "markdown",
   "id": "b2b4b771-d910-4522-a7fe-dfc67c405c76",
   "metadata": {},
   "source": [
    "#### Empezaremos demostrando 4 teoremas que nos dará paso para demostrar la integración de polinómios"
   ]
  },
  {
   "cell_type": "code",
   "execution_count": null,
   "id": "47e436f2-5e3d-4fab-ad7e-d6452357a959",
   "metadata": {},
   "outputs": [],
   "source": []
  }
 ],
 "metadata": {
  "kernelspec": {
   "display_name": "Python 3",
   "language": "python",
   "name": "python3"
  },
  "language_info": {
   "codemirror_mode": {
    "name": "ipython",
    "version": 3
   },
   "file_extension": ".py",
   "mimetype": "text/x-python",
   "name": "python",
   "nbconvert_exporter": "python",
   "pygments_lexer": "ipython3",
   "version": "3.8.10"
  }
 },
 "nbformat": 4,
 "nbformat_minor": 5
}
