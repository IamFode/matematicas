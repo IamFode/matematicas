{
 "cells": [
  {
   "cell_type": "markdown",
   "id": "1f01896b-8491-4390-a296-c450a5477267",
   "metadata": {},
   "source": [
    "# Ejercicios 2.2"
   ]
  },
  {
   "cell_type": "code",
   "execution_count": 1,
   "id": "cf46bab4-738a-45eb-a008-65d804a91f3a",
   "metadata": {},
   "outputs": [],
   "source": [
    "# Librerias \n",
    "from sympy import limit, oo, Symbol\n",
    "import math"
   ]
  },
  {
   "cell_type": "markdown",
   "id": "1b4fb469-7d2a-46db-b393-89e809bdf124",
   "metadata": {},
   "source": [
    "## 11."
   ]
  },
  {
   "cell_type": "code",
   "execution_count": 7,
   "id": "70f00eff-ea3a-4e53-ae39-ec1df27166d0",
   "metadata": {},
   "outputs": [
    {
     "data": {
      "text/latex": [
       "$\\displaystyle -4$"
      ],
      "text/plain": [
       "-4"
      ]
     },
     "execution_count": 7,
     "metadata": {},
     "output_type": "execute_result"
    }
   ],
   "source": [
    "x = Symbol('x')\n",
    "y = x**2 - 13\n",
    "limit(y,x,-3)"
   ]
  },
  {
   "cell_type": "markdown",
   "id": "54f4a176-d60d-4259-96dd-cd1e43ded83c",
   "metadata": {},
   "source": [
    "## 12."
   ]
  },
  {
   "cell_type": "code",
   "execution_count": 11,
   "id": "e0836d57-60e2-4803-97c0-e6a5add3cd23",
   "metadata": {},
   "outputs": [
    {
     "data": {
      "text/latex": [
       "$\\displaystyle 12$"
      ],
      "text/plain": [
       "12"
      ]
     },
     "execution_count": 11,
     "metadata": {},
     "output_type": "execute_result"
    }
   ],
   "source": [
    "x = Symbol('x')\n",
    "y = (-x)**2 + 5*x - 2\n",
    "limit(y,x,2)"
   ]
  },
  {
   "cell_type": "markdown",
   "id": "a4e2d6ea-0e6f-4430-97e9-0f131486d7a7",
   "metadata": {},
   "source": [
    "## 13."
   ]
  },
  {
   "cell_type": "code",
   "execution_count": 14,
   "id": "9cd94629-63f8-4c99-b014-349c267f173c",
   "metadata": {},
   "outputs": [
    {
     "data": {
      "text/latex": [
       "$\\displaystyle -1$"
      ],
      "text/plain": [
       "-1"
      ]
     },
     "execution_count": 14,
     "metadata": {},
     "output_type": "execute_result"
    }
   ],
   "source": [
    "t = Symbol('t')\n",
    "y = (t-5)*(t-7)\n",
    "limit(y,t,6)"
   ]
  },
  {
   "cell_type": "markdown",
   "id": "ca5d0755-2029-4023-b707-d12fe391c645",
   "metadata": {},
   "source": [
    "## 14."
   ]
  },
  {
   "cell_type": "code",
   "execution_count": 15,
   "id": "a4d8a536-1592-4fbf-889d-88e931b826f6",
   "metadata": {},
   "outputs": [
    {
     "data": {
      "text/latex": [
       "$\\displaystyle -16$"
      ],
      "text/plain": [
       "-16"
      ]
     },
     "execution_count": 15,
     "metadata": {},
     "output_type": "execute_result"
    }
   ],
   "source": [
    "x = Symbol('x')\n",
    "y = x**3 -2*x**2 + 4*x + 8\n",
    "limit(y,x,-2)"
   ]
  },
  {
   "cell_type": "markdown",
   "id": "917c0968-79f9-450e-9c27-c2e6e4ffcc97",
   "metadata": {},
   "source": [
    "## 15."
   ]
  },
  {
   "cell_type": "code",
   "execution_count": 16,
   "id": "9a910ee7-4859-4402-8bcf-fcad7fddc6c4",
   "metadata": {},
   "outputs": [
    {
     "data": {
      "text/latex": [
       "$\\displaystyle 3$"
      ],
      "text/plain": [
       "3"
      ]
     },
     "execution_count": 16,
     "metadata": {},
     "output_type": "execute_result"
    }
   ],
   "source": [
    "x = Symbol('x')\n",
    "y = (2*x+5)/(11-x**3)\n",
    "limit(y,x,2)"
   ]
  },
  {
   "cell_type": "markdown",
   "id": "9bb0eb26-e215-44b6-950f-0944781d8948",
   "metadata": {},
   "source": [
    "## 16."
   ]
  },
  {
   "cell_type": "code",
   "execution_count": 19,
   "id": "93c77cdc-7d68-467e-bf91-752e5757d93f",
   "metadata": {},
   "outputs": [
    {
     "data": {
      "text/latex": [
       "$\\displaystyle 2.0$"
      ],
      "text/plain": [
       "2.00000000000000"
      ]
     },
     "execution_count": 19,
     "metadata": {},
     "output_type": "execute_result"
    }
   ],
   "source": [
    "s = Symbol('s')\n",
    "y = (8-3*s)*(2*s-1)\n",
    "limit(y,s,2/3)"
   ]
  },
  {
   "cell_type": "markdown",
   "id": "03962986-4b40-42a3-86c6-9d7737772ebf",
   "metadata": {},
   "source": [
    "## 17."
   ]
  },
  {
   "cell_type": "code",
   "execution_count": 25,
   "id": "6c4db839-24ed-48b2-83f3-118a17c9df85",
   "metadata": {},
   "outputs": [
    {
     "data": {
      "text/latex": [
       "$\\displaystyle -12.5$"
      ],
      "text/plain": [
       "-12.5000000000000"
      ]
     },
     "execution_count": 25,
     "metadata": {},
     "output_type": "execute_result"
    }
   ],
   "source": [
    "x = Symbol('x')\n",
    "y = 4*x*(3*x+4)**2\n",
    "limit(y,x,-1/2)"
   ]
  },
  {
   "cell_type": "markdown",
   "id": "8a45414f-ac93-4809-90da-0dc79c71dac7",
   "metadata": {},
   "source": [
    "## 18."
   ]
  },
  {
   "cell_type": "code",
   "execution_count": 27,
   "id": "a4c2d07a-c6d0-4849-9e74-566f65f10644",
   "metadata": {},
   "outputs": [
    {
     "data": {
      "text/latex": [
       "$\\displaystyle \\frac{1}{5}$"
      ],
      "text/plain": [
       "1/5"
      ]
     },
     "execution_count": 27,
     "metadata": {},
     "output_type": "execute_result"
    }
   ],
   "source": [
    "y = Symbol('y')\n",
    "f = (y+2)/(y**2 + 5*y + 6)\n",
    "limit(f,y,2)"
   ]
  },
  {
   "cell_type": "markdown",
   "id": "1ca0717d-616d-4c67-aa31-b51a3fdab858",
   "metadata": {},
   "source": [
    "## 19."
   ]
  },
  {
   "cell_type": "code",
   "execution_count": 29,
   "id": "953929f1-30ed-4ca0-bfca-d54a6ba4e5d6",
   "metadata": {},
   "outputs": [
    {
     "data": {
      "text/latex": [
       "$\\displaystyle 16.0$"
      ],
      "text/plain": [
       "16.0000000000000"
      ]
     },
     "execution_count": 29,
     "metadata": {},
     "output_type": "execute_result"
    }
   ],
   "source": [
    "y = Symbol('y')\n",
    "f = (5-y)**(4/3)\n",
    "limit(f,y,-3)"
   ]
  },
  {
   "cell_type": "markdown",
   "id": "3a6cd217-b237-41b5-a485-85ed9d362a65",
   "metadata": {},
   "source": [
    "## 20."
   ]
  },
  {
   "cell_type": "code",
   "execution_count": 35,
   "id": "a2f85679-f968-4e96-9266-48b20f5fc281",
   "metadata": {},
   "outputs": [
    {
     "data": {
      "text/latex": [
       "$\\displaystyle 2.44948974278318$"
      ],
      "text/plain": [
       "2.44948974278318"
      ]
     },
     "execution_count": 35,
     "metadata": {},
     "output_type": "execute_result"
    }
   ],
   "source": [
    "z = Symbol('z')\n",
    "y = (z**2-10)**(1/2)\n",
    "limit(y,z,4)"
   ]
  },
  {
   "cell_type": "markdown",
   "id": "435b2e49-bd60-460e-9c76-82b56f233d7c",
   "metadata": {},
   "source": [
    "## 21."
   ]
  },
  {
   "cell_type": "code",
   "execution_count": 39,
   "id": "dfad0ca0-ca76-42c4-a62e-60973b991664",
   "metadata": {},
   "outputs": [
    {
     "data": {
      "text/latex": [
       "$\\displaystyle \\frac{3}{2}$"
      ],
      "text/plain": [
       "3/2"
      ]
     },
     "execution_count": 39,
     "metadata": {},
     "output_type": "execute_result"
    }
   ],
   "source": [
    "h = Symbol('h')\n",
    "y = 3/((3*h+1)**(1/2)+1)\n",
    "limit(y,h,0)"
   ]
  },
  {
   "cell_type": "markdown",
   "id": "ab4662a8-0307-4e76-94d1-e01eaa9d63a4",
   "metadata": {},
   "source": [
    "## 22."
   ]
  },
  {
   "cell_type": "code",
   "execution_count": 41,
   "id": "9d56cda1-13d2-4d63-8553-bab004a7c3c9",
   "metadata": {},
   "outputs": [
    {
     "data": {
      "text/latex": [
       "$\\displaystyle 1.25$"
      ],
      "text/plain": [
       "1.25000000000000"
      ]
     },
     "execution_count": 41,
     "metadata": {},
     "output_type": "execute_result"
    }
   ],
   "source": [
    "h = Symbol('h')\n",
    "y = ((5*h+4)**(1/2)-2)/h\n",
    "limit(y,h,0)"
   ]
  },
  {
   "cell_type": "markdown",
   "id": "1b1948dd-2281-45c4-922f-8233f736b5c1",
   "metadata": {},
   "source": [
    "## 23."
   ]
  },
  {
   "cell_type": "code",
   "execution_count": 43,
   "id": "8830930f-9991-4db4-9e39-2599b04f6e6c",
   "metadata": {},
   "outputs": [
    {
     "data": {
      "text/latex": [
       "$\\displaystyle \\frac{1}{10}$"
      ],
      "text/plain": [
       "1/10"
      ]
     },
     "execution_count": 43,
     "metadata": {},
     "output_type": "execute_result"
    }
   ],
   "source": [
    "x = Symbol('x')\n",
    "y = (x-5)/(x**2-25)\n",
    "limit(y,x,5)"
   ]
  },
  {
   "cell_type": "markdown",
   "id": "7c0b0a47-dc5e-45ef-a6d1-6742e147ada8",
   "metadata": {},
   "source": [
    "## 24."
   ]
  },
  {
   "cell_type": "code",
   "execution_count": 44,
   "id": "e7bdd5e6-2133-47f3-ad52-bcf27401551b",
   "metadata": {},
   "outputs": [
    {
     "data": {
      "text/latex": [
       "$\\displaystyle - \\frac{1}{2}$"
      ],
      "text/plain": [
       "-1/2"
      ]
     },
     "execution_count": 44,
     "metadata": {},
     "output_type": "execute_result"
    }
   ],
   "source": [
    "x = Symbol('x')\n",
    "y = (x+3)/(x**2+4*x+3)\n",
    "limit(y,x,-3)"
   ]
  },
  {
   "cell_type": "markdown",
   "id": "5fff754b-6c1c-4e7f-adb2-847eeb9202e6",
   "metadata": {},
   "source": [
    "## 25."
   ]
  },
  {
   "cell_type": "code",
   "execution_count": 47,
   "id": "fcfdbdae-fd63-429b-8cbc-2b6b44ad0177",
   "metadata": {},
   "outputs": [
    {
     "data": {
      "text/latex": [
       "$\\displaystyle -7$"
      ],
      "text/plain": [
       "-7"
      ]
     },
     "execution_count": 47,
     "metadata": {},
     "output_type": "execute_result"
    }
   ],
   "source": [
    "x = Symbol('x')\n",
    "y = (x**2+3*x-10)/(x+5)\n",
    "limit(y,x,-5)"
   ]
  },
  {
   "cell_type": "markdown",
   "id": "4f620cc7-6057-45a2-a256-8ddc86ea2a17",
   "metadata": {},
   "source": [
    "## 26."
   ]
  },
  {
   "cell_type": "code",
   "execution_count": 48,
   "id": "4665caa1-a4af-4ba1-972d-d32d158f09cf",
   "metadata": {},
   "outputs": [
    {
     "data": {
      "text/latex": [
       "$\\displaystyle -3$"
      ],
      "text/plain": [
       "-3"
      ]
     },
     "execution_count": 48,
     "metadata": {},
     "output_type": "execute_result"
    }
   ],
   "source": [
    "x = Symbol('x')\n",
    "y = (x**2-7*x+10)/(x-2)\n",
    "limit(y,x,2)"
   ]
  },
  {
   "cell_type": "markdown",
   "id": "c0cc1fbc-1637-4afc-b937-2781b45c7cc3",
   "metadata": {},
   "source": [
    "## 27."
   ]
  },
  {
   "cell_type": "code",
   "execution_count": 49,
   "id": "a9b71ca3-0b90-42a2-995a-d3c5048365d9",
   "metadata": {},
   "outputs": [
    {
     "data": {
      "text/latex": [
       "$\\displaystyle \\frac{3}{2}$"
      ],
      "text/plain": [
       "3/2"
      ]
     },
     "execution_count": 49,
     "metadata": {},
     "output_type": "execute_result"
    }
   ],
   "source": [
    "t = Symbol('t')\n",
    "y = (t**2+t-2)/(t**2-1)\n",
    "limit(y,t,1)"
   ]
  },
  {
   "cell_type": "markdown",
   "id": "8ff5333d-0333-4ccf-9a79-5be49f9e47ca",
   "metadata": {},
   "source": [
    "## 28."
   ]
  },
  {
   "cell_type": "code",
   "execution_count": 50,
   "id": "f3cb38b5-90a3-46d1-a103-641cb3424055",
   "metadata": {},
   "outputs": [
    {
     "data": {
      "text/latex": [
       "$\\displaystyle - \\frac{1}{3}$"
      ],
      "text/plain": [
       "-1/3"
      ]
     },
     "execution_count": 50,
     "metadata": {},
     "output_type": "execute_result"
    }
   ],
   "source": [
    "t = Symbol('t')\n",
    "y = (t**2+3*t+2)/(t**2-t-2)\n",
    "limit(y,t,-1)"
   ]
  },
  {
   "cell_type": "markdown",
   "id": "1eeeedf9-6ae7-4512-83d4-96997b3746d9",
   "metadata": {},
   "source": [
    "## 29."
   ]
  },
  {
   "cell_type": "code",
   "execution_count": 51,
   "id": "3433a066-ab34-4f8d-8b27-d55d7b1f9320",
   "metadata": {},
   "outputs": [
    {
     "data": {
      "text/latex": [
       "$\\displaystyle - \\frac{1}{2}$"
      ],
      "text/plain": [
       "-1/2"
      ]
     },
     "execution_count": 51,
     "metadata": {},
     "output_type": "execute_result"
    }
   ],
   "source": [
    "x = Symbol('x')\n",
    "y = (-2*x-4)/(x**3+2*x**2)\n",
    "limit(y,x,-2)"
   ]
  },
  {
   "cell_type": "code",
   "execution_count": 54,
   "id": "28a92d1d-236e-4cb2-8bd0-a6e8027b11ef",
   "metadata": {},
   "outputs": [
    {
     "data": {
      "text/latex": [
       "$\\displaystyle - \\frac{1}{2}$"
      ],
      "text/plain": [
       "-1/2"
      ]
     },
     "execution_count": 54,
     "metadata": {},
     "output_type": "execute_result"
    }
   ],
   "source": [
    "y = Symbol('y')\n",
    "f = (5*y**3+8*y**2)/(3*y**4 - 16*y**2)\n",
    "limit(f,y,0)"
   ]
  },
  {
   "cell_type": "markdown",
   "id": "ae9f05b2-8950-4f22-bc71-3e83a337e300",
   "metadata": {},
   "source": [
    "## 31."
   ]
  },
  {
   "cell_type": "code",
   "execution_count": 3,
   "id": "d1224860-82fa-4adc-b770-8746153fcf66",
   "metadata": {},
   "outputs": [
    {
     "data": {
      "text/latex": [
       "$\\displaystyle -1$"
      ],
      "text/plain": [
       "-1"
      ]
     },
     "execution_count": 3,
     "metadata": {},
     "output_type": "execute_result"
    }
   ],
   "source": [
    "x = Symbol('x')\n",
    "y = ((1/x)-1)/(x-1)\n",
    "limit(y,x,1)"
   ]
  },
  {
   "cell_type": "markdown",
   "id": "008cd1ce-95c0-419a-988d-f86ef432c59d",
   "metadata": {},
   "source": [
    "## 32"
   ]
  },
  {
   "cell_type": "code",
   "execution_count": 6,
   "id": "cb8df88f-bceb-4816-9523-b9f426a59c23",
   "metadata": {},
   "outputs": [
    {
     "data": {
      "text/latex": [
       "$\\displaystyle -2$"
      ],
      "text/plain": [
       "-2"
      ]
     },
     "execution_count": 6,
     "metadata": {},
     "output_type": "execute_result"
    }
   ],
   "source": [
    "x = Symbol('x')\n",
    "y = ((1/(x-1))+(1/(x+1)))/(x)\n",
    "limit(y,x,0)"
   ]
  },
  {
   "cell_type": "code",
   "execution_count": 8,
   "id": "6ab8f320-88da-48a4-80ba-bd5cb7ee15b9",
   "metadata": {},
   "outputs": [
    {
     "data": {
      "text/latex": [
       "$\\displaystyle \\frac{4}{3}$"
      ],
      "text/plain": [
       "4/3"
      ]
     },
     "execution_count": 8,
     "metadata": {},
     "output_type": "execute_result"
    }
   ],
   "source": [
    "u = Symbol('u')\n",
    "y = (u**4-1)/(u**3 - 1)\n",
    "limit(y,u,1)"
   ]
  },
  {
   "cell_type": "code",
   "execution_count": 9,
   "id": "127a4a92-3c2c-4356-a476-6f4c1bf93fd1",
   "metadata": {},
   "outputs": [
    {
     "data": {
      "text/latex": [
       "$\\displaystyle \\frac{3}{8}$"
      ],
      "text/plain": [
       "3/8"
      ]
     },
     "execution_count": 9,
     "metadata": {},
     "output_type": "execute_result"
    }
   ],
   "source": [
    "u = Symbol('u')\n",
    "y = (u**3-8)/(u**4 - 16)\n",
    "limit(y,u,2)"
   ]
  },
  {
   "cell_type": "markdown",
   "id": "88e269d0-e0e5-4ad1-bb7b-aaf8fc4c59bd",
   "metadata": {},
   "source": [
    "## 35"
   ]
  },
  {
   "cell_type": "code",
   "execution_count": 3,
   "id": "c83c3f64-ecd9-41de-84d4-85756d80e79e",
   "metadata": {},
   "outputs": [
    {
     "data": {
      "text/latex": [
       "$\\displaystyle \\frac{1}{4}$"
      ],
      "text/plain": [
       "1/4"
      ]
     },
     "execution_count": 3,
     "metadata": {},
     "output_type": "execute_result"
    }
   ],
   "source": [
    "u = Symbol('u')\n",
    "f = (u**(1/2)-3)/(u-9)\n",
    "limit(f,u,1)"
   ]
  },
  {
   "cell_type": "markdown",
   "id": "62a2c74d-6573-4b47-8403-ac03d7d7d5bd",
   "metadata": {},
   "source": [
    "## 36."
   ]
  },
  {
   "cell_type": "code",
   "execution_count": 12,
   "id": "f5a31dc6-4081-4a19-a574-04ff562fb3b0",
   "metadata": {},
   "outputs": [
    {
     "data": {
      "text/latex": [
       "$\\displaystyle 16.0$"
      ],
      "text/plain": [
       "16.0000000000000"
      ]
     },
     "execution_count": 12,
     "metadata": {},
     "output_type": "execute_result"
    }
   ],
   "source": [
    "x = Symbol('x')\n",
    "f = (4*x - x**2)/(2 - (x)**(1/2))\n",
    "limit(f,x,4)"
   ]
  },
  {
   "cell_type": "markdown",
   "id": "98c145ca-ef7e-40d0-b59d-3002dae5dd7a",
   "metadata": {},
   "source": [
    "## 37."
   ]
  },
  {
   "cell_type": "code",
   "execution_count": 13,
   "id": "c71ecb6c-aa81-4ab3-b5d6-386cfa682d97",
   "metadata": {},
   "outputs": [
    {
     "data": {
      "text/latex": [
       "$\\displaystyle 4.0$"
      ],
      "text/plain": [
       "4.00000000000000"
      ]
     },
     "execution_count": 13,
     "metadata": {},
     "output_type": "execute_result"
    }
   ],
   "source": [
    "x = Symbol('x')\n",
    "f = (x-1)/((x+3)**(1/2)-2)\n",
    "limit(f,x,1)"
   ]
  },
  {
   "cell_type": "markdown",
   "id": "aee8108a-6875-457f-af47-d5707f03e7cd",
   "metadata": {},
   "source": [
    "## 38."
   ]
  },
  {
   "cell_type": "code",
   "execution_count": 14,
   "id": "a4c5ca69-9e23-456f-bc37-af5df0c75c3b",
   "metadata": {},
   "outputs": [
    {
     "data": {
      "text/latex": [
       "$\\displaystyle -0.333333333333333$"
      ],
      "text/plain": [
       "-0.333333333333333"
      ]
     },
     "execution_count": 14,
     "metadata": {},
     "output_type": "execute_result"
    }
   ],
   "source": [
    "x = Symbol('x')\n",
    "f = ((x**2+8)**(1/2)-3)/(x+1) \n",
    "limit(f,x,-1)"
   ]
  },
  {
   "cell_type": "markdown",
   "id": "0990b144-3928-403c-88c1-0d078942ea39",
   "metadata": {},
   "source": [
    "## 39."
   ]
  },
  {
   "cell_type": "code",
   "execution_count": 2,
   "id": "a3ab5f9e-09ba-45de-97ad-3be435949372",
   "metadata": {},
   "outputs": [
    {
     "data": {
      "text/latex": [
       "$\\displaystyle 0.5$"
      ],
      "text/plain": [
       "0.500000000000000"
      ]
     },
     "execution_count": 2,
     "metadata": {},
     "output_type": "execute_result"
    }
   ],
   "source": [
    "x = Symbol('x')\n",
    "f = ((x**2+12)**(1/2)-4)/(x-2) \n",
    "limit(f,x,2)"
   ]
  },
  {
   "cell_type": "markdown",
   "id": "f8c26a54-0b5b-4297-95f3-f461d87b9bfc",
   "metadata": {},
   "source": [
    "## 40. "
   ]
  },
  {
   "cell_type": "code",
   "execution_count": 7,
   "id": "d22976f5-f161-4ffc-95f3-f7f86022c8b9",
   "metadata": {},
   "outputs": [
    {
     "data": {
      "text/latex": [
       "$\\displaystyle -1.5$"
      ],
      "text/plain": [
       "-1.50000000000000"
      ]
     },
     "execution_count": 7,
     "metadata": {},
     "output_type": "execute_result"
    }
   ],
   "source": [
    "x = Symbol('x')\n",
    "f = (x+2)/((x**2+5)**(1/2)-3) \n",
    "limit(f,x,-2)"
   ]
  },
  {
   "cell_type": "markdown",
   "id": "19bf28d3-99c1-4142-99a2-b2b608b26027",
   "metadata": {},
   "source": [
    "## 41."
   ]
  },
  {
   "cell_type": "code",
   "execution_count": 8,
   "id": "3127d4a5-de27-465a-afaf-3a72c0bdb9b3",
   "metadata": {},
   "outputs": [
    {
     "data": {
      "text/latex": [
       "$\\displaystyle 1.5$"
      ],
      "text/plain": [
       "1.50000000000000"
      ]
     },
     "execution_count": 8,
     "metadata": {},
     "output_type": "execute_result"
    }
   ],
   "source": [
    "x = Symbol('x')\n",
    "f = (2-(x**2-5)**(1/2))/(x+3) \n",
    "limit(f,x,-3)"
   ]
  },
  {
   "cell_type": "markdown",
   "id": "97aab065-646c-4278-b408-184c594b8c7d",
   "metadata": {},
   "source": [
    "## 42."
   ]
  },
  {
   "cell_type": "code",
   "execution_count": 10,
   "id": "a43bc11d-963f-4508-bd61-1441d694a734",
   "metadata": {},
   "outputs": [
    {
     "data": {
      "text/latex": [
       "$\\displaystyle 1.25$"
      ],
      "text/plain": [
       "1.25000000000000"
      ]
     },
     "execution_count": 10,
     "metadata": {},
     "output_type": "execute_result"
    }
   ],
   "source": [
    "x = Symbol('x')\n",
    "f = (4-x)/(5-(x**2+9)**(1/2)) \n",
    "limit(f,x,4)"
   ]
  }
 ],
 "metadata": {
  "kernelspec": {
   "display_name": "Python 3",
   "language": "python",
   "name": "python3"
  },
  "language_info": {
   "codemirror_mode": {
    "name": "ipython",
    "version": 3
   },
   "file_extension": ".py",
   "mimetype": "text/x-python",
   "name": "python",
   "nbconvert_exporter": "python",
   "pygments_lexer": "ipython3",
   "version": "3.8.10"
  }
 },
 "nbformat": 4,
 "nbformat_minor": 5
}
